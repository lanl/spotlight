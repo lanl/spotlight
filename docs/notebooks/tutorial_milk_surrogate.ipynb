{
 "cells": [
  {
   "cell_type": "markdown",
   "id": "37ec3e84",
   "metadata": {},
   "source": [
    "# Find the starting lattice parameters using MILK\n",
    "\n",
    "Text..."
   ]
  }
 ],
 "metadata": {
  "kernelspec": {
   "display_name": "Python 3 (ipykernel)",
   "language": "python",
   "name": "python3"
  },
  "language_info": {
   "codemirror_mode": {
    "name": "ipython",
    "version": 3
   },
   "file_extension": ".py",
   "mimetype": "text/x-python",
   "name": "python",
   "nbconvert_exporter": "python",
   "pygments_lexer": "ipython3",
   "version": "3.8.13"
  }
 },
 "nbformat": 4,
 "nbformat_minor": 5
}

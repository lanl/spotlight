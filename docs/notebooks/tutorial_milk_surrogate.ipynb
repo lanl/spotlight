{
 "cells": [
  {
   "cell_type": "markdown",
   "id": "37ec3e84",
   "metadata": {},
   "source": [
    "# Find the starting lattice parameters using MILK\n",
    "\n",
    "Until now in this tutorial we have focused on a general problem.\n",
    "Now we will apply what we have done to a Rietveld analysis.\n",
    "\n",
    "The key concepts you should gain from this page:\n",
    "\n",
    " * How to create a surrogate model of an expensive cost function and use the surrogate model to guide the optimization."
   ]
  },
  {
   "cell_type": "markdown",
   "id": "ce91d6cb",
   "metadata": {},
   "source": [
    "## Define cost function using MILK\n",
    "\n",
    "In our prior problems, we define a cost function to optimize.\n",
    "Here, we will do the same using MILK to define a cost function that sets the lattice parameters and returns the R-factor.\n",
    "\n",
    "This cost function is setup a little different than before.\n",
    "Our ``CostFunction.function`` is has calls to ``CostFunction.initialize`` and a ``CostFunction.cost_function``.\n",
    "\n",
    "MILK will want to setup a directory with files that are read by MAUD.\n",
    "Therefore, there is an ``CostFunciton.initialize`` function which is called once at the very beginning of an optimization.\n",
    "This ``initialize`` simply sets up the directory (e.g. copy needed files).\n",
    "\n",
    "Then there is the ``CostFunction.cost_function`` which sets the lattice parameters using MILK, does a refinement step, and returns the R-factor."
   ]
  },
  {
   "cell_type": "code",
   "execution_count": 26,
   "id": "bcdb9c69",
   "metadata": {},
   "outputs": [],
   "source": [
    "import MILK\n",
    "from mystic import models\n",
    "import time\n",
    "\n",
    "class CostFunction(models.AbstractFunction):\n",
    "\n",
    "    def __init__(self, ndim=None):\n",
    "        super().__init__(ndim=ndim)\n",
    "        self.initialized = False\n",
    "\n",
    "    def reset(self):\n",
    "        self.initialized = False\n",
    "\n",
    "    def function(self, p):\n",
    "        if not self.initialized:\n",
    "            self.initialize()\n",
    "            self.initialized = True\n",
    "        return self.cost_function(p)\n",
    "\n",
    "    def initialize(self):\n",
    "\n",
    "        # get editor and maudText\n",
    "        self.editor = MILK.parameterEditor.editor()\n",
    "        self.editor.parseConfig(config)\n",
    "        self.maudText = MILK.maud.maudText()\n",
    "        self.maudText.parseConfig(config)\n",
    "\n",
    "        # set data file\n",
    "        data_files = [[\"PWDR_ff_004768_sum_norm_dc_0_tif_A352_fxye_Bank_1.chi\"]]\n",
    "\n",
    "        # set run dir based on process name\n",
    "        self.editor.run_dirs = f\"opt_{multiprocess.current_process().name}\"\n",
    "        self.maudText.run_dirs = self.editor.run_dirs\n",
    "\n",
    "        # create run dir\n",
    "        if os.path.exists(self.editor.run_dirs):\n",
    "            shutil.rmtree(self.editor.run_dirs)\n",
    "        filesystem.mkdir(self.editor.run_dirs)\n",
    "        filesystem.cp([self.editor.ifile], dest=self.editor.run_dirs)\n",
    "\n",
    "        # set initial phase fractions\n",
    "        self.editor.set_val(key='_pd_phase_atom_', value='0.33')\n",
    "        self.editor.free(key='_pd_phase_atom_', wild=[0])\n",
    "\n",
    "    def cost_function(self, p):\n",
    "\n",
    "        t0 = time.time()\n",
    "\n",
    "        # set lattice parameters as values from optimization\n",
    "        self.editor.set_val(key='cell_length_a', sobj=\"alpha\", value=str(p[0]))\n",
    "        self.editor.set_val(key='cell_length_c', sobj=\"alpha\", value=str(p[1]))\n",
    "        self.editor.set_val(key='cell_length_a', sobj=\"steel\", value=str(p[2]))\n",
    "        self.editor.set_val(key='cell_length_c', sobj=\"beta\", value=str(p[3]))\n",
    "\n",
    "        # refine\n",
    "        self.maudText.refinement(itr='1', ifile=self.editor.ifile, ofile=self.editor.ofile)\n",
    "\n",
    "        # get the statistic to return to the optimizer\n",
    "        self.editor.get_val(key=\"_refine_ls_wR_factor_all\")\n",
    "        stat = float(self.editor.value[0])\n",
    "\n",
    "        print(\"STAT\", stat, time.time() - t0)\n",
    "\n",
    "        return stat"
   ]
  },
  {
   "cell_type": "markdown",
   "id": "1bdcaf11",
   "metadata": {},
   "source": [
    "## Configure MILK\n",
    "\n",
    "We will also need to configure MILK for our refinement.\n",
    "The following is an example of setting MILK to use the [MILK XRD Tutorial dataset](https://github.com/lanl/MILK/wiki/XRD-Tutorial).\n",
    "For more documentation on the settings of these parameters, see the MILK tutorial."
   ]
  },
  {
   "cell_type": "code",
   "execution_count": 23,
   "id": "92362ef1",
   "metadata": {},
   "outputs": [],
   "source": [
    "# set dataset configuration\n",
    "dataset_config = {\"2theta\": [3.4, 11.1],\n",
    "                  \"data_dir\": \"data/\",\n",
    "                  \"data_ext\": \".chi\",\n",
    "                  \"data_group_size\": 1,\n",
    "                  \"template_name\": \"template.par\"}\n",
    "\n",
    "# set MILK configuration\n",
    "config = {\"folders\": {\"work_dir\": \"\",\n",
    "                      \"run_dirs\": \"ack(wild)\",\n",
    "                      \"sub_dir\": \"\",\n",
    "                      \"wild\": [0],\n",
    "                      \"wild_range\": [[]],\n",
    "          },\n",
    "          \"compute\": {\"maud_path\": \"\",\n",
    "                      \"n_maud\": 1,\n",
    "                      \"java_opt\": \"Xmx8G\",\n",
    "                      \"clean_old_step_data\": False,\n",
    "                      \"cur_step\": 1,\n",
    "                      \"log_consol\": False,\n",
    "          },\n",
    "          \"ins\": {\"riet_analysis_file\": \"template.par\",\n",
    "                  \"riet_analysis_fileToSave\": \"output.par\",\n",
    "                  \"section_title\": \"Ti64_test_data\",\n",
    "                  \"analysis_iteration_number\": 4,\n",
    "                  \"LCLS2_detector_config_file\": \"\",\n",
    "                  \"LCLS2_Cspad0_original_image\": \"\",\n",
    "                  \"LCLS2_Cspad0_dark_image\": \"\",\n",
    "                  \"output_plot2D_filename\": \"plot_\",\n",
    "                  \"output_summed_data_filename\": \"all_spectra\",\n",
    "                  \"maud_output_plot_filename\": \"plot1d_\",\n",
    "                  \"output_PF_filename\": \"PF_\",\n",
    "                  \"output_PF\": \"\",\n",
    "                  \"append_simple_result_to\": \"tmp_simple_results.txt\",\n",
    "                  \"append_result_to\": \"tmp_results.txt\",\n",
    "                  \"import_phase\": [],\n",
    "                  \"ins_file_name\": \"MAUDText.ins\",\n",
    "                  \"maud_remove_all_datafiles\": True,\n",
    "                  \"verbose\": 0,\n",
    "          },\n",
    "          \"interface\": {\"verbose\": 0,\n",
    "          },\n",
    "}"
   ]
  },
  {
   "cell_type": "markdown",
   "id": "c60b1cbe",
   "metadata": {},
   "source": [
    "## Finding the starting lattice parameters of a Rietveld analysis by optimizing a surrogate model\n",
    "\n",
    "In the prior page of the tutorial, we went over how to find the global minimum of using a surrogate model.\n",
    "Recall, that we constructed an interpolated model using the ``InterpModel`` and then minimized until our surrogate and cost function reached <0.001 difference.\n",
    "\n",
    "Applying this to Rietveld analysis, the global minimum is the best fit parameters for our data.\n",
    "Below, we follow the same pattern using ``InterpModel`` to create an interpolated surrogate model.\n",
    "In the ``while`` loop we continuously update the surrogate model, find the minimum of the surrogate model, then evaluate that minimum using our actual cost function (``CostFunction.function`` above) using MILK, and continue until we are below a threshold of agreement between the surrogate model and the actual cost function.\n",
    "\n",
    "Recall, we introduced this approach because we were able to find a minimum with fewer calls to the actual cost function.\n",
    "In this case, a call to MILK may take several seconds and in an optimization algorithm calling that hundreds or thousands of times, the time can be hours."
   ]
  },
  {
   "cell_type": "code",
   "execution_count": 31,
   "id": "1ab057c7",
   "metadata": {},
   "outputs": [
    {
     "name": "stdout",
     "output_type": "stream",
     "text": [
      "\n",
      "Starting MAUD refinement for step 1\n",
      "=========================\n"
     ]
    },
    {
     "name": "stderr",
     "output_type": "stream",
     "text": [
      "100%|███████████████████████████████████████████████████████████████████████████████████████████████████████████████████████████████████████████████████| 1/1 [00:08<00:00,  8.52s/it]"
     ]
    },
    {
     "name": "stdout",
     "output_type": "stream",
     "text": [
      "\n",
      "Archiving step data\n",
      "+----------------------------------+-----------+--+\n",
      "|              Title               |   Rwp(%)  |  |\n",
      "+----------------------------------+-----------+--+\n",
      "| opt_MainProcess/Ti64_test_data01 | 52.369053 |  |\n",
      "+----------------------------------+-----------+--+\n",
      "+----------------------------------+-----------+------------+----------+-----------+----------+-----------+--------------------+--------------------+----------------+--------------+------------+----------+-----------+-----------+-----------+--------------------+----------------+--------------+------------+-----------+----------+----------+-----------+--------------------+----------------+--------------+--+\n",
      "|              Title               |   Rwp(%)  | Phase_Name | Vol.(%)  |  error(%) |  Wt.(%)  |  error(%) | Cell_Par(Angstrom) | Cell_Par(Angstrom) | Size(Angstrom) | Microstrain  | Phase_Name | Vol.(%)  |  error(%) |   Wt.(%)  |  error(%) | Cell_Par(Angstrom) | Size(Angstrom) | Microstrain  | Phase_Name |  Vol.(%)  | error(%) |  Wt.(%)  |  error(%) | Cell_Par(Angstrom) | Size(Angstrom) | Microstrain  |  |\n",
      "+----------------------------------+-----------+------------+----------+-----------+----------+-----------+--------------------+--------------------+----------------+--------------+------------+----------+-----------+-----------+-----------+--------------------+----------------+--------------+------------+-----------+----------+----------+-----------+--------------------+----------------+--------------+--+\n",
      "| opt_MainProcess/Ti64_test_data01 | 52.369053 |   alpha    | 4.928917 | 0.5289758 | 6.497005 | 0.6972644 |     2.8573875      |     4.6817646      |     1000.0     | 1.2628998E-5 |   steel    | 31.90023 | 0.6309352 | 60.644444 | 1.1994494 |     3.6026807      |     1000.0     | 0.0020088213 |    beta    | 63.170856 | 3.260701 | 32.85855 | 1.6960655 |      3.233392      |     1000.0     | 0.0029512863 |  |\n",
      "+----------------------------------+-----------+------------+----------+-----------+----------+-----------+--------------------+--------------------+----------------+--------------+------------+----------+-----------+-----------+-----------+--------------------+----------------+--------------+------------+-----------+----------+----------+-----------+--------------------+----------------+--------------+--+\n",
      "STAT 0.5236905 8.584423303604126\n",
      "\n",
      "Starting MAUD refinement for step 1\n",
      "=========================\n"
     ]
    },
    {
     "name": "stderr",
     "output_type": "stream",
     "text": [
      "\n",
      "100%|███████████████████████████████████████████████████████████████████████████████████████████████████████████████████████████████████████████████████| 1/1 [00:08<00:00,  8.52s/it]\n"
     ]
    },
    {
     "name": "stdout",
     "output_type": "stream",
     "text": [
      "\n",
      "Archiving step data\n",
      "+----------------------------------+----------+--+\n",
      "|              Title               |  Rwp(%)  |  |\n",
      "+----------------------------------+----------+--+\n",
      "| opt_MainProcess/Ti64_test_data01 | 52.24805 |  |\n",
      "+----------------------------------+----------+--+\n",
      "+----------------------------------+----------+------------+-----------+-----------+------------+-----------+--------------------+--------------------+----------------+--------------+------------+-----------+------------+----------+-----------+--------------------+----------------+--------------+------------+----------+----------+-----------+-----------+--------------------+----------------+--------------+--+\n",
      "|              Title               |  Rwp(%)  | Phase_Name |  Vol.(%)  |  error(%) |   Wt.(%)   |  error(%) | Cell_Par(Angstrom) | Cell_Par(Angstrom) | Size(Angstrom) | Microstrain  | Phase_Name |  Vol.(%)  |  error(%)  |  Wt.(%)  |  error(%) | Cell_Par(Angstrom) | Size(Angstrom) | Microstrain  | Phase_Name | Vol.(%)  | error(%) |   Wt.(%)  |  error(%) | Cell_Par(Angstrom) | Size(Angstrom) | Microstrain  |  |\n",
      "+----------------------------------+----------+------------+-----------+-----------+------------+-----------+--------------------+--------------------+----------------+--------------+------------+-----------+------------+----------+-----------+--------------------+----------------+--------------+------------+----------+----------+-----------+-----------+--------------------+----------------+--------------+--+\n",
      "| opt_MainProcess/Ti64_test_data01 | 52.24805 |   alpha    | 11.624841 | 0.9426248 | 12.4861355 | 1.0124648 |      3.00392       |     4.6817646      |     1000.0     | 1.2628998E-5 |   steel    | 37.082253 | 0.62966675 | 63.48646 | 1.0780174 |     3.6026807      |     1000.0     | 0.0020088213 |    beta    | 51.29291 | 3.817607 | 24.027403 | 1.7883013 |      3.233392      |     1000.0     | 0.0029512863 |  |\n",
      "+----------------------------------+----------+------------+-----------+-----------+------------+-----------+--------------------+--------------------+----------------+--------------+------------+-----------+------------+----------+-----------+--------------------+----------------+--------------+------------+----------+----------+-----------+-----------+--------------------+----------------+--------------+--+\n",
      "STAT 0.5224805 8.59079098701477\n",
      "Optimization terminated successfully.\n",
      "         Current function value: 0.355938\n",
      "         Iterations: 519\n",
      "         Function evaluations: 10400\n",
      "\n",
      "Starting MAUD refinement for step 1\n",
      "=========================\n"
     ]
    },
    {
     "name": "stderr",
     "output_type": "stream",
     "text": [
      "100%|███████████████████████████████████████████████████████████████████████████████████████████████████████████████████████████████████████████████████| 1/1 [00:08<00:00,  8.50s/it]\n"
     ]
    },
    {
     "name": "stdout",
     "output_type": "stream",
     "text": [
      "\n",
      "Archiving step data\n",
      "+----------------------------------+-----------+--+\n",
      "|              Title               |   Rwp(%)  |  |\n",
      "+----------------------------------+-----------+--+\n",
      "| opt_MainProcess/Ti64_test_data01 | 13.660918 |  |\n",
      "+----------------------------------+-----------+--+\n",
      "+----------------------------------+-----------+------------+----------+-----------+----------+------------+--------------------+--------------------+----------------+--------------+------------+-----------+------------+-----------+------------+--------------------+----------------+--------------+------------+-----------+-----------+----------+------------+--------------------+----------------+--------------+--+\n",
      "|              Title               |   Rwp(%)  | Phase_Name | Vol.(%)  |  error(%) |  Wt.(%)  |  error(%)  | Cell_Par(Angstrom) | Cell_Par(Angstrom) | Size(Angstrom) | Microstrain  | Phase_Name |  Vol.(%)  |  error(%)  |   Wt.(%)  |  error(%)  | Cell_Par(Angstrom) | Size(Angstrom) | Microstrain  | Phase_Name |  Vol.(%)  |  error(%) |  Wt.(%)  |  error(%)  | Cell_Par(Angstrom) | Size(Angstrom) | Microstrain  |  |\n",
      "+----------------------------------+-----------+------------+----------+-----------+----------+------------+--------------------+--------------------+----------------+--------------+------------+-----------+------------+-----------+------------+--------------------+----------------+--------------+------------+-----------+-----------+----------+------------+--------------------+----------------+--------------+--+\n",
      "| opt_MainProcess/Ti64_test_data01 | 13.660918 |   alpha    | 62.76512 | 0.4526091 | 65.95237 | 0.47559288 |     2.9308147      |     4.6817646      |     1000.0     | 1.2628998E-5 |   steel    | 15.373552 | 0.16460454 | 24.510954 | 0.26243865 |     3.6026807      |     1000.0     | 0.0020088213 |    beta    | 21.861324 | 0.8520916 | 9.536674 | 0.37171215 |      3.233392      |     1000.0     | 0.0029512863 |  |\n",
      "+----------------------------------+-----------+------------+----------+-----------+----------+------------+--------------------+--------------------+----------------+--------------+------------+-----------+------------+-----------+------------+--------------------+----------------+--------------+------------+-----------+-----------+----------+------------+--------------------+----------------+--------------+--+\n",
      "STAT 0.13660918 8.566138982772827\n",
      "truth [2.9308146307795577, 4.681764598938253, 3.6026807000821934, 3.233392000478879] 0.13660918\n",
      "surrogate [2.9308146307795577, 4.681764598938253, 3.6026807000821934, 3.233392000478879] 0.35593774110718646\n",
      "error -0.21932856110718646 0.21932856110718646\n",
      "data 2\n",
      "Optimization terminated successfully.\n",
      "         Current function value: 0.136609\n",
      "         Iterations: 516\n",
      "         Function evaluations: 10340\n",
      "\n",
      "Starting MAUD refinement for step 2\n",
      "=========================\n"
     ]
    },
    {
     "name": "stderr",
     "output_type": "stream",
     "text": [
      "100%|███████████████████████████████████████████████████████████████████████████████████████████████████████████████████████████████████████████████████| 1/1 [00:08<00:00,  8.47s/it]"
     ]
    },
    {
     "name": "stdout",
     "output_type": "stream",
     "text": [
      "\n",
      "Archiving step data\n",
      "+----------------------------------+-----------+--+\n",
      "|              Title               |   Rwp(%)  |  |\n",
      "+----------------------------------+-----------+--+\n",
      "| opt_MainProcess/Ti64_test_data02 | 13.658616 |  |\n",
      "+----------------------------------+-----------+--+\n",
      "+----------------------------------+-----------+------------+-----------+----------+----------+------------+--------------------+--------------------+----------------+--------------+------------+-----------+------------+-----------+------------+--------------------+----------------+--------------+------------+-----------+-----------+----------+-----------+--------------------+----------------+--------------+--+\n",
      "|              Title               |   Rwp(%)  | Phase_Name |  Vol.(%)  | error(%) |  Wt.(%)  |  error(%)  | Cell_Par(Angstrom) | Cell_Par(Angstrom) | Size(Angstrom) | Microstrain  | Phase_Name |  Vol.(%)  |  error(%)  |   Wt.(%)  |  error(%)  | Cell_Par(Angstrom) | Size(Angstrom) | Microstrain  | Phase_Name |  Vol.(%)  |  error(%) |  Wt.(%)  |  error(%) | Cell_Par(Angstrom) | Size(Angstrom) | Microstrain  |  |\n",
      "+----------------------------------+-----------+------------+-----------+----------+----------+------------+--------------------+--------------------+----------------+--------------+------------+-----------+------------+-----------+------------+--------------------+----------------+--------------+------------+-----------+-----------+----------+-----------+--------------------+----------------+--------------+--+\n",
      "| opt_MainProcess/Ti64_test_data02 | 13.658616 |   alpha    | 62.868195 | 0.449397 | 66.06166 | 0.47222468 |      2.930791      |     4.6817646      |     1000.0     | 1.2628998E-5 |   steel    | 15.318044 | 0.16344279 | 24.422422 | 0.26058608 |     3.6026807      |     1000.0     | 0.0020088213 |    beta    | 21.813763 | 0.8460163 | 9.515913 | 0.3690614 |      3.233392      |     1000.0     | 0.0029512863 |  |\n",
      "+----------------------------------+-----------+------------+-----------+----------+----------+------------+--------------------+--------------------+----------------+--------------+------------+-----------+------------+-----------+------------+--------------------+----------------+--------------+------------+-----------+-----------+----------+-----------+--------------------+----------------+--------------+--+\n",
      "STAT 0.13658616 8.644214153289795\n",
      "truth [2.930790877829773, 4.681764598967135, 3.6026807000709002, 3.2333920002603103] 0.13658616\n",
      "surrogate [2.930790877829773, 4.681764598967135, 3.6026807000709002, 3.2333920002603103] 0.136609048827414\n",
      "error -2.2888827413997115e-05 2.2888827413997115e-05\n",
      "data 3\n",
      "Done!\n"
     ]
    },
    {
     "name": "stderr",
     "output_type": "stream",
     "text": [
      "\n"
     ]
    }
   ],
   "source": [
    "import shutil\n",
    "from spotlight.bridge.ouq_models import WrapModel\n",
    "from spotlight.bridge.ouq_models import InterpModel\n",
    "from mystic.solvers import diffev2\n",
    "from mystic.monitors import VerboseLoggingMonitor\n",
    "from mystic.models import AbstractFunction\n",
    "from scipy import stats\n",
    "from mystic.models import rosen\n",
    "from mystic.solvers import BuckshotSolver\n",
    "from mystic.termination import VTR\n",
    "from mystic.solvers import NelderMeadSimplexSolver, PowellDirectionalSolver\n",
    "from pathos.pools import ProcessPool as Pool\n",
    "from mystic import tools\n",
    "from mystic.math.legacydata import dataset, datapoint\n",
    "import multiprocess\n",
    "from spotlight import filesystem\n",
    "\n",
    "# set random seed so we can reproduce results\n",
    "tools.random_seed(0)\n",
    "\n",
    "# set bounds for parameters to be +/-5%\n",
    "target = [2.9306538, 4.6817646, 3.6026807, 3.233392]\n",
    "lower_bounds = [x * 0.95 for x in target]\n",
    "upper_bounds = [x * 1.05 for x in target]\n",
    "\n",
    "# remove prior cached results\n",
    "if os.path.exists(\"tmp\"):\n",
    "    shutil.rmtree(\"tmp\")\n",
    "\n",
    "# copy template file to current working dir\n",
    "filesystem.cp([\"/Users/cmbiwer/src/spotlight/tmp/template.par\"], dest=\".\")\n",
    "        \n",
    "# generate a sampled dataset for the model\n",
    "truth = WrapModel(\"tmp\", CostFunction(4), nx=4, ny=None, cached=False)\n",
    "bounds = list(zip(lower_bounds, upper_bounds))\n",
    "data = truth.sample(bounds, pts=[2, 1, 1, 1])\n",
    "\n",
    "# create surrogate model\n",
    "kwds = dict(smooth=0.0, noise=0.0, method=\"thin_plate\", extrap=False)\n",
    "surrogate = InterpModel(\"surrogate\", nx=4, ny=None, data=truth, **kwds)\n",
    "\n",
    "# go until error < 1e-3\n",
    "error = float(\"inf\")\n",
    "sign = 1.0\n",
    "while error > 1e-3:\n",
    "\n",
    "    # fit surrogate data\n",
    "    surrogate.fit(data=data)\n",
    "\n",
    "    # find minimum/maximum of surrogate\n",
    "    args = dict(bounds=bounds, gtol=500, full_output=True)\n",
    "    results = diffev2(lambda x: sign * surrogate(x), bounds, npop=20, **args)\n",
    "\n",
    "    # get minimum/maximum of actual expensive model\n",
    "    xnew = results[0].tolist()\n",
    "    ynew = truth(xnew)\n",
    "\n",
    "    # compute error which is actual model value - surrogate model value\n",
    "    ysur = results[1]\n",
    "    error = abs(ynew - ysur)\n",
    "\n",
    "    # print statements\n",
    "    print(\"truth\", xnew, ynew)\n",
    "    print(\"surrogate\", xnew, ysur)\n",
    "    print(\"error\", ynew - ysur, error)\n",
    "    print(\"data\", len(data))\n",
    "\n",
    "    # add latest evaulated point with actual expensive model to be used by surrogate in fitting\n",
    "    pt = datapoint(xnew, value=ynew)\n",
    "    data.append(pt)\n",
    "\n",
    "print(\"Done!\")"
   ]
  },
  {
   "cell_type": "markdown",
   "id": "a1738d23",
   "metadata": {},
   "source": [
    "## An ensemble using only the cost function\n",
    "\n",
    "As state above, the call to MILK may take several seconds.\n",
    "Below, we present an example of using an ensemble of optimizers in parallel with MILK to find the global minimum.\n",
    "**Note, this will take awhile. It depends on the number of processors available on your machine.**"
   ]
  },
  {
   "cell_type": "code",
   "execution_count": null,
   "id": "61c3f739",
   "metadata": {},
   "outputs": [
    {
     "name": "stdout",
     "output_type": "stream",
     "text": [
      "\n",
      "Starting MAUD refinement for step 1\n",
      "=========================\n",
      "\n"
     ]
    },
    {
     "name": "stderr",
     "output_type": "stream",
     "text": [
      "\r",
      "  0%|                                                                                                                                                           | 0/1 [00:00<?, ?it/s]"
     ]
    },
    {
     "name": "stdout",
     "output_type": "stream",
     "text": [
      "Starting MAUD refinement for step 1\n",
      "=========================\n"
     ]
    },
    {
     "name": "stderr",
     "output_type": "stream",
     "text": [
      "\r",
      "  0%|                                                                                                                                                           | 0/1 [00:00<?, ?it/s]"
     ]
    },
    {
     "name": "stdout",
     "output_type": "stream",
     "text": [
      "\n",
      "Starting MAUD refinement for step 1\n",
      "=========================\n"
     ]
    },
    {
     "name": "stderr",
     "output_type": "stream",
     "text": [
      "\r",
      "  0%|                                                                                                                                                           | 0/1 [00:00<?, ?it/s]"
     ]
    },
    {
     "name": "stdout",
     "output_type": "stream",
     "text": [
      "\n",
      "Starting MAUD refinement for step 1\n",
      "=========================\n"
     ]
    },
    {
     "name": "stderr",
     "output_type": "stream",
     "text": [
      "\r",
      "  0%|                                                                                                                                                           | 0/1 [00:00<?, ?it/s]"
     ]
    },
    {
     "name": "stdout",
     "output_type": "stream",
     "text": [
      "\n",
      "Starting MAUD refinement for step 1\n",
      "=========================\n"
     ]
    },
    {
     "name": "stderr",
     "output_type": "stream",
     "text": [
      "\r",
      "  0%|                                                                                                                                                           | 0/1 [00:00<?, ?it/s]"
     ]
    },
    {
     "name": "stdout",
     "output_type": "stream",
     "text": [
      "\n",
      "Starting MAUD refinement for step 1\n",
      "=========================\n"
     ]
    },
    {
     "name": "stderr",
     "output_type": "stream",
     "text": [
      "\r",
      "  0%|                                                                                                                                                           | 0/1 [00:00<?, ?it/s]"
     ]
    },
    {
     "name": "stdout",
     "output_type": "stream",
     "text": [
      "\n",
      "Starting MAUD refinement for step 1\n",
      "=========================\n"
     ]
    },
    {
     "name": "stderr",
     "output_type": "stream",
     "text": [
      "\r",
      "  0%|                                                                                                                                                           | 0/1 [00:00<?, ?it/s]"
     ]
    },
    {
     "name": "stdout",
     "output_type": "stream",
     "text": [
      "\n",
      "Starting MAUD refinement for step 1\n",
      "=========================\n"
     ]
    },
    {
     "name": "stderr",
     "output_type": "stream",
     "text": [
      "100%|███████████████████████████████████████████████████████████████████████████████████████████████████████████████████████████████████████████████████| 1/1 [00:13<00:00, 13.96s/it]\n"
     ]
    },
    {
     "name": "stdout",
     "output_type": "stream",
     "text": [
      "\n",
      "Archiving step data\n",
      "+---------------------------------------+-----------+--+\n",
      "|                 Title                 |   Rwp(%)  |  |\n",
      "+---------------------------------------+-----------+--+\n",
      "| opt_ForkPoolWorker-5/Ti64_test_data01 | 62.771976 |  |\n",
      "+---------------------------------------+-----------+--+\n",
      "+---------------------------------------+-----------+------------+-----------+-----------+----------+-----------+--------------------+--------------------+----------------+--------------+------------+-----------+-----------+-----------+------------+--------------------+----------------+--------------+------------+----------+-----------+----------+----------+--------------------+----------------+--------------+--+\n",
      "|                 Title                 |   Rwp(%)  | Phase_Name |  Vol.(%)  |  error(%) |  Wt.(%)  |  error(%) | Cell_Par(Angstrom) | Cell_Par(Angstrom) | Size(Angstrom) | Microstrain  | Phase_Name |  Vol.(%)  |  error(%) |   Wt.(%)  |  error(%)  | Cell_Par(Angstrom) | Size(Angstrom) | Microstrain  | Phase_Name | Vol.(%)  |  error(%) |  Wt.(%)  | error(%) | Cell_Par(Angstrom) | Size(Angstrom) | Microstrain  |  |\n",
      "+---------------------------------------+-----------+------------+-----------+-----------+----------+-----------+--------------------+--------------------+----------------+--------------+------------+-----------+-----------+-----------+------------+--------------------+----------------+--------------+------------+----------+-----------+----------+----------+--------------------+----------------+--------------+--+"
     ]
    },
    {
     "name": "stderr",
     "output_type": "stream",
     "text": [
      "\r",
      "100%|███████████████████████████████████████████████████████████████████████████████████████████████████████████████████████████████████████████████████| 1/1 [00:14<00:00, 14.07s/it]"
     ]
    },
    {
     "name": "stdout",
     "output_type": "stream",
     "text": [
      "\n",
      "| opt_ForkPoolWorker-5/Ti64_test_data01 | 62.771976 |   alpha    | 19.687897 | 1.1369234 | 34.30599 | 1.9810791 |      3.00392       |     4.6817646      |     1000.0     | 1.2628998E-5 |   steel    | 1.9795187 | 0.2334206 | 6.1659794 | 0.72707903 |      3.46758       |     1000.0     | 0.0020088213 |    beta    | 78.33259 | 4.5914016 | 59.52803 | 3.489188 |      3.233392      |     1000.0     | 0.0029512863 |  |"
     ]
    },
    {
     "name": "stderr",
     "output_type": "stream",
     "text": [
      "\r",
      "100%|███████████████████████████████████████████████████████████████████████████████████████████████████████████████████████████████████████████████████| 1/1 [00:14<00:00, 14.07s/it]"
     ]
    },
    {
     "name": "stdout",
     "output_type": "stream",
     "text": [
      "\n"
     ]
    },
    {
     "name": "stderr",
     "output_type": "stream",
     "text": [
      "\n"
     ]
    },
    {
     "name": "stdout",
     "output_type": "stream",
     "text": [
      "+---------------------------------------+-----------+------------+-----------+-----------+----------+-----------+--------------------+--------------------+----------------+--------------+------------+-----------+-----------+-----------+------------+--------------------+----------------+--------------+------------+----------+-----------+----------+----------+--------------------+----------------+--------------+--+\n",
      "\n",
      "Archiving step data\n",
      "STAT +---------------------------------------+-----------+--+0.62771976\n",
      " |                 Title                 |   Rwp(%)  |  |14.136528968811035\n",
      "\n",
      "+---------------------------------------+-----------+--+\n",
      "| opt_ForkPoolWorker-4/Ti64_test_data01 | 62.994278 |  |\n",
      "+---------------------------------------+-----------+--+\n",
      "+---------------------------------------+-----------+------------+-----------+-----------+----------+-----------+--------------------+--------------------+----------------+--------------+------------+-----------+-----------+-----------+-----------+--------------------+----------------+--------------+------------+----------+-----------+----------+-----------+--------------------+----------------+--------------+--+\n",
      "|                 Title                 |   Rwp(%)  | Phase_Name |  Vol.(%)  |  error(%) |  Wt.(%)  |  error(%) | Cell_Par(Angstrom) | Cell_Par(Angstrom) | Size(Angstrom) | Microstrain  | Phase_Name |  Vol.(%)  |  error(%) |   Wt.(%)  |  error(%) | Cell_Par(Angstrom) | Size(Angstrom) | Microstrain  | Phase_Name | Vol.(%)  |  error(%) |  Wt.(%)  |  error(%) | Cell_Par(Angstrom) | Size(Angstrom) | Microstrain  |  |\n",
      "+---------------------------------------+-----------+------------+-----------+-----------+----------+-----------+--------------------+--------------------+----------------+--------------+------------+-----------+-----------+-----------+-----------+--------------------+----------------+--------------+------------+----------+-----------+----------+-----------+--------------------+----------------+--------------+--+\n",
      "| opt_ForkPoolWorker-4/Ti64_test_data01 | 62.994278 |   alpha    | 7.1801534 | 0.6443712 | 15.96886 | 1.4330994 |     2.8573875      |     4.6817646      |     1000.0     | 1.2628998E-5 |   steel    | 1.2884663 | 0.3110077 | 3.7007043 | 0.8932694 |     3.7377813      |     1000.0     | 0.0020088213 |    beta    | 91.53138 | 3.9252975 | 80.33044 | 3.4449482 |      3.233392      |     1000.0     | 0.0029512863 |  |\n",
      "+---------------------------------------+-----------+------------+-----------+-----------+----------+-----------+--------------------+--------------------+----------------+--------------+------------+-----------+-----------+-----------+-----------+--------------------+----------------+--------------+------------+----------+-----------+----------+-----------+--------------------+----------------+--------------+--+\n",
      "\n",
      "Starting MAUD refinement for step 2\n",
      "=========================\n",
      "STAT 0.6299428 14.254327058792114\n"
     ]
    },
    {
     "name": "stderr",
     "output_type": "stream",
     "text": [
      "\r",
      "  0%|                                                                                                                                                           | 0/1 [00:00<?, ?it/s]"
     ]
    },
    {
     "name": "stdout",
     "output_type": "stream",
     "text": [
      "\n",
      "Starting MAUD refinement for step 2\n"
     ]
    },
    {
     "name": "stderr",
     "output_type": "stream",
     "text": [
      "\r",
      "100%|███████████████████████████████████████████████████████████████████████████████████████████████████████████████████████████████████████████████████| 1/1 [00:14<00:00, 14.16s/it]"
     ]
    },
    {
     "name": "stdout",
     "output_type": "stream",
     "text": [
      "========================="
     ]
    },
    {
     "name": "stderr",
     "output_type": "stream",
     "text": [
      "\r",
      "100%|███████████████████████████████████████████████████████████████████████████████████████████████████████████████████████████████████████████████████| 1/1 [00:14<00:00, 14.16s/it]"
     ]
    },
    {
     "name": "stdout",
     "output_type": "stream",
     "text": [
      "\n"
     ]
    },
    {
     "name": "stderr",
     "output_type": "stream",
     "text": [
      "\n"
     ]
    },
    {
     "name": "stdout",
     "output_type": "stream",
     "text": [
      "\n",
      "Archiving step data\n"
     ]
    },
    {
     "name": "stderr",
     "output_type": "stream",
     "text": [
      "\r",
      "  0%|                                                                                                                                                           | 0/1 [00:00<?, ?it/s]"
     ]
    },
    {
     "name": "stdout",
     "output_type": "stream",
     "text": [
      "+---------------------------------------+-----------+--+\n",
      "|                 Title                 |   Rwp(%)  |  |\n",
      "+---------------------------------------+-----------+--+\n",
      "| opt_ForkPoolWorker-6/Ti64_test_data01 | 62.489647 |  |\n",
      "+---------------------------------------+-----------+--+\n",
      "+---------------------------------------+-----------+------------+-----------+----------+-----------+-----------+--------------------+--------------------+----------------+--------------+------------+-----------+------------+-----------+------------+--------------------+----------------+--------------+------------+----------+----------+-----------+-----------+--------------------+----------------+--------------+--+\n",
      "|                 Title                 |   Rwp(%)  | Phase_Name |  Vol.(%)  | error(%) |   Wt.(%)  |  error(%) | Cell_Par(Angstrom) | Cell_Par(Angstrom) | Size(Angstrom) | Microstrain  | Phase_Name |  Vol.(%)  |  error(%)  |   Wt.(%)  |  error(%)  | Cell_Par(Angstrom) | Size(Angstrom) | Microstrain  | Phase_Name | Vol.(%)  | error(%) |   Wt.(%)  |  error(%) | Cell_Par(Angstrom) | Size(Angstrom) | Microstrain  |  |\n",
      "+---------------------------------------+-----------+------------+-----------+----------+-----------+-----------+--------------------+--------------------+----------------+--------------+------------+-----------+------------+-----------+------------+--------------------+----------------+--------------+------------+----------+----------+-----------+-----------+--------------------+----------------+--------------+--+\n",
      "| opt_ForkPoolWorker-6/Ti64_test_data01 | 62.489647 |   alpha    | 18.662205 | 1.130139 | 31.131983 | 1.8852793 |      3.00392       |     4.6817646      |     1000.0     | 1.2628998E-5 |   steel    | 4.7657156 | 0.30825406 | 13.159355 | 0.85116804 |     3.5576472      |     1000.0     | 0.0020088213 |    beta    | 76.57208 | 4.568188 | 55.708664 | 3.3235047 |      3.233392      |     1000.0     | 0.0029512863 |  |\n",
      "+---------------------------------------+-----------+------------+-----------+----------+-----------+-----------+--------------------+--------------------+----------------+--------------+------------+-----------+------------+-----------+------------+--------------------+----------------+--------------+------------+----------+----------+-----------+-----------+--------------------+----------------+--------------+--+\n",
      "STAT 0.62489647 14.328356981277466\n",
      "\n",
      "Starting MAUD refinement for step 2\n",
      "=========================\n"
     ]
    },
    {
     "name": "stderr",
     "output_type": "stream",
     "text": [
      "100%|███████████████████████████████████████████████████████████████████████████████████████████████████████████████████████████████████████████████████| 1/1 [00:14<00:00, 14.69s/it]\n"
     ]
    },
    {
     "name": "stdout",
     "output_type": "stream",
     "text": [
      "\n",
      "Archiving step data\n",
      "+---------------------------------------+----------+--+\n",
      "|                 Title                 |  Rwp(%)  |  |\n",
      "+---------------------------------------+----------+--+\n",
      "| opt_ForkPoolWorker-2/Ti64_test_data01 | 62.60154 |  |\n",
      "+---------------------------------------+----------+--+\n",
      "+---------------------------------------+----------+------------+-----------+-----------+----------+-----------+--------------------+--------------------+----------------+--------------+------------+----------+------------+----------+------------+--------------------+----------------+--------------+------------+-----------+-----------+-----------+-----------+--------------------+----------------+--------------+--+\n",
      "|                 Title                 |  Rwp(%)  | Phase_Name |  Vol.(%)  |  error(%) |  Wt.(%)  |  error(%) | Cell_Par(Angstrom) | Cell_Par(Angstrom) | Size(Angstrom) | Microstrain  | Phase_Name | Vol.(%)  |  error(%)  |  Wt.(%)  |  error(%)  | Cell_Par(Angstrom) | Size(Angstrom) | Microstrain  | Phase_Name |  Vol.(%)  |  error(%) |   Wt.(%)  |  error(%) | Cell_Par(Angstrom) | Size(Angstrom) | Microstrain  |  |\n",
      "+---------------------------------------+----------+------------+-----------+-----------+----------+-----------+--------------------+--------------------+----------------+--------------+------------+----------+------------+----------+------------+--------------------+----------------+--------------+------------+-----------+-----------+-----------+-----------+--------------------+----------------+--------------+--+\n",
      "| opt_ForkPoolWorker-2/Ti64_test_data01 | 62.60154 |   alpha    | 7.3047323 | 0.6322919 | 15.11105 | 1.3080006 |     2.8573875      |     4.6817646      |     1000.0     | 1.2628998E-5 |   steel    | 4.040454 | 0.30794394 | 12.51828 | 0.95408297 |     3.5576472      |     1000.0     | 0.0020088213 |    beta    | 88.654816 | 3.8978875 | 72.370674 | 3.1819222 |      3.233392      |     1000.0     | 0.0029512863 |  |\n",
      "+---------------------------------------+----------+------------+-----------+-----------+----------+-----------+--------------------+--------------------+----------------+--------------+------------+----------+------------+----------+------------+--------------------+----------------+--------------+------------+-----------+-----------+-----------+-----------+--------------------+----------------+--------------+--+\n",
      "STAT 0.62601537 14.862199068069458\n"
     ]
    },
    {
     "name": "stderr",
     "output_type": "stream",
     "text": [
      "100%|███████████████████████████████████████████████████████████████████████████████████████████████████████████████████████████████████████████████████| 1/1 [00:14<00:00, 14.67s/it]\n"
     ]
    },
    {
     "name": "stdout",
     "output_type": "stream",
     "text": [
      "\n",
      "Archiving step data\n",
      "\n",
      "Starting MAUD refinement for step 2\n"
     ]
    },
    {
     "name": "stderr",
     "output_type": "stream",
     "text": [
      "\r",
      "100%|███████████████████████████████████████████████████████████████████████████████████████████████████████████████████████████████████████████████████| 1/1 [00:14<00:00, 14.65s/it]"
     ]
    },
    {
     "name": "stdout",
     "output_type": "stream",
     "text": [
      "========================="
     ]
    },
    {
     "name": "stderr",
     "output_type": "stream",
     "text": [
      "\r",
      "100%|███████████████████████████████████████████████████████████████████████████████████████████████████████████████████████████████████████████████████| 1/1 [00:14<00:00, 14.65s/it]"
     ]
    },
    {
     "name": "stdout",
     "output_type": "stream",
     "text": [
      "\n"
     ]
    },
    {
     "name": "stderr",
     "output_type": "stream",
     "text": [
      "\n"
     ]
    },
    {
     "name": "stdout",
     "output_type": "stream",
     "text": [
      "+---------------------------------------+-----------+--+\n",
      "\n"
     ]
    },
    {
     "name": "stderr",
     "output_type": "stream",
     "text": [
      "\r",
      "100%|███████████████████████████████████████████████████████████████████████████████████████████████████████████████████████████████████████████████████| 1/1 [00:14<00:00, 14.92s/it]"
     ]
    },
    {
     "name": "stdout",
     "output_type": "stream",
     "text": [
      "Archiving step data|                 Title                 |   Rwp(%)  |  |\n"
     ]
    },
    {
     "name": "stderr",
     "output_type": "stream",
     "text": [
      "\r",
      "100%|███████████████████████████████████████████████████████████████████████████████████████████████████████████████████████████████████████████████████| 1/1 [00:14<00:00, 14.93s/it]"
     ]
    },
    {
     "name": "stdout",
     "output_type": "stream",
     "text": [
      "\n"
     ]
    },
    {
     "name": "stderr",
     "output_type": "stream",
     "text": [
      "\n"
     ]
    },
    {
     "name": "stdout",
     "output_type": "stream",
     "text": [
      "+---------------------------------------+-----------+--+\n",
      "\n",
      "Archiving step data"
     ]
    },
    {
     "name": "stderr",
     "output_type": "stream",
     "text": [
      "\r",
      "  0%|                                                                                                                                                           | 0/1 [00:00<?, ?it/s]"
     ]
    },
    {
     "name": "stdout",
     "output_type": "stream",
     "text": [
      "| opt_ForkPoolWorker-7/Ti64_test_data01 | 62.282387 |  |\n",
      "\n",
      "+---------------------------------------+-----------+--++---------------------------------------+-----------+--+\n",
      "\n",
      "|                 Title                 |   Rwp(%)  |  |\n",
      "+---------------------------------------+-----------+--++---------------------------------------+-----------+--+\n",
      "+---------------------------------------+-----------+------------+-----------+-----------+-----------+-----------+--------------------+--------------------+----------------+--------------+------------+----------+-----------+----------+------------+--------------------+----------------+--------------+------------+----------+-----------+---------+-----------+--------------------+----------------+--------------+--+\n",
      "|                 Title                 |   Rwp(%)  |  |\n",
      "| opt_ForkPoolWorker-8/Ti64_test_data01 | 62.775005 |  |\n",
      "|                 Title                 |   Rwp(%)  | Phase_Name |  Vol.(%)  |  error(%) |   Wt.(%)  |  error(%) | Cell_Par(Angstrom) | Cell_Par(Angstrom) | Size(Angstrom) | Microstrain  | Phase_Name | Vol.(%)  |  error(%) |  Wt.(%)  |  error(%)  | Cell_Par(Angstrom) | Size(Angstrom) | Microstrain  | Phase_Name | Vol.(%)  |  error(%) |  Wt.(%) |  error(%) | Cell_Par(Angstrom) | Size(Angstrom) | Microstrain  |  |\n",
      "\n",
      "+---------------------------------------+-----------+--++---------------------------------------+-----------+--+\n",
      "+---------------------------------------+-----------+------------+-----------+-----------+-----------+-----------+--------------------+--------------------+----------------+--------------+------------+----------+-----------+----------+------------+--------------------+----------------+--------------+------------+----------+-----------+---------+-----------+--------------------+----------------+--------------+--+\n",
      "| opt_ForkPoolWorker-1/Ti64_test_data01 | 62.909145 |  |\n",
      "\n",
      "| opt_ForkPoolWorker-7/Ti64_test_data01 | 62.282387 |   alpha    | 19.657299 | 1.1232563 | 31.612051 | 1.8063741 |      3.00392       |     4.6817646      |     1000.0     | 1.2628998E-5 |   steel    | 6.808792 | 0.3616998 | 16.81465 | 0.89323556 |     3.6477141      |     1000.0     | 0.0020088213 |    beta    | 73.53391 | 4.5505157 | 51.5733 | 3.1915221 |      3.233392      |     1000.0     | 0.0029512863 |  |+---------------------------------------+-----------+--+\n",
      "\n",
      "+---------------------------------------+-----------+------------+-----------+-----------+-----------+-----------+--------------------+--------------------+----------------+--------------+------------+----------+-----------+----------+------------+--------------------+----------------+--------------+------------+----------+-----------+---------+-----------+--------------------+----------------+--------------+--++---------------------------------------+-----------+------------+-----------+-----------+---------+-----------+--------------------+--------------------+----------------+--------------+------------+----------+------------+----------+-----------+--------------------+----------------+--------------+------------+----------+----------+-----------+-----------+--------------------+----------------+--------------+--+\n",
      "\n",
      "|                 Title                 |   Rwp(%)  | Phase_Name |  Vol.(%)  |  error(%) |  Wt.(%) |  error(%) | Cell_Par(Angstrom) | Cell_Par(Angstrom) | Size(Angstrom) | Microstrain  | Phase_Name | Vol.(%)  |  error(%)  |  Wt.(%)  |  error(%) | Cell_Par(Angstrom) | Size(Angstrom) | Microstrain  | Phase_Name | Vol.(%)  | error(%) |   Wt.(%)  |  error(%) | Cell_Par(Angstrom) | Size(Angstrom) | Microstrain  |  |\n",
      "+---------------------------------------+-----------+------------+----------+------------+----------+-----------+--------------------+--------------------+----------------+--------------+------------+-----------+------------+----------+----------+--------------------+----------------+--------------+------------+----------+-----------+----------+-----------+--------------------+----------------+--------------+--++---------------------------------------+-----------+------------+-----------+-----------+---------+-----------+--------------------+--------------------+----------------+--------------+------------+----------+------------+----------+-----------+--------------------+----------------+--------------+------------+----------+----------+-----------+-----------+--------------------+----------------+--------------+--+"
     ]
    },
    {
     "name": "stderr",
     "output_type": "stream",
     "text": [
      "\r",
      "100%|███████████████████████████████████████████████████████████████████████████████████████████████████████████████████████████████████████████████████| 1/1 [00:14<00:00, 14.96s/it]"
     ]
    },
    {
     "name": "stdout",
     "output_type": "stream",
     "text": [
      "\n",
      "\n",
      "|                 Title                 |   Rwp(%)  | Phase_Name | Vol.(%)  |  error(%)  |  Wt.(%)  |  error(%) | Cell_Par(Angstrom) | Cell_Par(Angstrom) | Size(Angstrom) | Microstrain  | Phase_Name |  Vol.(%)  |  error(%)  |  Wt.(%)  | error(%) | Cell_Par(Angstrom) | Size(Angstrom) | Microstrain  | Phase_Name | Vol.(%)  |  error(%) |  Wt.(%)  |  error(%) | Cell_Par(Angstrom) | Size(Angstrom) | Microstrain  |  |STAT"
     ]
    },
    {
     "name": "stderr",
     "output_type": "stream",
     "text": [
      "\r",
      "100%|███████████████████████████████████████████████████████████████████████████████████████████████████████████████████████████████████████████████████| 1/1 [00:14<00:00, 14.96s/it]"
     ]
    },
    {
     "name": "stdout",
     "output_type": "stream",
     "text": [
      "| opt_ForkPoolWorker-8/Ti64_test_data01 | 62.775005 |   alpha    | 21.204351 | 1.1323217 | 36.5446 | 1.9514978 |      3.00392       |     4.6817646      |     1000.0     | 1.2628998E-5 |   steel    | 2.476203 | 0.30607492 | 6.091077 | 0.7528971 |     3.7377813      |     1000.0     | 0.0020088213 |    beta    | 76.31944 | 4.59268  | 57.364323 | 3.4520164 |      3.233392      |     1000.0     | 0.0029512863 |  |\n",
      " "
     ]
    },
    {
     "name": "stderr",
     "output_type": "stream",
     "text": [
      "\n"
     ]
    },
    {
     "name": "stdout",
     "output_type": "stream",
     "text": [
      "\n",
      "+---------------------------------------+-----------+------------+----------+------------+----------+-----------+--------------------+--------------------+----------------+--------------+------------+-----------+------------+----------+----------+--------------------+----------------+--------------+------------+----------+-----------+----------+-----------+--------------------+----------------+--------------+--+0.62282383+---------------------------------------+-----------+------------+-----------+-----------+---------+-----------+--------------------+--------------------+----------------+--------------+------------+----------+------------+----------+-----------+--------------------+----------------+--------------+------------+----------+----------+-----------+-----------+--------------------+----------------+--------------+--+\n",
      "\n",
      " \n",
      "Archiving step data| opt_ForkPoolWorker-1/Ti64_test_data01 | 62.909145 |   alpha    | 7.432325 | 0.63543266 | 16.09878 | 1.3763782 |     2.8573875      |     4.6817646      |     1000.0     | 1.2628998E-5 |   steel    | 1.8043134 | 0.23294564 | 6.321404 | 0.816124 |      3.46758       |     1000.0     | 0.0020088213 |    beta    | 90.76336 | 3.9169488 | 77.57982 | 3.3480048 |      3.233392      |     1000.0     | 0.0029512863 |  |14.87059497833252\n",
      "\n",
      "\n",
      "+---------------------------------------+-----------+------------+----------+------------+----------+-----------+--------------------+--------------------+----------------+--------------+------------+-----------+------------+----------+----------+--------------------+----------------+--------------+------------+----------+-----------+----------+-----------+--------------------+----------------+--------------+--+\n",
      "STAT 0.62775004+---------------------------------------+-----------+--+STAT \n",
      "|                 Title                 |   Rwp(%)  |  |14.8543860912323 \n",
      "\n",
      "0.62909144 +---------------------------------------+-----------+--+15.104676961898804\n",
      "\n",
      "| opt_ForkPoolWorker-3/Ti64_test_data01 | 62.464264 |  |\n",
      "+---------------------------------------+-----------+--+\n",
      "\n",
      "Starting MAUD refinement for step 2+---------------------------------------+-----------+------------+----------+-----------+-----------+-----------+--------------------+--------------------+----------------+--------------+------------+---------+-----------+-----------+-----------+--------------------+----------------+--------------+------------+----------+----------+----------+-----------+--------------------+----------------+--------------+--+\n",
      "\n",
      "=========================|                 Title                 |   Rwp(%)  | Phase_Name | Vol.(%)  |  error(%) |   Wt.(%)  |  error(%) | Cell_Par(Angstrom) | Cell_Par(Angstrom) | Size(Angstrom) | Microstrain  | Phase_Name | Vol.(%) |  error(%) |   Wt.(%)  |  error(%) | Cell_Par(Angstrom) | Size(Angstrom) | Microstrain  | Phase_Name | Vol.(%)  | error(%) |  Wt.(%)  |  error(%) | Cell_Par(Angstrom) | Size(Angstrom) | Microstrain  |  |\n",
      "\n",
      "+---------------------------------------+-----------+------------+----------+-----------+-----------+-----------+--------------------+--------------------+----------------+--------------+------------+---------+-----------+-----------+-----------+--------------------+----------------+--------------+------------+----------+----------+----------+-----------+--------------------+----------------+--------------+--+\n",
      "| opt_ForkPoolWorker-3/Ti64_test_data01 | 62.464264 |   alpha    | 7.098842 | 0.6309728 | 14.475724 | 1.2866589 |     2.8573875      |     4.6817646      |     1000.0     | 1.2628998E-5 |   steel    | 5.30818 | 0.3627915 | 15.040035 | 1.0279224 |     3.6477141      |     1000.0     | 0.0020088213 |    beta    | 87.59298 | 3.889269 | 70.48424 | 3.1296134 |      3.233392      |     1000.0     | 0.0029512863 |  |\n",
      "\n",
      "Starting MAUD refinement for step 2+---------------------------------------+-----------+------------+----------+-----------+-----------+-----------+--------------------+--------------------+----------------+--------------+------------+---------+-----------+-----------+-----------+--------------------+----------------+--------------+------------+----------+----------+----------+-----------+--------------------+----------------+--------------+--+\n",
      "\n"
     ]
    },
    {
     "name": "stderr",
     "output_type": "stream",
     "text": [
      "\r",
      "  0%|                                                                                                                                                           | 0/1 [00:00<?, ?it/s]"
     ]
    },
    {
     "name": "stdout",
     "output_type": "stream",
     "text": [
      "\n",
      "=========================Starting MAUD refinement for step 2\n",
      "\n",
      "=========================\n",
      "STAT 0.6246426 "
     ]
    },
    {
     "name": "stderr",
     "output_type": "stream",
     "text": [
      "\r",
      "  0%|                                                                                                                                                           | 0/1 [00:00<?, ?it/s]"
     ]
    },
    {
     "name": "stdout",
     "output_type": "stream",
     "text": [
      "15.148403882980347\n"
     ]
    },
    {
     "name": "stderr",
     "output_type": "stream",
     "text": [
      "\r",
      "  0%|                                                                                                                                                           | 0/1 [00:00<?, ?it/s]"
     ]
    },
    {
     "name": "stdout",
     "output_type": "stream",
     "text": [
      "\n",
      "Starting MAUD refinement for step 2\n",
      "=========================\n"
     ]
    },
    {
     "name": "stderr",
     "output_type": "stream",
     "text": [
      "100%|███████████████████████████████████████████████████████████████████████████████████████████████████████████████████████████████████████████████████| 1/1 [00:14<00:00, 14.58s/it]\n"
     ]
    },
    {
     "name": "stdout",
     "output_type": "stream",
     "text": [
      "\n",
      "Archiving step data\n",
      "+---------------------------------------+----------+--+\n",
      "|                 Title                 |  Rwp(%)  |  |\n",
      "+---------------------------------------+----------+--+\n",
      "| opt_ForkPoolWorker-5/Ti64_test_data02 | 63.11108 |  |\n",
      "+---------------------------------------+----------+--+\n",
      "+---------------------------------------+----------+------------+----------+-----------+-----------+----------+--------------------+--------------------+----------------+--------------+------------+----------+-----------+-----------+-----------+--------------------+----------------+--------------+------------+----------+-----------+----------+-----------+--------------------+----------------+--------------+--+\n",
      "|                 Title                 |  Rwp(%)  | Phase_Name | Vol.(%)  |  error(%) |   Wt.(%)  | error(%) | Cell_Par(Angstrom) | Cell_Par(Angstrom) | Size(Angstrom) | Microstrain  | Phase_Name | Vol.(%)  |  error(%) |   Wt.(%)  |  error(%) | Cell_Par(Angstrom) | Size(Angstrom) | Microstrain  | Phase_Name | Vol.(%)  |  error(%) |  Wt.(%)  |  error(%) | Cell_Par(Angstrom) | Size(Angstrom) | Microstrain  |  |\n",
      "+---------------------------------------+----------+------------+----------+-----------+-----------+----------+--------------------+--------------------+----------------+--------------+------------+----------+-----------+-----------+-----------+--------------------+----------------+--------------+------------+----------+-----------+----------+-----------+--------------------+----------------+--------------+--+\n",
      "| opt_ForkPoolWorker-5/Ti64_test_data02 | 63.11108 |   alpha    | 8.903076 | 3.9665005 | 16.763441 | 7.468452 |      3.00392       |      4.915853      |     1000.0     | 1.2628998E-5 |   steel    | 1.755472 | 0.8565443 | 6.2040906 | 3.0271506 |      3.46758       |     1000.0     | 0.0020088213 |    beta    | 89.34145 | 16.493803 | 77.03247 | 14.221376 |      3.233392      |     1000.0     | 0.0029512863 |  |\n",
      "+---------------------------------------+----------+------------+----------+-----------+-----------+----------+--------------------+--------------------+----------------+--------------+------------+----------+-----------+-----------+-----------+--------------------+----------------+--------------+------------+----------+-----------+----------+-----------+--------------------+----------------+--------------+--+\n",
      "STAT 0.63111085 14.758426904678345\n",
      "\n",
      "Starting MAUD refinement for step 3\n",
      "=========================\n"
     ]
    },
    {
     "name": "stderr",
     "output_type": "stream",
     "text": [
      "100%|███████████████████████████████████████████████████████████████████████████████████████████████████████████████████████████████████████████████████| 1/1 [00:14<00:00, 14.78s/it]\n"
     ]
    },
    {
     "name": "stdout",
     "output_type": "stream",
     "text": [
      "\n",
      "Archiving step data\n",
      "+---------------------------------------+----------+--+\n",
      "|                 Title                 |  Rwp(%)  |  |\n",
      "+---------------------------------------+----------+--+\n",
      "| opt_ForkPoolWorker-4/Ti64_test_data02 | 62.73125 |  |\n",
      "+---------------------------------------+----------+--+\n",
      "+---------------------------------------+----------+------------+----------+-----------+-----------+-----------+--------------------+--------------------+----------------+--------------+------------+-----------+-----------+-----------+-----------+--------------------+----------------+--------------+------------+----------+-----------+-----------+-----------+--------------------+----------------+--------------+--+\n",
      "|                 Title                 |  Rwp(%)  | Phase_Name | Vol.(%)  |  error(%) |   Wt.(%)  |  error(%) | Cell_Par(Angstrom) | Cell_Par(Angstrom) | Size(Angstrom) | Microstrain  | Phase_Name |  Vol.(%)  |  error(%) |   Wt.(%)  |  error(%) | Cell_Par(Angstrom) | Size(Angstrom) | Microstrain  | Phase_Name | Vol.(%)  |  error(%) |   Wt.(%)  |  error(%) | Cell_Par(Angstrom) | Size(Angstrom) | Microstrain  |  |\n",
      "+---------------------------------------+----------+------------+----------+-----------+-----------+-----------+--------------------+--------------------+----------------+--------------+------------+-----------+-----------+-----------+-----------+--------------------+----------------+--------------+------------+----------+-----------+-----------+-----------+--------------------+----------------+--------------+--+\n",
      "| opt_ForkPoolWorker-4/Ti64_test_data02 | 62.73125 |   alpha    | 19.91778 | 3.1485054 | 35.107494 | 5.5496216 |     3.0002568      |     4.6817646      |     1000.0     | 1.2628998E-5 |   steel    | 1.9978888 | 0.8879162 | 5.0139494 | 2.2283356 |     3.7377813      |     1000.0     | 0.0020088213 |    beta    | 78.08433 | 12.961027 | 59.878555 | 9.9390955 |      3.233392      |     1000.0     | 0.0029512863 |  |\n",
      "+---------------------------------------+----------+------------+----------+-----------+-----------+-----------+--------------------+--------------------+----------------+--------------+------------+-----------+-----------+-----------+-----------+--------------------+----------------+--------------+------------+----------+-----------+-----------+-----------+--------------------+----------------+--------------+--+\n",
      "STAT 0.62731254 14.941585063934326\n",
      "\n",
      "Starting MAUD refinement for step 3\n",
      "=========================\n"
     ]
    },
    {
     "name": "stderr",
     "output_type": "stream",
     "text": [
      "100%|███████████████████████████████████████████████████████████████████████████████████████████████████████████████████████████████████████████████████| 1/1 [00:14<00:00, 14.45s/it]\n"
     ]
    },
    {
     "name": "stdout",
     "output_type": "stream",
     "text": [
      "\n",
      "Archiving step data\n",
      "+---------------------------------------+-----------+--+\n",
      "|                 Title                 |   Rwp(%)  |  |\n",
      "+---------------------------------------+-----------+--+\n",
      "| opt_ForkPoolWorker-2/Ti64_test_data02 | 62.445213 |  |\n",
      "+---------------------------------------+-----------+--+\n"
     ]
    },
    {
     "name": "stderr",
     "output_type": "stream",
     "text": [
      "\r",
      "100%|███████████████████████████████████████████████████████████████████████████████████████████████████████████████████████████████████████████████████| 1/1 [00:14<00:00, 14.97s/it]"
     ]
    },
    {
     "name": "stdout",
     "output_type": "stream",
     "text": [
      "+---------------------------------------+-----------+------------+-----------+-----------+-----------+-----------+--------------------+--------------------+----------------+--------------+------------+----------+-----------+-----------+-----------+--------------------+----------------+--------------+------------+----------+-----------+-----------+----------+--------------------+----------------+--------------+--+"
     ]
    },
    {
     "name": "stderr",
     "output_type": "stream",
     "text": [
      "\r",
      "100%|███████████████████████████████████████████████████████████████████████████████████████████████████████████████████████████████████████████████████| 1/1 [00:14<00:00, 14.97s/it]"
     ]
    },
    {
     "name": "stdout",
     "output_type": "stream",
     "text": [
      "\n"
     ]
    },
    {
     "name": "stderr",
     "output_type": "stream",
     "text": [
      "\n"
     ]
    },
    {
     "name": "stdout",
     "output_type": "stream",
     "text": [
      "|                 Title                 |   Rwp(%)  | Phase_Name |  Vol.(%)  |  error(%) |   Wt.(%)  |  error(%) | Cell_Par(Angstrom) | Cell_Par(Angstrom) | Size(Angstrom) | Microstrain  | Phase_Name | Vol.(%)  |  error(%) |   Wt.(%)  |  error(%) | Cell_Par(Angstrom) | Size(Angstrom) | Microstrain  | Phase_Name | Vol.(%)  |  error(%) |   Wt.(%)  | error(%) | Cell_Par(Angstrom) | Size(Angstrom) | Microstrain  |  |\n",
      "\n",
      "Archiving step data+---------------------------------------+-----------+------------+-----------+-----------+-----------+-----------+--------------------+--------------------+----------------+--------------+------------+----------+-----------+-----------+-----------+--------------------+----------------+--------------+------------+----------+-----------+-----------+----------+--------------------+----------------+--------------+--+\n",
      "\n",
      "| opt_ForkPoolWorker-2/Ti64_test_data02 | 62.445213 |   alpha    | 17.857815 | 3.0343645 | 30.355637 | 5.1579695 |     3.0002568      |     4.6817646      |     1000.0     | 1.2628998E-5 |   steel    | 4.303835 | 0.8633788 | 12.080069 | 2.4233446 |     3.5576472      |     1000.0     | 0.0020088213 |    beta    | 77.83835 | 12.448408 | 57.564297 | 9.206052 |      3.233392      |     1000.0     | 0.0029512863 |  |\n",
      "+---------------------------------------+-----------+------------+-----------+-----------+-----------+-----------+--------------------+--------------------+----------------+--------------+------------+----------+-----------+-----------+-----------+--------------------+----------------+--------------+------------+----------+-----------+-----------+----------+--------------------+----------------+--------------+--+\n",
      "+---------------------------------------+-----------+--+\n",
      "|                 Title                 |   Rwp(%)  |  |\n",
      "+---------------------------------------+-----------+--+STAT\n",
      " | opt_ForkPoolWorker-6/Ti64_test_data02 | 62.854446 |  |0.6244521\n",
      " +---------------------------------------+-----------+--+14.65294599533081\n",
      "\n",
      "+---------------------------------------+-----------+------------+----------+-----------+-----------+----------+--------------------+--------------------+----------------+--------------+------------+-----------+----------+-----------+-----------+--------------------+----------------+--------------+------------+----------+-----------+----------+-----------+--------------------+----------------+--------------+--+\n",
      "|                 Title                 |   Rwp(%)  | Phase_Name | Vol.(%)  |  error(%) |   Wt.(%)  | error(%) | Cell_Par(Angstrom) | Cell_Par(Angstrom) | Size(Angstrom) | Microstrain  | Phase_Name |  Vol.(%)  | error(%) |   Wt.(%)  |  error(%) | Cell_Par(Angstrom) | Size(Angstrom) | Microstrain  | Phase_Name | Vol.(%)  |  error(%) |  Wt.(%)  |  error(%) | Cell_Par(Angstrom) | Size(Angstrom) | Microstrain  |  |\n",
      "+---------------------------------------+-----------+------------+----------+-----------+-----------+----------+--------------------+--------------------+----------------+--------------+------------+-----------+----------+-----------+-----------+--------------------+----------------+--------------+------------+----------+-----------+----------+-----------+--------------------+----------------+--------------+--+\n",
      "| opt_ForkPoolWorker-6/Ti64_test_data02 | 62.854446 |   alpha    | 7.068041 | 3.8567922 | 12.901103 | 7.039698 |      3.00392       |      4.915853      |     1000.0     | 1.2628998E-5 |   steel    | 4.0326314 | 1.106519 | 12.792878 | 3.5102546 |     3.5576472      |     1000.0     | 0.0020088213 |    beta    | 88.89932 | 15.958904 | 74.30602 | 13.339163 |      3.233392      |     1000.0     | 0.0029512863 |  |\n",
      "+---------------------------------------+-----------+------------+----------+-----------+-----------+----------+--------------------+--------------------+----------------+--------------+------------+-----------+----------+-----------+-----------+--------------------+----------------+--------------+------------+----------+-----------+----------+-----------+--------------------+----------------+--------------+--+\n",
      "\n",
      "Starting MAUD refinement for step 3\n",
      "STAT========================= \n",
      "0.62854445 15.129833936691284\n"
     ]
    },
    {
     "name": "stderr",
     "output_type": "stream",
     "text": [
      "\r",
      "  0%|                                                                                                                                                           | 0/1 [00:00<?, ?it/s]"
     ]
    },
    {
     "name": "stdout",
     "output_type": "stream",
     "text": [
      "\n",
      "Starting MAUD refinement for step 3\n",
      "=========================\n"
     ]
    },
    {
     "name": "stderr",
     "output_type": "stream",
     "text": [
      "100%|███████████████████████████████████████████████████████████████████████████████████████████████████████████████████████████████████████████████████| 1/1 [00:14<00:00, 14.75s/it]\n"
     ]
    },
    {
     "name": "stdout",
     "output_type": "stream",
     "text": [
      "\n",
      "Archiving step data\n",
      "+---------------------------------------+----------+--+\n",
      "|                 Title                 |  Rwp(%)  |  |"
     ]
    },
    {
     "name": "stderr",
     "output_type": "stream",
     "text": [
      "\r",
      "100%|███████████████████████████████████████████████████████████████████████████████████████████████████████████████████████████████████████████████████| 1/1 [00:14<00:00, 14.76s/it]"
     ]
    },
    {
     "name": "stdout",
     "output_type": "stream",
     "text": [
      "\n"
     ]
    },
    {
     "name": "stderr",
     "output_type": "stream",
     "text": [
      "\r",
      "100%|███████████████████████████████████████████████████████████████████████████████████████████████████████████████████████████████████████████████████| 1/1 [00:14<00:00, 14.76s/it]"
     ]
    },
    {
     "name": "stdout",
     "output_type": "stream",
     "text": [
      "+---------------------------------------+----------+--+"
     ]
    },
    {
     "name": "stderr",
     "output_type": "stream",
     "text": [
      "\n"
     ]
    },
    {
     "name": "stdout",
     "output_type": "stream",
     "text": [
      "\n",
      "\n",
      "| opt_ForkPoolWorker-7/Ti64_test_data02 | 62.68012 |  |Archiving step data\n",
      "\n",
      "+---------------------------------------+----------+--+\n"
     ]
    },
    {
     "name": "stderr",
     "output_type": "stream",
     "text": [
      "\r",
      "100%|███████████████████████████████████████████████████████████████████████████████████████████████████████████████████████████████████████████████████| 1/1 [00:14<00:00, 14.69s/it]"
     ]
    },
    {
     "name": "stdout",
     "output_type": "stream",
     "text": [
      "+---------------------------------------+-----------+--+"
     ]
    },
    {
     "name": "stderr",
     "output_type": "stream",
     "text": [
      "\r",
      "100%|███████████████████████████████████████████████████████████████████████████████████████████████████████████████████████████████████████████████████| 1/1 [00:14<00:00, 14.70s/it]"
     ]
    },
    {
     "name": "stdout",
     "output_type": "stream",
     "text": [
      "+---------------------------------------+----------+------------+-----------+----------+-----------+-----------+--------------------+--------------------+----------------+--------------+------------+-----------+-----------+----------+----------+--------------------+----------------+--------------+------------+----------+----------+----------+-----------+--------------------+----------------+--------------+--+"
     ]
    },
    {
     "name": "stderr",
     "output_type": "stream",
     "text": [
      "\n"
     ]
    },
    {
     "name": "stdout",
     "output_type": "stream",
     "text": [
      "\n",
      "\n",
      "\n",
      "|                 Title                 |   Rwp(%)  |  ||                 Title                 |  Rwp(%)  | Phase_Name |  Vol.(%)  | error(%) |   Wt.(%)  |  error(%) | Cell_Par(Angstrom) | Cell_Par(Angstrom) | Size(Angstrom) | Microstrain  | Phase_Name |  Vol.(%)  |  error(%) |  Wt.(%)  | error(%) | Cell_Par(Angstrom) | Size(Angstrom) | Microstrain  | Phase_Name | Vol.(%)  | error(%) |  Wt.(%)  |  error(%) | Cell_Par(Angstrom) | Size(Angstrom) | Microstrain  |  |\n",
      "Archiving step data\n",
      "\n",
      "+---------------------------------------+-----------+--++---------------------------------------+----------+------------+-----------+----------+-----------+-----------+--------------------+--------------------+----------------+--------------+------------+-----------+-----------+----------+----------+--------------------+----------------+--------------+------------+----------+----------+----------+-----------+--------------------+----------------+--------------+--+\n",
      "\n",
      "| opt_ForkPoolWorker-8/Ti64_test_data02 | 63.158424 |  || opt_ForkPoolWorker-7/Ti64_test_data02 | 62.68012 |   alpha    | 7.9443803 | 3.790774 | 14.020706 | 6.6901793 |      3.00392       |      4.915853      |     1000.0     | 1.2628998E-5 |   steel    | 5.6843123 | 1.2839965 | 16.17581 | 3.65386  |     3.6477141      |     1000.0     | 0.0020088213 |    beta    | 86.37131 | 15.75585 | 69.80348 | 12.733548 |      3.233392      |     1000.0     | 0.0029512863 |  |\n",
      "\n",
      "+---------------------------------------+-----------+--++---------------------------------------+----------+------------+-----------+----------+-----------+-----------+--------------------+--------------------+----------------+--------------+------------+-----------+-----------+----------+----------+--------------------+----------------+--------------+------------+----------+----------+----------+-----------+--------------------+----------------+--------------+--+\n",
      "+---------------------------------------+-----------+--+\n",
      "\n",
      "|                 Title                 |   Rwp(%)  |  |\n",
      "+---------------------------------------+-----------+------------+----------+-----------+-----------+----------+--------------------+--------------------+----------------+--------------+------------+-----------+-----------+----------+----------+--------------------+----------------+--------------+------------+----------+-----------+-----------+-----------+--------------------+----------------+--------------+--++---------------------------------------+-----------+--+\n",
      "\n",
      "STAT|                 Title                 |   Rwp(%)  | Phase_Name | Vol.(%)  |  error(%) |   Wt.(%)  | error(%) | Cell_Par(Angstrom) | Cell_Par(Angstrom) | Size(Angstrom) | Microstrain  | Phase_Name |  Vol.(%)  |  error(%) |  Wt.(%)  | error(%) | Cell_Par(Angstrom) | Size(Angstrom) | Microstrain  | Phase_Name | Vol.(%)  |  error(%) |   Wt.(%)  |  error(%) | Cell_Par(Angstrom) | Size(Angstrom) | Microstrain  |  || opt_ForkPoolWorker-3/Ti64_test_data02 | 62.239445 |  | \n",
      "\n",
      "0.6268012+---------------------------------------+-----------+------------+----------+-----------+-----------+----------+--------------------+--------------------+----------------+--------------+------------+-----------+-----------+----------+----------+--------------------+----------------+--------------+------------+----------+-----------+-----------+-----------+--------------------+----------------+--------------+--++---------------------------------------+-----------+--+ \n",
      "\n",
      "14.962214946746826| opt_ForkPoolWorker-8/Ti64_test_data02 | 63.158424 |   alpha    | 9.195089 | 4.0592604 | 17.460838 | 7.708255 |      3.00392       |      4.915853      |     1000.0     | 1.2628998E-5 |   steel    | 1.8102506 | 1.1542764 | 5.151655 | 3.284868 |     3.7377813      |     1000.0     | 0.0020088213 |    beta    | 88.99466 | 16.902445 | 77.387505 | 14.697939 |      3.233392      |     1000.0     | 0.0029512863 |  |\n",
      "\n",
      "+---------------------------------------+-----------+------------+----------+-----------+-----------+----------+--------------------+--------------------+----------------+--------------+------------+-----------+-----------+----------+----------+--------------------+----------------+--------------+------------+----------+-----------+-----------+-----------+--------------------+----------------+--------------+--++---------------------------------------+-----------+------------+----------+----------+-----------+-----------+--------------------+--------------------+----------------+--------------+------------+-----------+-----------+----------+-----------+--------------------+----------------+--------------+------------+----------+----------+-----------+----------+--------------------+----------------+--------------+--+\n",
      "\n",
      "|                 Title                 |   Rwp(%)  | Phase_Name | Vol.(%)  | error(%) |   Wt.(%)  |  error(%) | Cell_Par(Angstrom) | Cell_Par(Angstrom) | Size(Angstrom) | Microstrain  | Phase_Name |  Vol.(%)  |  error(%) |  Wt.(%)  |  error(%) | Cell_Par(Angstrom) | Size(Angstrom) | Microstrain  | Phase_Name | Vol.(%)  | error(%) |   Wt.(%)  | error(%) | Cell_Par(Angstrom) | Size(Angstrom) | Microstrain  |  |\n",
      "+---------------------------------------+-----------+------------+----------+----------+-----------+-----------+--------------------+--------------------+----------------+--------------+------------+-----------+-----------+----------+-----------+--------------------+----------------+--------------+------------+----------+----------+-----------+----------+--------------------+----------------+--------------+--+STAT\n",
      " | opt_ForkPoolWorker-3/Ti64_test_data02 | 62.239445 |   alpha    | 18.59104 | 2.975111 | 30.531572 | 4.8859463 |     3.0002568      |     4.6817646      |     1000.0     | 1.2628998E-5 |   steel    | 6.2747984 | 0.9994326 | 15.78608 | 2.5143633 |     3.6477141      |     1000.0     | 0.0020088213 |    beta    | 75.13416 | 12.23246 | 53.682346 | 8.739928 |      3.233392      |     1000.0     | 0.0029512863 |  |0.6315842\n",
      " +---------------------------------------+-----------+------------+----------+----------+-----------+-----------+--------------------+--------------------+----------------+--------------+------------+-----------+-----------+----------+-----------+--------------------+----------------+--------------+------------+----------+----------+-----------+----------+--------------------+----------------+--------------+--+14.976874828338623\n",
      "\n",
      "STAT\n",
      " Starting MAUD refinement for step 30.62239444\n",
      " =========================14.906145095825195\n",
      "\n"
     ]
    },
    {
     "name": "stderr",
     "output_type": "stream",
     "text": [
      "\r",
      "  0%|                                                                                                                                                           | 0/1 [00:00<?, ?it/s]"
     ]
    },
    {
     "name": "stdout",
     "output_type": "stream",
     "text": [
      "\n",
      "Starting MAUD refinement for step 3\n",
      "=========================\n",
      "\n"
     ]
    },
    {
     "name": "stderr",
     "output_type": "stream",
     "text": [
      "\r",
      "  0%|                                                                                                                                                           | 0/1 [00:00<?, ?it/s]"
     ]
    },
    {
     "name": "stdout",
     "output_type": "stream",
     "text": [
      "Starting MAUD refinement for step 3\n",
      "=========================\n"
     ]
    },
    {
     "name": "stderr",
     "output_type": "stream",
     "text": [
      "100%|███████████████████████████████████████████████████████████████████████████████████████████████████████████████████████████████████████████████████| 1/1 [00:15<00:00, 15.02s/it]\n"
     ]
    },
    {
     "name": "stdout",
     "output_type": "stream",
     "text": [
      "\n",
      "Archiving step data"
     ]
    },
    {
     "name": "stderr",
     "output_type": "stream",
     "text": [
      "\r",
      "  0%|                                                                                                                                                           | 0/1 [00:00<?, ?it/s]"
     ]
    },
    {
     "name": "stdout",
     "output_type": "stream",
     "text": [
      "\n",
      "+---------------------------------------+----------+--+\n",
      "|                 Title                 |  Rwp(%)  |  |\n",
      "+---------------------------------------+----------+--+\n",
      "| opt_ForkPoolWorker-1/Ti64_test_data02 | 62.72622 |  |\n",
      "+---------------------------------------+----------+--+\n",
      "+---------------------------------------+----------+------------+-----------+-----------+-----------+-----------+--------------------+--------------------+----------------+--------------+------------+-----------+------------+----------+----------+--------------------+----------------+--------------+------------+----------+-----------+-----------+----------+--------------------+----------------+--------------+--+\n",
      "|                 Title                 |  Rwp(%)  | Phase_Name |  Vol.(%)  |  error(%) |   Wt.(%)  |  error(%) | Cell_Par(Angstrom) | Cell_Par(Angstrom) | Size(Angstrom) | Microstrain  | Phase_Name |  Vol.(%)  |  error(%)  |  Wt.(%)  | error(%) | Cell_Par(Angstrom) | Size(Angstrom) | Microstrain  | Phase_Name | Vol.(%)  |  error(%) |   Wt.(%)  | error(%) | Cell_Par(Angstrom) | Size(Angstrom) | Microstrain  |  |\n",
      "+---------------------------------------+----------+------------+-----------+-----------+-----------+-----------+--------------------+--------------------+----------------+--------------+------------+-----------+------------+----------+----------+--------------------+----------------+--------------+------------+----------+-----------+-----------+----------+--------------------+----------------+--------------+--+\n",
      "| opt_ForkPoolWorker-1/Ti64_test_data02 | 62.72622 |   alpha    | 18.851688 | 3.1140938 | 33.511604 | 5.5357523 |     3.0002568      |     4.6817646      |     1000.0     | 1.2628998E-5 |   steel    | 1.5563016 | 0.66690874 | 4.933449 | 2.114089 |      3.46758       |     1000.0     | 0.0020088213 |    beta    | 79.59201 | 12.761776 | 61.554947 | 9.869715 |      3.233392      |     1000.0     | 0.0029512863 |  |\n",
      "+---------------------------------------+----------+------------+-----------+-----------+-----------+-----------+--------------------+--------------------+----------------+--------------+------------+-----------+------------+----------+----------+--------------------+----------------+--------------+------------+----------+-----------+-----------+----------+--------------------+----------------+--------------+--+\n",
      "STAT 0.62726223 15.228112936019897\n",
      "\n",
      "Starting MAUD refinement for step 3\n",
      "=========================\n"
     ]
    },
    {
     "name": "stderr",
     "output_type": "stream",
     "text": [
      "100%|███████████████████████████████████████████████████████████████████████████████████████████████████████████████████████████████████████████████████| 1/1 [00:14<00:00, 14.51s/it]\n"
     ]
    },
    {
     "name": "stdout",
     "output_type": "stream",
     "text": [
      "\n",
      "Archiving step data\n",
      "+---------------------------------------+-----------+--+\n",
      "|                 Title                 |   Rwp(%)  |  |\n",
      "+---------------------------------------+-----------+--+\n",
      "| opt_ForkPoolWorker-4/Ti64_test_data03 | 62.558247 |  |\n",
      "+---------------------------------------+-----------+--+\n",
      "+---------------------------------------+-----------+------------+-----------+-----------+-----------+----------+--------------------+--------------------+----------------+--------------+------------+-----------+-----------+-----------+-----------+--------------------+----------------+--------------+------------+----------+-----------+----------+-----------+--------------------+----------------+--------------+--+\n",
      "|                 Title                 |   Rwp(%)  | Phase_Name |  Vol.(%)  |  error(%) |   Wt.(%)  | error(%) | Cell_Par(Angstrom) | Cell_Par(Angstrom) | Size(Angstrom) | Microstrain  | Phase_Name |  Vol.(%)  |  error(%) |   Wt.(%)  |  error(%) | Cell_Par(Angstrom) | Size(Angstrom) | Microstrain  | Phase_Name | Vol.(%)  |  error(%) |  Wt.(%)  |  error(%) | Cell_Par(Angstrom) | Size(Angstrom) | Microstrain  |  |\n",
      "+---------------------------------------+-----------+------------+-----------+-----------+-----------+----------+--------------------+--------------------+----------------+--------------+------------+-----------+-----------+-----------+-----------+--------------------+----------------+--------------+------------+----------+-----------+----------+-----------+--------------------+----------------+--------------+--+\n",
      "| opt_ForkPoolWorker-4/Ti64_test_data03 | 62.558247 |   alpha    | 12.525554 | 2.9182396 | 25.054235 | 5.837208 |     2.8573875      |      4.915853      |     1000.0     | 1.2628998E-5 |   steel    | 1.2996663 | 1.1069936 | 3.5251412 | 3.0025463 |     3.7377813      |     1000.0     | 0.0020088213 |    beta    | 86.17478 | 14.122976 | 71.42062 | 11.704953 |      3.233392      |     1000.0     | 0.0029512863 |  |\n",
      "+---------------------------------------+-----------+------------+-----------+-----------+-----------+----------+--------------------+--------------------+----------------+--------------+------------+-----------+-----------+-----------+-----------+--------------------+----------------+--------------+------------+----------+-----------+----------+-----------+--------------------+----------------+--------------+--+\n",
      "STAT 0.62558246 14.682285070419312\n",
      "\n",
      "Starting MAUD refinement for step 4\n",
      "=========================\n"
     ]
    },
    {
     "name": "stderr",
     "output_type": "stream",
     "text": [
      "100%|███████████████████████████████████████████████████████████████████████████████████████████████████████████████████████████████████████████████████| 1/1 [00:14<00:00, 14.83s/it]\n"
     ]
    },
    {
     "name": "stdout",
     "output_type": "stream",
     "text": [
      "\n",
      "Archiving step data\n",
      "+---------------------------------------+-----------+--+\n",
      "|                 Title                 |   Rwp(%)  |  |\n",
      "+---------------------------------------+-----------+--+\n",
      "| opt_ForkPoolWorker-2/Ti64_test_data03 | 62.196396 |  |\n",
      "+---------------------------------------+-----------+--+\n",
      "+---------------------------------------+-----------+------------+-----------+-----------+-----------+-----------+--------------------+--------------------+----------------+--------------+------------+----------+----------+------------+----------+--------------------+----------------+--------------+------------+----------+-----------+-----------+-----------+--------------------+----------------+--------------+--+\n",
      "|                 Title                 |   Rwp(%)  | Phase_Name |  Vol.(%)  |  error(%) |   Wt.(%)  |  error(%) | Cell_Par(Angstrom) | Cell_Par(Angstrom) | Size(Angstrom) | Microstrain  | Phase_Name | Vol.(%)  | error(%) |   Wt.(%)   | error(%) | Cell_Par(Angstrom) | Size(Angstrom) | Microstrain  | Phase_Name | Vol.(%)  |  error(%) |   Wt.(%)  |  error(%) | Cell_Par(Angstrom) | Size(Angstrom) | Microstrain  |  |\n",
      "+---------------------------------------+-----------+------------+-----------+-----------+-----------+-----------+--------------------+--------------------+----------------+--------------+------------+----------+----------+------------+----------+--------------------+----------------+--------------+------------+----------+-----------+-----------+-----------+--------------------+----------------+--------------+--+\n",
      "| opt_ForkPoolWorker-2/Ti64_test_data03 | 62.196396 |   alpha    | 12.198687 | 2.7735448 | 23.189651 | 5.2724967 |     2.8573875      |      4.915853      |     1000.0     | 1.2628998E-5 |   steel    | 3.475556 | 1.061627 | 10.3900795 | 3.173705 |     3.5576472      |     1000.0     | 0.0020088213 |    beta    | 84.32575 | 13.410388 | 66.420265 | 10.562865 |      3.233392      |     1000.0     | 0.0029512863 |  |\n",
      "+---------------------------------------+-----------+------------+-----------+-----------+-----------+-----------+--------------------+--------------------+----------------+--------------+------------+----------+----------+------------+----------+--------------------+----------------+--------------+------------+----------+-----------+-----------+-----------+--------------------+----------------+--------------+--+\n"
     ]
    },
    {
     "name": "stderr",
     "output_type": "stream",
     "text": [
      "100%|███████████████████████████████████████████████████████████████████████████████████████████████████████████████████████████████████████████████████| 1/1 [00:15<00:00, 15.46s/it]"
     ]
    },
    {
     "name": "stdout",
     "output_type": "stream",
     "text": [
      "STAT"
     ]
    },
    {
     "name": "stderr",
     "output_type": "stream",
     "text": [
      "\n"
     ]
    },
    {
     "name": "stdout",
     "output_type": "stream",
     "text": [
      " \n",
      "0.6219639 Archiving step data15.006360054016113\n",
      "\n",
      "+---------------------------------------+-----------+--+\n",
      "|                 Title                 |   Rwp(%)  |  |\n",
      "+---------------------------------------+-----------+--+\n",
      "| opt_ForkPoolWorker-5/Ti64_test_data03 | 61.914894 |  |\n",
      "+---------------------------------------+-----------+--+\n",
      "\n",
      "+---------------------------------------+-----------+------------+-----------+-----------+-----------+-----------+--------------------+--------------------+----------------+--------------+------------+----------+-----------+-----------+----------+--------------------+----------------+--------------+------------+----------+----------+----------+-----------+--------------------+----------------+--------------+--+Starting MAUD refinement for step 4\n",
      "\n",
      "|                 Title                 |   Rwp(%)  | Phase_Name |  Vol.(%)  |  error(%) |   Wt.(%)  |  error(%) | Cell_Par(Angstrom) | Cell_Par(Angstrom) | Size(Angstrom) | Microstrain  | Phase_Name | Vol.(%)  |  error(%) |   Wt.(%)  | error(%) | Cell_Par(Angstrom) | Size(Angstrom) | Microstrain  | Phase_Name | Vol.(%)  | error(%) |  Wt.(%)  |  error(%) | Cell_Par(Angstrom) | Size(Angstrom) | Microstrain  |  |=========================\n",
      "\n",
      "+---------------------------------------+-----------+------------+-----------+-----------+-----------+-----------+--------------------+--------------------+----------------+--------------+------------+----------+-----------+-----------+----------+--------------------+----------------+--------------+------------+----------+----------+----------+-----------+--------------------+----------------+--------------+--+\n",
      "| opt_ForkPoolWorker-5/Ti64_test_data03 | 61.914894 |   alpha    | 18.680584 | 3.6640546 | 29.211924 | 5.7296968 |      3.00392       |     4.6817646      |     1000.0     | 1.2628998E-5 |   steel    | 8.846559 | 1.2985593 | 21.362295 | 3.135706 |     3.6409593      |     1000.0     | 0.0020088213 |    beta    | 72.47286 | 14.84458 | 49.42578 | 10.123858 |      3.233392      |     1000.0     | 0.0029512863 |  |\n",
      "+---------------------------------------+-----------+------------+-----------+-----------+-----------+-----------+--------------------+--------------------+----------------+--------------+------------+----------+-----------+-----------+----------+--------------------+----------------+--------------+------------+----------+----------+----------+-----------+--------------------+----------------+--------------+--+\n"
     ]
    },
    {
     "name": "stderr",
     "output_type": "stream",
     "text": [
      "\r",
      "  0%|                                                                                                                                                           | 0/1 [00:00<?, ?it/s]"
     ]
    },
    {
     "name": "stdout",
     "output_type": "stream",
     "text": [
      "STAT 0.61914897 15.637804985046387\n",
      "\n",
      "Starting MAUD refinement for step 4\n",
      "=========================\n"
     ]
    },
    {
     "name": "stderr",
     "output_type": "stream",
     "text": [
      "100%|███████████████████████████████████████████████████████████████████████████████████████████████████████████████████████████████████████████████████| 1/1 [00:14<00:00, 14.68s/it]\n"
     ]
    },
    {
     "name": "stdout",
     "output_type": "stream",
     "text": [
      "\n"
     ]
    },
    {
     "name": "stderr",
     "output_type": "stream",
     "text": [
      "\r",
      "100%|███████████████████████████████████████████████████████████████████████████████████████████████████████████████████████████████████████████████████| 1/1 [00:14<00:00, 14.72s/it]"
     ]
    },
    {
     "name": "stdout",
     "output_type": "stream",
     "text": [
      "Archiving step data"
     ]
    },
    {
     "name": "stderr",
     "output_type": "stream",
     "text": [
      "\n"
     ]
    },
    {
     "name": "stdout",
     "output_type": "stream",
     "text": [
      "\n",
      "\n"
     ]
    },
    {
     "name": "stderr",
     "output_type": "stream",
     "text": [
      "\r",
      "100%|███████████████████████████████████████████████████████████████████████████████████████████████████████████████████████████████████████████████████| 1/1 [00:14<00:00, 14.64s/it]"
     ]
    },
    {
     "name": "stdout",
     "output_type": "stream",
     "text": [
      "Archiving step data\n"
     ]
    },
    {
     "name": "stderr",
     "output_type": "stream",
     "text": [
      "100%|███████████████████████████████████████████████████████████████████████████████████████████████████████████████████████████████████████████████████| 1/1 [00:14<00:00, 14.65s/it]\n"
     ]
    },
    {
     "name": "stdout",
     "output_type": "stream",
     "text": [
      "+---------------------------------------+-----------+--+\n",
      "\n",
      "Archiving step data\n",
      "|                 Title                 |   Rwp(%)  |  |+---------------------------------------+-----------+--+\n",
      "\n",
      "+---------------------------------------+-----------+--+|                 Title                 |   Rwp(%)  |  |\n"
     ]
    },
    {
     "name": "stderr",
     "output_type": "stream",
     "text": [
      "\r",
      "100%|███████████████████████████████████████████████████████████████████████████████████████████████████████████████████████████████████████████████████| 1/1 [00:15<00:00, 15.22s/it]"
     ]
    },
    {
     "name": "stdout",
     "output_type": "stream",
     "text": [
      "\n",
      "| opt_ForkPoolWorker-8/Ti64_test_data03 | 62.772152 |  |+---------------------------------------+-----------+--++---------------------------------------+----------+--+"
     ]
    },
    {
     "name": "stderr",
     "output_type": "stream",
     "text": [
      "\r",
      "100%|███████████████████████████████████████████████████████████████████████████████████████████████████████████████████████████████████████████████████| 1/1 [00:15<00:00, 15.23s/it]"
     ]
    },
    {
     "name": "stdout",
     "output_type": "stream",
     "text": [
      "\n",
      "\n",
      "\n"
     ]
    },
    {
     "name": "stderr",
     "output_type": "stream",
     "text": [
      "\n"
     ]
    },
    {
     "name": "stdout",
     "output_type": "stream",
     "text": [
      "+---------------------------------------+-----------+--+| opt_ForkPoolWorker-7/Ti64_test_data03 | 62.280476 |  |\n",
      "\n",
      "|                 Title                 |  Rwp(%)  |  |\n",
      "Archiving step data\n",
      "+---------------------------------------+-----------+--++---------------------------------------+----------+--+\n",
      "\n",
      "\n",
      "+---------------------------------------+-----------+------------+-----------+----------+-----------+-----------+--------------------+--------------------+----------------+--------------+------------+-----------+-----------+-----------+----------+--------------------+----------------+--------------+------------+----------+-----------+----------+-----------+--------------------+----------------+--------------+--+| opt_ForkPoolWorker-3/Ti64_test_data03 | 62.07021 |  |\n",
      "\n",
      "|                 Title                 |   Rwp(%)  | Phase_Name |  Vol.(%)  | error(%) |   Wt.(%)  |  error(%) | Cell_Par(Angstrom) | Cell_Par(Angstrom) | Size(Angstrom) | Microstrain  | Phase_Name |  Vol.(%)  |  error(%) |   Wt.(%)  | error(%) | Cell_Par(Angstrom) | Size(Angstrom) | Microstrain  | Phase_Name | Vol.(%)  |  error(%) |  Wt.(%)  |  error(%) | Cell_Par(Angstrom) | Size(Angstrom) | Microstrain  |  |+---------------------------------------+----------+--++---------------------------------------+-----------+------------+-----------+-----------+-----------+-----------+--------------------+--------------------+----------------+--------------+------------+----------+-----------+-----------+-----------+--------------------+----------------+--------------+------------+-----------+-----------+----------+-----------+--------------------+----------------+--------------+--+\n",
      "\n",
      "+---------------------------------------+-----------+--+\n",
      "+---------------------------------------+-----------+------------+-----------+----------+-----------+-----------+--------------------+--------------------+----------------+--------------+------------+-----------+-----------+-----------+----------+--------------------+----------------+--------------+------------+----------+-----------+----------+-----------+--------------------+----------------+--------------+--+\n",
      "|                 Title                 |   Rwp(%)  | Phase_Name |  Vol.(%)  |  error(%) |   Wt.(%)  |  error(%) | Cell_Par(Angstrom) | Cell_Par(Angstrom) | Size(Angstrom) | Microstrain  | Phase_Name | Vol.(%)  |  error(%) |   Wt.(%)  |  error(%) | Cell_Par(Angstrom) | Size(Angstrom) | Microstrain  | Phase_Name |  Vol.(%)  |  error(%) |  Wt.(%)  |  error(%) | Cell_Par(Angstrom) | Size(Angstrom) | Microstrain  |  |\n",
      "|                 Title                 |   Rwp(%)  |  |\n",
      "| opt_ForkPoolWorker-8/Ti64_test_data03 | 62.772152 |   alpha    | 20.619497 | 3.761819 | 35.988155 | 6.5656757 |      3.00392       |     4.6817646      |     1000.0     | 1.2628998E-5 |   steel    | 2.0744543 | 1.0167601 | 5.1676736 | 2.532851 |     3.7377813      |     1000.0     | 0.0020088213 |    beta    | 77.30605 | 15.257797 | 58.84417 | 11.613999 |      3.233392      |     1000.0     | 0.0029512863 |  |\n",
      "+---------------------------------------+-----------+------------+-----------+-----------+-----------+-----------+--------------------+--------------------+----------------+--------------+------------+----------+-----------+-----------+-----------+--------------------+----------------+--------------+------------+-----------+-----------+----------+-----------+--------------------+----------------+--------------+--+\n",
      "+---------------------------------------+----------+------------+----------+-----------+-----------+-----------+--------------------+--------------------+----------------+--------------+------------+----------+-----------+----------+-----------+--------------------+----------------+--------------+------------+----------+-----------+----------+-----------+--------------------+----------------+--------------+--++---------------------------------------+-----------+--+\n",
      "+---------------------------------------+-----------+------------+-----------+----------+-----------+-----------+--------------------+--------------------+----------------+--------------+------------+-----------+-----------+-----------+----------+--------------------+----------------+--------------+------------+----------+-----------+----------+-----------+--------------------+----------------+--------------+--+\n",
      "\n",
      "\n",
      "| opt_ForkPoolWorker-7/Ti64_test_data03 | 62.280476 |   alpha    | 19.180902 | 3.5245848 | 31.178167 | 5.7291408 |      3.00392       |     4.6817646      |     1000.0     | 1.2628998E-5 |   steel    | 6.450455 | 1.1349547 | 16.101295 | 2.8330157 |     3.6477141      |     1000.0     | 0.0020088213 |    beta    | 74.368645 | 14.279126 | 52.72054 | 10.122589 |      3.233392      |     1000.0     | 0.0029512863 |  ||                 Title                 |  Rwp(%)  | Phase_Name | Vol.(%)  |  error(%) |   Wt.(%)  |  error(%) | Cell_Par(Angstrom) | Cell_Par(Angstrom) | Size(Angstrom) | Microstrain  | Phase_Name | Vol.(%)  |  error(%) |  Wt.(%)  |  error(%) | Cell_Par(Angstrom) | Size(Angstrom) | Microstrain  | Phase_Name | Vol.(%)  |  error(%) |  Wt.(%)  |  error(%) | Cell_Par(Angstrom) | Size(Angstrom) | Microstrain  |  || opt_ForkPoolWorker-6/Ti64_test_data03 | 62.776382 |  |\n",
      "\n",
      "\n",
      "+---------------------------------------+-----------+------------+-----------+-----------+-----------+-----------+--------------------+--------------------+----------------+--------------+------------+----------+-----------+-----------+-----------+--------------------+----------------+--------------+------------+-----------+-----------+----------+-----------+--------------------+----------------+--------------+--++---------------------------------------+----------+------------+----------+-----------+-----------+-----------+--------------------+--------------------+----------------+--------------+------------+----------+-----------+----------+-----------+--------------------+----------------+--------------+------------+----------+-----------+----------+-----------+--------------------+----------------+--------------+--++---------------------------------------+-----------+--+\n",
      "\n",
      "\n",
      "STAT| opt_ForkPoolWorker-3/Ti64_test_data03 | 62.07021 |   alpha    | 11.89402 | 2.7358496 | 22.342249 | 5.1391397 |     2.8573875      |      4.915853      |     1000.0     | 1.2628998E-5 |   steel    | 4.629021 | 1.2363298 | 12.68607 | 3.3882253 |     3.6477141      |     1000.0     | 0.0020088213 |    beta    | 83.47696 | 13.225691 | 64.97168 | 10.293803 |      3.233392      |     1000.0     | 0.0029512863 |  | \n",
      "0.62772155+---------------------------------------+----------+------------+----------+-----------+-----------+-----------+--------------------+--------------------+----------------+--------------+------------+----------+-----------+----------+-----------+--------------------+----------------+--------------+------------+----------+-----------+----------+-----------+--------------------+----------------+--------------+--+STAT +---------------------------------------+-----------+------------+-----------+-----------+-----------+----------+--------------------+--------------------+----------------+--------------+------------+----------+-----------+----------+-----------+--------------------+----------------+--------------+------------+-----------+-----------+-----------+-----------+--------------------+----------------+--------------+--+\n",
      " 14.881717920303345\n",
      "0.62280476|                 Title                 |   Rwp(%)  | Phase_Name |  Vol.(%)  |  error(%) |   Wt.(%)  | error(%) | Cell_Par(Angstrom) | Cell_Par(Angstrom) | Size(Angstrom) | Microstrain  | Phase_Name | Vol.(%)  |  error(%) |  Wt.(%)  |  error(%) | Cell_Par(Angstrom) | Size(Angstrom) | Microstrain  | Phase_Name |  Vol.(%)  |  error(%) |   Wt.(%)  |  error(%) | Cell_Par(Angstrom) | Size(Angstrom) | Microstrain  |  |\n",
      " \n"
     ]
    },
    {
     "name": "stdout",
     "output_type": "stream",
     "text": [
      "14.92949914932251+---------------------------------------+-----------+------------+-----------+-----------+-----------+----------+--------------------+--------------------+----------------+--------------+------------+----------+-----------+----------+-----------+--------------------+----------------+--------------+------------+-----------+-----------+-----------+-----------+--------------------+----------------+--------------+--+STAT\n",
      "\n",
      " | opt_ForkPoolWorker-6/Ti64_test_data03 | 62.776382 |   alpha    | 20.632334 | 3.5823655 | 36.038193 | 6.257265 |      3.00392       |     4.6817646      |     1000.0     | 1.2628998E-5 |   steel    | 2.017567 | 0.9651848 | 5.038919 | 2.4105706 |     3.7355297      |     1000.0     | 0.0020088213 |    beta    | 77.350105 | 14.531356 | 58.922886 | 11.069532 |      3.233392      |     1000.0     | 0.0029512863 |  |0.6207021\n",
      " +---------------------------------------+-----------+------------+-----------+-----------+-----------+----------+--------------------+--------------------+----------------+--------------+------------+----------+-----------+----------+-----------+--------------------+----------------+--------------+------------+-----------+-----------+-----------+-----------+--------------------+----------------+--------------+--+14.872997999191284\n",
      "\n",
      "STAT 0.62776387 \n",
      "15.40421199798584Starting MAUD refinement for step 4\n",
      "\n",
      "=========================\n",
      "\n",
      "Starting MAUD refinement for step 4\n",
      "=========================\n",
      "\n",
      "Starting MAUD refinement for step 4\n"
     ]
    },
    {
     "name": "stderr",
     "output_type": "stream",
     "text": [
      "\r",
      "  0%|                                                                                                                                                           | 0/1 [00:00<?, ?it/s]"
     ]
    },
    {
     "name": "stdout",
     "output_type": "stream",
     "text": [
      "=========================\n"
     ]
    },
    {
     "name": "stderr",
     "output_type": "stream",
     "text": [
      "\r",
      "  0%|                                                                                                                                                           | 0/1 [00:00<?, ?it/s]"
     ]
    },
    {
     "name": "stdout",
     "output_type": "stream",
     "text": [
      "\n",
      "Starting MAUD refinement for step 4"
     ]
    },
    {
     "name": "stderr",
     "output_type": "stream",
     "text": [
      "\r",
      "  0%|                                                                                                                                                           | 0/1 [00:00<?, ?it/s]"
     ]
    },
    {
     "name": "stdout",
     "output_type": "stream",
     "text": [
      "\n",
      "=========================\n"
     ]
    },
    {
     "name": "stderr",
     "output_type": "stream",
     "text": [
      "100%|███████████████████████████████████████████████████████████████████████████████████████████████████████████████████████████████████████████████████| 1/1 [00:14<00:00, 14.93s/it]\n"
     ]
    },
    {
     "name": "stdout",
     "output_type": "stream",
     "text": [
      "\n",
      "Archiving step data\n",
      "+---------------------------------------+-----------+--+\n",
      "|                 Title                 |   Rwp(%)  |  |\n",
      "+---------------------------------------+-----------+--+\n",
      "| opt_ForkPoolWorker-1/Ti64_test_data03 | 62.531048 |  |\n",
      "+---------------------------------------+-----------+--+\n",
      "+---------------------------------------+-----------+------------+-----------+-----------+-----------+----------+--------------------+--------------------+----------------+--------------+------------+----------+-----------+----------+-----------+--------------------+----------------+--------------+------------+----------+-----------+----------+-----------+--------------------+----------------+--------------+--+\n",
      "|                 Title                 |   Rwp(%)  | Phase_Name |  Vol.(%)  |  error(%) |   Wt.(%)  | error(%) | Cell_Par(Angstrom) | Cell_Par(Angstrom) | Size(Angstrom) | Microstrain  | Phase_Name | Vol.(%)  |  error(%) |  Wt.(%)  |  error(%) | Cell_Par(Angstrom) | Size(Angstrom) | Microstrain  | Phase_Name | Vol.(%)  |  error(%) |  Wt.(%)  |  error(%) | Cell_Par(Angstrom) | Size(Angstrom) | Microstrain  |  |\n",
      "+---------------------------------------+-----------+------------+-----------+-----------+-----------+----------+--------------------+--------------------+----------------+--------------+------------+----------+-----------+----------+-----------+--------------------+----------------+--------------+------------+----------+-----------+----------+-----------+--------------------+----------------+--------------+--+\n",
      "| opt_ForkPoolWorker-1/Ti64_test_data03 | 62.531048 |   alpha    | 12.266315 | 2.8777835 | 24.456022 | 5.737594 |     2.8573875      |      4.915853      |     1000.0     | 1.2628998E-5 |   steel    | 1.198245 | 0.8291356 | 4.057327 | 2.8075008 |      3.46758       |     1000.0     | 0.0020088213 |    beta    | 86.53544 | 13.883317 | 71.48665 | 11.468964 |      3.233392      |     1000.0     | 0.0029512863 |  |\n",
      "+---------------------------------------+-----------+------------+-----------+-----------+-----------+----------+--------------------+--------------------+----------------+--------------+------------+----------+-----------+----------+-----------+--------------------+----------------+--------------+------------+----------+-----------+----------+-----------+--------------------+----------------+--------------+--+\n",
      "STAT 0.6253105 15.10879111289978\n",
      "\n",
      "Starting MAUD refinement for step 4\n",
      "=========================\n"
     ]
    },
    {
     "name": "stderr",
     "output_type": "stream",
     "text": [
      "\r",
      "  0%|                                                                                                                                                           | 0/1 [00:00<?, ?it/s]"
     ]
    }
   ],
   "source": [
    "from mystic.solvers import LatticeSolver\n",
    "\n",
    "# set the ranges\n",
    "target = [2.9306538, 4.6817646, 3.6026807, 3.233392]\n",
    "lower_bounds = [x * 0.95 for x in target]\n",
    "upper_bounds = [x * 1.05 for x in target]\n",
    "\n",
    "# set random seed so we can reproduce results\n",
    "tools.random_seed(0)\n",
    "\n",
    "# create a solver\n",
    "solver = LatticeSolver(4, 8)\n",
    "\n",
    "# set multi-processing pool\n",
    "solver.SetMapper(Pool().map)\n",
    "\n",
    "# since we have an search solver\n",
    "# we specify what optimization algorithm to use within the search\n",
    "subsolver = NelderMeadSimplexSolver(4)\n",
    "subsolver.SetEvaluationLimits(50, 50)\n",
    "solver.SetNestedSolver(subsolver)\n",
    "\n",
    "# set the range to search for all parameters\n",
    "solver.SetStrictRanges(lower_bounds, upper_bounds)\n",
    "\n",
    "# find the minimum\n",
    "solver.Solve(CostFunction(4), VTR())\n",
    "\n",
    "# print the best parameters\n",
    "print(f\"The best solution is {solver.bestSolution} with Rwp {solver.bestEnergy}\")\n",
    "print(f\"The reference solutions is {target}\")\n",
    "ratios = [x / y for x, y in zip(target, solver.bestSolution)]\n",
    "print(f\"The ratios of to the reference values are {ratios}\")"
   ]
  },
  {
   "cell_type": "markdown",
   "id": "71eb6dd6",
   "metadata": {},
   "source": [
    "This concludes the end of the tutorial."
   ]
  }
 ],
 "metadata": {
  "kernelspec": {
   "display_name": "Python 3 (ipykernel)",
   "language": "python",
   "name": "python3"
  },
  "language_info": {
   "codemirror_mode": {
    "name": "ipython",
    "version": 3
   },
   "file_extension": ".py",
   "mimetype": "text/x-python",
   "name": "python",
   "nbconvert_exporter": "python",
   "pygments_lexer": "ipython3",
   "version": "3.8.13"
  }
 },
 "nbformat": 4,
 "nbformat_minor": 5
}

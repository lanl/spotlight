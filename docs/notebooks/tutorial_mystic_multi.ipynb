{
 "cells": [
  {
   "cell_type": "markdown",
   "id": "5571510d",
   "metadata": {},
   "source": [
    "# Run a multi-dimensional optimization\n",
    "\n",
    "This page contains a very simple tutorial to optimize a multi-dimensional cost function.\n",
    "Since problems with larger domains, such as multi-dimensional problems, will take many iterations of optimizers to search and find the minima, we will demonsrate how to execute these searches in parallel.\n",
    "\n",
    "The key concepts you should gain from this page:\n",
    " * How to define a multi-dimensional cost function.\n",
    " * How to use an optimization search to find the minimum of the multi-dimensional cost function.\n",
    " * How to call the optimization in parallel."
   ]
  },
  {
   "cell_type": "code",
   "execution_count": null,
   "id": "5b07c02a",
   "metadata": {},
   "outputs": [],
   "source": []
  },
  {
   "cell_type": "markdown",
   "id": "9a856dce",
   "metadata": {},
   "source": [
    "You should now have an understanding of how to setup a optimization search and execute it in parallel. We will now move on to how this can be implemented in a Rietveld analysis."
   ]
  }
 ],
 "metadata": {
  "kernelspec": {
   "display_name": "Python 3 (ipykernel)",
   "language": "python",
   "name": "python3"
  },
  "language_info": {
   "codemirror_mode": {
    "name": "ipython",
    "version": 3
   },
   "file_extension": ".py",
   "mimetype": "text/x-python",
   "name": "python",
   "nbconvert_exporter": "python",
   "pygments_lexer": "ipython3",
   "version": "3.8.13"
  }
 },
 "nbformat": 4,
 "nbformat_minor": 5
}

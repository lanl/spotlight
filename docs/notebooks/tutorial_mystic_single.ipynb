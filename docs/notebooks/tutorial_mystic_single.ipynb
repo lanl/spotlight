{
 "cells": [
  {
   "cell_type": "markdown",
   "id": "bdd9e48e",
   "metadata": {},
   "source": [
    "# Run a single optimization\n",
    "\n",
    "This page contains a very simple tutorial on how to run a single optimizer.\n",
    "Even though many folks have probably run a single local optimizer many times, this is meant to familiarize users with the basic API using the package.\n",
    "Mystic has a plug-and-play API and the user can define many custom optimations, termination conditions, etc.\n",
    "In this tutorial, we focus on how to apply some readily available out-of-the-box options instead of describing how to design new options.\n",
    "After this basic introduction, we will then progress to multi-dimensional cost functions, multi-processing, and using a shared database.\n",
    "\n",
    "The key concepts you should gain from this page:\n",
    "\n",
    " * How to define a cost function.\n",
    " * How to use an optimization algorithm to find the minimum of the cost function.\n",
    " * How to add a constraint.\n",
    " * What are the available optimization algorithms.\n",
    " * What are the available optimization termination conditions.\n",
    " \n",
    "This is a very basic introduction to Mystic which is a library with a lot of functionality.\n",
    "We will only touch a small part of the available options.\n",
    "Feel free to see the [Mystic code documentation](https://mystic.readthedocs.io/en/latest/mystic.html) for more options.\n",
    "There are links through these pages to classes and modules as they relate to the examples."
   ]
  },
  {
   "cell_type": "markdown",
   "id": "df99dc1a",
   "metadata": {},
   "source": [
    "## Define a cost function\n",
    "\n",
    "Similar to other packages like scipy, Mystic can optimize a Python function.\n",
    "For example, below we define a cost function, called ``cost_func(params)``, which takes a list of parameters ``params``; ``params`` will be a ``list`` of ``float`` values.\n",
    "This function specifies an inverted Gaussian using scipy.\n",
    "In the section below, we will show how to find the minimum of this function."
   ]
  },
  {
   "cell_type": "code",
   "execution_count": 2,
   "id": "faae93af",
   "metadata": {},
   "outputs": [
    {
     "data": {
      "image/png": "[encoded data removed]",
      "text/plain": [
       "<Figure size 432x288 with 1 Axes>"
      ]
     },
     "metadata": {
      "needs_background": "light"
     },
     "output_type": "display_data"
    }
   ],
   "source": [
    "import matplotlib.pyplot as plt\n",
    "import numpy\n",
    "from scipy import stats\n",
    "\n",
    "def cost_func(params):\n",
    "    \"\"\" Executed for each set of drawn parameters in the optimization search.\n",
    "    \"\"\"\n",
    "\n",
    "    # get the x value from Mystic\n",
    "    # params is a list so we take the 0-th index of the list\n",
    "    x = params\n",
    "\n",
    "    # get value at inverted Gaussian function x\n",
    "    # the Gaussian peak is at 4.25\n",
    "    var = stats.multivariate_normal(mean=[4.25], cov=[[1]])\n",
    "    stat = -50.0 * var.pdf([x])\n",
    "\n",
    "    # whether to flip sign of function\n",
    "    # a positive lets you search for minimum\n",
    "    # a negative lets you search for maximum\n",
    "    stat *= 1.0\n",
    "\n",
    "    return stat\n",
    "\n",
    "# plot the function between -9.5 and 9.5\n",
    "x = numpy.linspace(-9.5, 9.5, 100)\n",
    "plt.plot(x, [cost_func(i) for i in x])\n",
    "\n",
    "# show the plot\n",
    "plt.show()"
   ]
  },
  {
   "cell_type": "markdown",
   "id": "d07f9687",
   "metadata": {},
   "source": [
    "## Run an opitimizer\n",
    "\n",
    "We are going to use the ``PowellDirectionSolver`` which is a modified version of Powell's method on this cost function.\n",
    "Below is an illustration of the local optimization algorithm which searches along search vectors, finds a minimum on the search vectors, and updates the search vectors.\n",
    " \n",
    " ![](img_powell_method.png)\n",
    "\n",
    "First, we need to define a **solver** which implements a local optimization.\n",
    "Below we choose to create a local optimization using the Powell method.\n",
    "There are a two important options to set for the solver:\n",
    "\n",
    " 1. **initial points**: Sets the initial position of the local optimizer using ``SetInitialPoints``.\n",
    " 2. **strict ranges**: Sets the bounds for the parameters using ``SetStrictRages``.\n",
    " \n",
    "The optimizer will also need a **termination condition**.\n",
    "The termination conditions tells when the stop executing the local optmization.\n",
    "This is set when the user calls ``Solve`` which executes the optimization.\n",
    " \n",
    " When you run this snippet, you should notice that the best parameter corresponds to 4.25 which is the minimum of our inverted Gaussian defined above in ``cost_func``."
   ]
  },
  {
   "cell_type": "code",
   "execution_count": 17,
   "id": "d9449e75",
   "metadata": {
    "scrolled": true
   },
   "outputs": [
    {
     "name": "stdout",
     "output_type": "stream",
     "text": [
      "The best solution is [4.25000001]\n"
     ]
    }
   ],
   "source": [
    "from mystic import tools\n",
    "from mystic.solvers import PowellDirectionalSolver\n",
    "from mystic.ensemble import BuckshotSolver\n",
    "from mystic.termination import VTR\n",
    "\n",
    "# set random seed so we can reproduce results\n",
    "tools.random_seed(0)\n",
    "\n",
    "# create a solver\n",
    "solver = PowellDirectionalSolver(dim=1)\n",
    "\n",
    "# set the initial position to 1\n",
    "solver.SetInitialPoints([1])\n",
    "\n",
    "# set the range to search for the parameter between -9.5 and 9.5\n",
    "solver.SetStrictRanges((-9.5,), (9.5,))\n",
    "\n",
    "# find the minimum\n",
    "# pass the termination condition\n",
    "solver.Solve(cost_func, termination=VTR())\n",
    "\n",
    "# print the best parameters\n",
    "print(f\"The best solution is {solver.bestSolution}\")"
   ]
  },
  {
   "cell_type": "markdown",
   "id": "4d24bff0",
   "metadata": {},
   "source": [
    "We can plot the minimum overlaid on the cost function.\n",
    "In the plot below, the vertical line is our solution."
   ]
  },
  {
   "cell_type": "code",
   "execution_count": 18,
   "id": "3f419d57",
   "metadata": {},
   "outputs": [
    {
     "data": {
      "image/png": "[encoded data removed]",
      "text/plain": [
       "<Figure size 432x288 with 1 Axes>"
      ]
     },
     "metadata": {
      "needs_background": "light"
     },
     "output_type": "display_data"
    }
   ],
   "source": [
    "x = numpy.linspace(-9.5, 9.5, 100)\n",
    "plt.plot(x, [cost_func(i) for i in x])\n",
    "plt.axvline(solver.bestSolution[0])\n",
    "plt.show()"
   ]
  },
  {
   "cell_type": "markdown",
   "id": "959ad34a",
   "metadata": {},
   "source": [
    "## Add a constraint\n",
    "\n",
    "We can add constraints as well.\n",
    "For example, if we needed ``x`` to be an integer, we can tell Mystic to constraint our solutions to integers.\n",
    "This is demonstrated below by the function ``as_int``.\n",
    "Mystic has a number of common constraints and using the decorator ``@constraints.integers()`` as shown below, automatically has ``as_int`` return an integer.\n",
    "\n",
    "The Mystic [constaints module](https://mystic.readthedocs.io/en/latest/mystic.html#module-mystic.constraints) includes the ``constraints.intergers`` decorator as well as others.\n",
    "\n",
    "However, if the ``constraints.integers`` decorator didn't exist we could still write our own integer constraint.\n",
    "For example, in the snippet below we add a commented-out block that is of a function that takes our new parameters ``x`` from the optimization algorithm and turns it into an ``int``."
   ]
  },
  {
   "cell_type": "code",
   "execution_count": 19,
   "id": "2442869d",
   "metadata": {},
   "outputs": [
    {
     "name": "stdout",
     "output_type": "stream",
     "text": [
      "The best solution is [4.]\n"
     ]
    }
   ],
   "source": [
    "from mystic import constraints\n",
    "\n",
    "@constraints.integers()\n",
    "def as_int(x):\n",
    "    \"\"\" Our constraint function. We use a decorator from Mystic so\n",
    "    that ``x`` above is already an integer. So we return ``x`` immediately.\n",
    "    \"\"\"\n",
    "    return x\n",
    "\n",
    "#def as_int(x):\n",
    "#    \"\"\" What if constraints.integers didn't exist?\n",
    "#    We could just turn ``x`` (a ``list`` of ``float``) into a\n",
    "#    a ``list`` of ``int``. Like this function.\n",
    "#    \"\"\"\n",
    "#    return list(map(int, x))\n",
    "    \n",
    "# set random seed so we can reproduce results\n",
    "tools.random_seed(0)\n",
    "\n",
    "# create a solver\n",
    "solver = PowellDirectionalSolver(dim=1)\n",
    "\n",
    "# set the initial position to 1\n",
    "solver.SetInitialPoints([1])\n",
    "\n",
    "# set the range to search for the parameter between -9.5 and 9.5\n",
    "solver.SetStrictRanges((-9.5,), (9.5,))\n",
    "\n",
    "# set the constraint\n",
    "solver.SetConstraints(as_int)\n",
    "\n",
    "# find the minimum\n",
    "# pass the termination condition\n",
    "solver.Solve(cost_func, termination=VTR())\n",
    "\n",
    "# print the best parameters\n",
    "print(f\"The best solution is {solver.bestSolution}\")"
   ]
  },
  {
   "cell_type": "markdown",
   "id": "f07fdcc2",
   "metadata": {},
   "source": [
    "We see our best solution is now 4.\n",
    "And if we look at our cost function again, it is indeed the lowest integer value."
   ]
  },
  {
   "cell_type": "code",
   "execution_count": 20,
   "id": "8933fd85",
   "metadata": {},
   "outputs": [
    {
     "data": {
      "image/png": "[encoded data removed]",
      "text/plain": [
       "<Figure size 432x288 with 1 Axes>"
      ]
     },
     "metadata": {
      "needs_background": "light"
     },
     "output_type": "display_data"
    }
   ],
   "source": [
    "x = numpy.linspace(-9.5, 9.5, 100)\n",
    "plt.plot(x, [cost_func(i) for i in x])\n",
    "plt.axvline(solver.bestSolution[0])\n",
    "plt.show()"
   ]
  },
  {
   "cell_type": "markdown",
   "id": "6083bfdd",
   "metadata": {},
   "source": [
    "## Available optimization algorithms\n",
    "\n",
    "There are a couple global and local optimizers available in Mystic, some global optimization algorithms are:\n",
    "\n",
    " * ``DifferentialEvolutionSolver``: Differential Evolution algorithm. A type of evolutionary algorithm that has a population, creates a mutated population, and replaces weak with strong\n",
    " * ``DifferentialEvolutionSolver2``: Price & Storn's Differential Evolution algorithm.\n",
    "\n",
    "Illustration of the differential evolution is shown below ([image source](https://pablormier.github.io/2017/09/05/a-tutorial-on-differential-evolution-with-python/)).\n",
    "\n",
    "![](img_diffev.gif)\n",
    "\n",
    "And the local optimization algorithms are:\n",
    "\n",
    " * ``PowellDirectionalSolver`` : Powell's (modified) Level Set algorithm.\n",
    " * ``NelderMeadSimplexSolver``: Nelder-Mead Simplex algorithm.\n",
    " \n",
    "Illustration of Nelder-Mead is shown below ([image source](https://commons.wikimedia.org/wiki/File:Nelder-Mead_Rosenbrock.gif)).\n",
    "\n",
    "![](img_nelder_mead.gif)\n",
    "\n",
    "The documentation for these class is available in the [solvers module](https://mystic.readthedocs.io/en/latest/mystic.html#module-mystic.solvers).\n",
    "\n",
    "Below we show how to use the global optimization algorithms to solve the same inverted Gaussian cost function."
   ]
  },
  {
   "cell_type": "code",
   "execution_count": 22,
   "id": "a3264879",
   "metadata": {},
   "outputs": [
    {
     "name": "stdout",
     "output_type": "stream",
     "text": [
      "The DifferentialEvolutionSolver best solution is 4.249999998671815\n",
      "The DifferentialEvolutionSolver2 best solution is 4.250000003848005\n"
     ]
    }
   ],
   "source": [
    "from mystic.solvers import DifferentialEvolutionSolver\n",
    "from mystic.solvers import DifferentialEvolutionSolver2\n",
    "\n",
    "# set random seed so we can reproduce results\n",
    "tools.random_seed(0)\n",
    "\n",
    "# loop over different solvers\n",
    "for cls in [DifferentialEvolutionSolver,\n",
    "            DifferentialEvolutionSolver2]:\n",
    "    \n",
    "    # create a solver\n",
    "    # note there is a second argument here\n",
    "    # this is the population size set to 20\n",
    "    solver = cls(dim=1, NP=20)\n",
    "\n",
    "    # set the initial position to 1\n",
    "    solver.SetInitialPoints([1])\n",
    "\n",
    "    # set the range to search for the parameter between -9.5 and 9.5\n",
    "    solver.SetStrictRanges((-9.5,), (9.5,))\n",
    "\n",
    "    # find the minimum\n",
    "    # pass the termination condition\n",
    "    solver.Solve(cost_func, termination=VTR())\n",
    "    \n",
    "    # print the best solution\n",
    "    print(f\"The {cls.__name__} best solution is {solver.bestSolution[0]}\")"
   ]
  },
  {
   "cell_type": "markdown",
   "id": "8b0df807",
   "metadata": {},
   "source": [
    "A lot of the classes in Mystic have an analogous function-interface that can be used to call the optimization in a single line.\n",
    "Below, we show an example using the ``diffev2`` which is analogous to ``DifferentialEvolutionSolver2`` above. Other functions in the [solvers modules](https://mystic.readthedocs.io/en/latest/mystic.html#module-mystic.solvers) includes ``diffev``, ``fmin`` (Nelder-Mead), and ``fmin_powell`` (Powell)."
   ]
  },
  {
   "cell_type": "code",
   "execution_count": 23,
   "id": "efe148a8",
   "metadata": {},
   "outputs": [
    {
     "name": "stdout",
     "output_type": "stream",
     "text": [
      "Optimization terminated successfully.\n",
      "         Current function value: -19.947114\n",
      "         Iterations: 42\n",
      "         Function evaluations: 860\n",
      "The best solution is [4.25]\n"
     ]
    }
   ],
   "source": [
    "from mystic.solvers import diffev2\n",
    "\n",
    "# set random seed so we can reproduce results\n",
    "tools.random_seed(0)\n",
    "\n",
    "# find minimum/maximum of surrogate\n",
    "results = diffev2(cost_func, x0=[(-9.5, 9.5)], npop=20,\n",
    "                  bounds=[(-9.5, 9.5)], full_output=True)\n",
    "\n",
    "# print the best solution\n",
    "print(f\"The best solution is {results[0]}\")"
   ]
  },
  {
   "cell_type": "markdown",
   "id": "a616c06e",
   "metadata": {},
   "source": [
    "## Available termination conditions\n",
    "\n",
    "Above, we had shown that you use the ``VTR`` termination condition to tell the optimization algorithm when to stop.\n",
    "There are quite a few termination conditions available in Mystic. Here, we list some, but not all, termination conditions:\n",
    "\n",
    " * ``VTR``: Cost function from last iteration is less than some tolerance to target value. \n",
    " * ``NormalizedChangeOverGeneration``: Normalized change in cost is less than a tolerance over number of generations. See Mystic documentation for how normalized change is defined.\n",
    " \n",
    "For more you can check the documentation in Mystic for the [termination module](https://mystic.readthedocs.io/en/latest/mystic.html#module-mystic.termination).\n",
    "\n",
    "In addition to setting a termination condition, you can set the maximum number of optimization iterations (also called *generations*) or maximum number of calls to the cost function with:\n",
    "```\n",
    "solver.SetEvaluationLimits(generations=2, evaluations=10)\n",
    "```\n",
    "In the example above, we limit to 2 generations or no more than 10 calls to the cost function.\n",
    "\n",
    "Below we use the ``NormalizedChangeOverGeneration`` and ``SetEvaluationLimits``.\n",
    "Note, we are going to termination the optimization early, so we expect our result to be less accurate than the prior example.\n",
    "However, removing the ``SetEvaluationLimits`` or increasing its arguments should get closer to the expected result.\n",
    "If we have an expensive cost function, this is one way to terminate after so many calls.\n",
    "So if you know how long an optimization takes on the processors you have available, you can return the best answer in a certain amount of time-useful in real-time, approximate results for expensive cost functions."
   ]
  },
  {
   "cell_type": "code",
   "execution_count": 25,
   "id": "19259482",
   "metadata": {},
   "outputs": [
    {
     "name": "stdout",
     "output_type": "stream",
     "text": [
      "The best solution is [4.26579748]\n"
     ]
    }
   ],
   "source": [
    "from mystic.termination import NormalizedChangeOverGeneration\n",
    "\n",
    "# set random seed so we can reproduce results\n",
    "tools.random_seed(0)\n",
    "\n",
    "# create a solver\n",
    "solver = PowellDirectionalSolver(dim=1)\n",
    "\n",
    "# set the initial position to 1\n",
    "solver.SetInitialPoints([1])\n",
    "\n",
    "# set the range to search for the parameter between -9.5 and 9.5\n",
    "solver.SetStrictRanges((-9.5,), (9.5,))\n",
    "\n",
    "# terminate after a single optimization iteration or single call to cost function\n",
    "solver.SetEvaluationLimits(generations=2, evaluations=10)\n",
    "\n",
    "# find the minimum\n",
    "# pass the termination condition\n",
    "solver.Solve(cost_func, termination=NormalizedChangeOverGeneration())\n",
    "\n",
    "# print the best parameters\n",
    "print(f\"The best solution is {solver.bestSolution}\")\n"
   ]
  },
  {
   "cell_type": "markdown",
   "id": "16115b66",
   "metadata": {},
   "source": [
    "Recall, to optimize this cost function we are specifying: a **solver**, **initial points**, **strict ranges**, and a **termination condition**.\n",
    "We also have the option to set a **constraint**.\n",
    "\n",
    "Now that you have a understanding of how to use a single optimizer, on the next page we will move on to multi-dimensional cost functions and running multiple optimizers in a search."
   ]
  }
 ],
 "metadata": {
  "kernelspec": {
   "display_name": "Python 3 (ipykernel)",
   "language": "python",
   "name": "python3"
  },
  "language_info": {
   "codemirror_mode": {
    "name": "ipython",
    "version": 3
   },
   "file_extension": ".py",
   "mimetype": "text/x-python",
   "name": "python",
   "nbconvert_exporter": "python",
   "pygments_lexer": "ipython3",
   "version": "3.9.16"
  }
 },
 "nbformat": 4,
 "nbformat_minor": 5
}

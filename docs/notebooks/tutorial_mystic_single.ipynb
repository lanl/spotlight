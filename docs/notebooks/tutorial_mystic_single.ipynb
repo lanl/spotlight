{
 "cells": [
  {
   "cell_type": "markdown",
   "id": "bdd9e48e",
   "metadata": {},
   "source": [
    "# Run a single optimization\n",
    "\n",
    "This page contains a very simple tutorial to run a single optimizer.\n",
    "Even though many folks have probably run a single local optimizer many times, this is meant to familiarize users with the basic API using the package.\n",
    "Mystic has a plug-and-play API and the user can define many custom optimations, termination conditions, etc.\n",
    "In this tutorial, we focus on how to apply readily available out-of-the-box options instead of describing how to design new options.\n",
    "After this basic introduction, we will then progress to multi-dimensional cost functions, multi-processing, and using a shared database.\n",
    "\n",
    "The key concepts you should gain from this page:\n",
    " * How to define a cost function.\n",
    " * How to use an optimization algorithm to find the minimum of the cost function.\n",
    " * What are the available optimization algorithms.\n",
    " * What are the available optimization termination conditions."
   ]
  },
  {
   "cell_type": "markdown",
   "id": "df99dc1a",
   "metadata": {},
   "source": [
    "## Define a cost function\n",
    "\n",
    "Similar to other packages like scipy, Mystic can optimize a Python function.\n",
    "For example, below we define a cost function, called ``cost_func(*p)``, which takes a list of parameters ``p``.\n",
    "This function specifies an inverted Gaussian using scipy.\n",
    "In the section below, we will show how to find the minimum of this function."
   ]
  },
  {
   "cell_type": "code",
   "execution_count": 3,
   "id": "faae93af",
   "metadata": {},
   "outputs": [
    {
     "data": {
      "image/png": "[encoded data removed]",
      "text/plain": [
       "<Figure size 432x288 with 1 Axes>"
      ]
     },
     "metadata": {
      "needs_background": "light"
     },
     "output_type": "display_data"
    }
   ],
   "source": [
    "import matplotlib.pyplot as plt\n",
    "import numpy\n",
    "from scipy import stats\n",
    "\n",
    "def cost_func(*p):\n",
    "    \"\"\" Executed for each set of drawn parameters in the optimization search.\n",
    "    \"\"\"\n",
    "\n",
    "    # get the x value from Mystic\n",
    "    # p is a list so we take the 0-th index of the list\n",
    "    x = p[0]\n",
    "\n",
    "    # get value at inverted Gaussian function x\n",
    "    # the Gaussian peak is at 4.25\n",
    "    var = stats.multivariate_normal(mean=[4.25], cov=[[1]])\n",
    "    stat = -50.0 * var.pdf([x])\n",
    "\n",
    "    # whether to flip sign of function\n",
    "    # a positive lets you search for minimum\n",
    "    # a negative lets you search for maximum\n",
    "    stat *= 1.0\n",
    "\n",
    "    return stat\n",
    "\n",
    "# plot the function between -9.5 and 9.5\n",
    "x = numpy.linspace(-9.5, 9.5, 100)\n",
    "plt.plot(x, [cost_func(i) for i in x])\n",
    "\n",
    "# show the plot\n",
    "plt.show()"
   ]
  },
  {
   "cell_type": "markdown",
   "id": "d07f9687",
   "metadata": {},
   "source": [
    "## Run an opitimizer\n",
    "\n",
    "Now that we have a function to optimize, we need to define a solver which implements a local optimization.\n",
    "Below we choose to create a local optimization using the Powell method.\n",
    "There are a two important options to set for the solver:\n",
    "\n",
    " 1. **initial points**: Sets the initial position of the local optimizer using ``SetInitialPoints``.\n",
    "\n",
    " 2. **strict ranges**: Sets the bounds for the parameters using ``SetStrictRages``.\n",
    " \n",
    "The optimizer will also need a **termination condition**.\n",
    "The termination conditions tells when the stop executing the local optmization.\n",
    "This is set when the user calls ``Solve`` which executes the optimization.\n",
    " \n",
    " When you run this snippet, you should notice that the best parameter corresponds to 4.25 which is the minimum of our inverted Gaussian defined above in ``cost_func``."
   ]
  },
  {
   "cell_type": "code",
   "execution_count": 17,
   "id": "d9449e75",
   "metadata": {
    "scrolled": true
   },
   "outputs": [
    {
     "name": "stdout",
     "output_type": "stream",
     "text": [
      "The best solution is [4.25000001]\n"
     ]
    }
   ],
   "source": [
    "from mystic import tools\n",
    "from mystic.solvers import PowellDirectionalSolver\n",
    "from mystic.ensemble import BuckshotSolver\n",
    "from mystic.termination import VTR\n",
    "\n",
    "# set random seed so we can reproduce results\n",
    "tools.random_seed(0)\n",
    "\n",
    "# create a solver\n",
    "solver = PowellDirectionalSolver(1)\n",
    "\n",
    "# set the initial position to 1\n",
    "solver.SetInitialPoints([1])\n",
    "\n",
    "# set the range to search for the parameter between -9.5 and 9.5\n",
    "solver.SetStrictRanges((-9.5,), (9.5,))\n",
    "\n",
    "# find the minimum\n",
    "# pass the termination condition\n",
    "solver.Solve(cost_func, VTR())\n",
    "\n",
    "# print the best parameters\n",
    "print(f\"The best solution is {solver.bestSolution}\")"
   ]
  },
  {
   "cell_type": "markdown",
   "id": "4d24bff0",
   "metadata": {},
   "source": [
    "We can plot the minimum overlaid on the cost function.\n",
    "In the plot below, the vertical line is our solution."
   ]
  },
  {
   "cell_type": "code",
   "execution_count": 21,
   "id": "3f419d57",
   "metadata": {},
   "outputs": [
    {
     "data": {
      "image/png": "[encoded data removed]",
      "text/plain": [
       "<Figure size 432x288 with 1 Axes>"
      ]
     },
     "metadata": {
      "needs_background": "light"
     },
     "output_type": "display_data"
    }
   ],
   "source": [
    "x = numpy.linspace(-9.5, 9.5, 100)\n",
    "plt.plot(x, [cost_func(i) for i in x])\n",
    "plt.axvline(solver.bestSolution[0])\n",
    "plt.show()"
   ]
  },
  {
   "cell_type": "markdown",
   "id": "6083bfdd",
   "metadata": {},
   "source": [
    "## Available optimization algorithms\n",
    "\n",
    "There are a couple global and local optimizers available in Mystic, the global optimization algorithms are:\n",
    " * ``DifferentialEvolutionSolver``: Differential Evolution algorithm.\n",
    " * ``DifferentialEvolutionSolver2``: Price & Storn's Differential Evolution algorithm.\n",
    "\n",
    "And the local optimization algorithms are:\n",
    " * ``PowellDirectionalSolver`` : Powell's (modified) Level Set algorithm.\n",
    " * ``NelderMeadSimplexSolver``: Nelder-Mead Simplex algorithm.\n",
    "\n",
    "Below we show how to use the global optimization algorithms to solve the same inverted Gaussian cost function."
   ]
  },
  {
   "cell_type": "code",
   "execution_count": 22,
   "id": "a3264879",
   "metadata": {},
   "outputs": [
    {
     "name": "stdout",
     "output_type": "stream",
     "text": [
      "The DifferentialEvolutionSolver best solution is 4.249999998671815\n",
      "The DifferentialEvolutionSolver2 best solution is 4.250000003848005\n"
     ]
    }
   ],
   "source": [
    "from mystic.solvers import DifferentialEvolutionSolver\n",
    "from mystic.solvers import DifferentialEvolutionSolver2\n",
    "from mystic.solvers import NelderMeadSimplexSolver\n",
    "\n",
    "# set random seed so we can reproduce results\n",
    "tools.random_seed(0)\n",
    "\n",
    "# loop over different solvers\n",
    "for cls in [DifferentialEvolutionSolver,\n",
    "            DifferentialEvolutionSolver2]:\n",
    "    \n",
    "    # create a solver\n",
    "    # note there is a second argument here\n",
    "    # this is the population size set to 20\n",
    "    solver = cls(1, 20)\n",
    "\n",
    "    # set the initial position to 1\n",
    "    solver.SetInitialPoints([1])\n",
    "\n",
    "    # set the range to search for the parameter between -9.5 and 9.5\n",
    "    solver.SetStrictRanges((-9.5,), (9.5,))\n",
    "\n",
    "    # find the minimum\n",
    "    # pass the termination condition\n",
    "    solver.Solve(cost_func, VTR())\n",
    "    \n",
    "    # print the best solution\n",
    "    print(f\"The {cls.__name__} best solution is {solver.bestSolution[0]}\")"
   ]
  },
  {
   "cell_type": "markdown",
   "id": "a616c06e",
   "metadata": {},
   "source": [
    "## Available termination conditions\n",
    "\n",
    "Above, we had shown that you use the ``VTR`` termination condition to tell the optimization algorithm when to stop.\n",
    "There are quite a few termination conditions available in Mystic. Here, we list some:\n",
    " * ``NormalizedChangeOverGeneration``: A termination condition.\n",
    " \n",
    "Below we show how to use several of those termination conditions."
   ]
  },
  {
   "cell_type": "code",
   "execution_count": 23,
   "id": "19259482",
   "metadata": {},
   "outputs": [
    {
     "name": "stdout",
     "output_type": "stream",
     "text": [
      "The best solution is [4.25000001]\n"
     ]
    }
   ],
   "source": [
    "from mystic.termination import NormalizedChangeOverGeneration\n",
    "\n",
    "# set random seed so we can reproduce results\n",
    "tools.random_seed(0)\n",
    "\n",
    "# create a solver\n",
    "solver = PowellDirectionalSolver(1)\n",
    "\n",
    "# set the initial position to 1\n",
    "solver.SetInitialPoints([1])\n",
    "\n",
    "# set the range to search for the parameter between -9.5 and 9.5\n",
    "solver.SetStrictRanges((-9.5,), (9.5,))\n",
    "\n",
    "# find the minimum\n",
    "# pass the termination condition\n",
    "solver.Solve(cost_func, NormalizedChangeOverGeneration())\n",
    "\n",
    "# print the best parameters\n",
    "print(f\"The best solution is {solver.bestSolution}\")\n"
   ]
  },
  {
   "cell_type": "markdown",
   "id": "16115b66",
   "metadata": {},
   "source": [
    "Now that you have a understanding of how to use a single optimizer, on the next page we will move on to multi-dimensional cost functions and running multiple optimizers in a search."
   ]
  }
 ],
 "metadata": {
  "kernelspec": {
   "display_name": "Python 3 (ipykernel)",
   "language": "python",
   "name": "python3"
  },
  "language_info": {
   "codemirror_mode": {
    "name": "ipython",
    "version": 3
   },
   "file_extension": ".py",
   "mimetype": "text/x-python",
   "name": "python",
   "nbconvert_exporter": "python",
   "pygments_lexer": "ipython3",
   "version": "3.8.13"
  }
 },
 "nbformat": 4,
 "nbformat_minor": 5
}

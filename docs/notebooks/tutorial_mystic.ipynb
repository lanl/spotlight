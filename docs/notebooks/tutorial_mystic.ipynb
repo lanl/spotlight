{
 "cells": [
  {
   "cell_type": "markdown",
   "metadata": {},
   "source": [
    "# Building an optimization search"
   ]
  },
  {
   "cell_type": "markdown",
   "metadata": {},
   "source": [
    "The `mystic` framework enables the solving of difficult optimization problems through three major innovations: (1) plug-and-play component-based optimization algorithms, (2) the ability to dynamically construct and apply generalzed trnasforms, `K`, where `x' = K(x)`, and (3) workflows providing asynchronous execution and statefulness.\n",
    "\n",
    "These features, in conjunction with supporting packages `pathos`, `pyina`, and `klepto`, can provide massively-parallel scalable workflows for quickly solving optimization problems in complex nonlinear spaces. `mystic` can be used to simplify non-convex optimization problems by transforming away nonlinearities through user-built kernel transforms.\n",
    "\n",
    "This tutorial demonstrates using `mystic` for machine learning with automated dimensional-reduction, using embarrasingly parallel solver ensembles to find an accurate interpolated surrogate for a nonlinear surface, and the determination of worst-case bounds on expectation value of an objective function under uncertainty."
   ]
  },
  {
   "cell_type": "markdown",
   "metadata": {},
   "source": [
    "#### Plug-and-play optimization"
   ]
  },
  {
   "cell_type": "markdown",
   "metadata": {},
   "source": [
    " - `mystic` has a basic interface similar to `scipy.optimize`"
   ]
  },
  {
   "cell_type": "code",
   "execution_count": 1,
   "metadata": {},
   "outputs": [
    {
     "name": "stdout",
     "output_type": "stream",
     "text": [
      "Optimization terminated successfully.\n",
      "         Current function value: 0.000000\n",
      "         Iterations: 13\n",
      "         Function evaluations: 524\n",
      "[1. 1. 1.]\n"
     ]
    }
   ],
   "source": [
    "\"\"\"\n",
    "Minimize:\n",
    "    3d Rosenbrock function\n",
    "\"\"\"\n",
    "# Powell's Directonal solver\n",
    "from mystic.solvers import fmin_powell\n",
    "\n",
    "# Rosenbrock function\n",
    "from mystic.models import rosen\n",
    "\n",
    "# initial guess\n",
    "x0 = [0.8,1.2,0.7]\n",
    "\n",
    "# use Powell's method to minimize the Rosenbrock function\n",
    "solution = fmin_powell(rosen,x0)\n",
    "print(solution)"
   ]
  },
  {
   "cell_type": "markdown",
   "metadata": {},
   "source": [
    " - `mystic` solvers can accept customizable components, such as a callback"
   ]
  },
  {
   "cell_type": "code",
   "execution_count": 2,
   "metadata": {},
   "outputs": [
    {
     "name": "stdout",
     "output_type": "stream",
     "text": [
      "Generation 0 has best fit parameters: [0.8 1.2 0.7]\n",
      "Generation 1 has best fit parameters: [0.8 1.2 0.7]\n",
      "Generation 2 has best fit parameters: [1.096641   0.92316246 0.85222892]\n",
      "Generation 3 has best fit parameters: [0.96098383 0.92341029 0.85268657]\n",
      "Generation 4 has best fit parameters: [0.96116068 0.92362873 0.85268597]\n",
      "Generation 5 has best fit parameters: [0.96139941 0.92394456 0.85319715]\n",
      "Generation 6 has best fit parameters: [0.96490397 0.9293998  0.86287626]\n",
      "Generation 7 has best fit parameters: [0.97283782 0.9438172  0.8900223 ]\n",
      "Generation 8 has best fit parameters: [0.99282304 0.98392465 0.9676975 ]\n",
      "Generation 9 has best fit parameters: [0.99599362 0.99123752 0.98220233]\n",
      "Generation 10 has best fit parameters: [0.99933371 0.99875944 0.9973022 ]\n",
      "Generation 11 has best fit parameters: [0.99959358 0.99924252 0.99835369]\n",
      "Generation 12 has best fit parameters: [1.00000002 1.00000006 1.00000011]\n",
      "Generation 13 has best fit parameters: [1. 1. 1.]\n",
      "Generation 14 has best fit parameters: [1. 1. 1.]\n",
      "Optimization terminated successfully.\n",
      "         Current function value: 0.000000\n",
      "         Iterations: 13\n",
      "         Function evaluations: 524\n",
      "[1. 1. 1.]\n"
     ]
    }
   ],
   "source": [
    "\"\"\"\n",
    "Minimize:\n",
    "    3d Rosenbrock function\n",
    "\"\"\"\n",
    "# Powell's Directonal solver\n",
    "from mystic.solvers import fmin_powell\n",
    "\n",
    "# Rosenbrock function\n",
    "from mystic.models import rosen\n",
    "\n",
    "iter = 0\n",
    "# plot the parameter trajectories\n",
    "def print_params(params):\n",
    "    global iter\n",
    "    from numpy import asarray\n",
    "    print(\"Generation %d has best fit parameters: %s\" % (iter,asarray(params)))\n",
    "    iter += 1\n",
    "    return\n",
    "\n",
    "# initial guess\n",
    "x0 = [0.8,1.2,0.7]\n",
    "print_params(x0)\n",
    "\n",
    "# use Powell's method to minimize the Rosenbrock function\n",
    "solution = fmin_powell(rosen,x0,disp=1,callback=print_params)\n",
    "print(solution)"
   ]
  },
  {
   "cell_type": "markdown",
   "metadata": {},
   "source": [
    " - solvers can be further customized with `monitors` that record solver history, and `constraints` that transform the space the optimizer searches"
   ]
  },
  {
   "cell_type": "code",
   "execution_count": 3,
   "metadata": {
    "scrolled": false
   },
   "outputs": [
    {
     "name": "stdout",
     "output_type": "stream",
     "text": [
      "Generation 0 has fit parameters:\n",
      " [0.8666666666666667, 1.2666666666666666, 0.8666666666666667]\n",
      "Generation 1 has fit parameters:\n",
      " [0.999999999999819, 1.0000000000003622, 0.999999999999819]\n",
      "Generation 2 has fit parameters:\n",
      " [1.0000000000000002, 0.9999999999999999, 1.0000000000000002]\n",
      "Optimization terminated successfully.\n",
      "         Current function value: 0.000000\n",
      "         Iterations: 2\n",
      "         Function evaluations: 81\n",
      "STOP(\"NormalizedChangeOverGeneration with {'tolerance': 0.0001, 'generations': 2}\")\n",
      "[1. 1. 1.]\n"
     ]
    }
   ],
   "source": [
    "\"\"\"\n",
    "Minimize:\n",
    "    3d Rosenbrock function\n",
    "    \n",
    "where:\n",
    "    x_{2} = x_{0}\n",
    "    sum_{i=0}^{2} x_{i} / 3 = 1\n",
    "\"\"\"\n",
    "# Powell's Directonal solver\n",
    "from mystic.solvers import fmin_powell\n",
    "\n",
    "# Rosenbrock function\n",
    "from mystic.models import rosen\n",
    "\n",
    "# monitor\n",
    "from mystic.monitors import VerboseMonitor\n",
    "\n",
    "# initial guess\n",
    "x0 = [0.8,1.2,0.7]\n",
    "\n",
    "# use the mean constraints factory decorator\n",
    "from mystic.constraints import with_mean\n",
    "\n",
    "# define constraints function\n",
    "@with_mean(1.0)\n",
    "def constraints(x):\n",
    "    x[-1] = x[0]\n",
    "    return x\n",
    "\n",
    "# configure monitor\n",
    "stepmon = VerboseMonitor(0,1)\n",
    "\n",
    "# use Powell's method to minimize the Rosenbrock function\n",
    "solution = fmin_powell(rosen,x0,constraints=constraints,itermon=stepmon)\n",
    "print(solution)"
   ]
  },
  {
   "cell_type": "markdown",
   "metadata": {},
   "source": [
    " - `mystic` provides an expanded interface, enabling advanced users to perform more granular customization, facilitating the construciton of new optimization-related tools."
   ]
  },
  {
   "cell_type": "code",
   "execution_count": 7,
   "metadata": {},
   "outputs": [
    {
     "name": "stdout",
     "output_type": "stream",
     "text": [
      "Generation 0 has ChiSquare: 427910.823280\n",
      "Generation 100 has ChiSquare: 211.982229\n",
      "Generation 200 has ChiSquare: 14.962634\n",
      "Generation 300 has ChiSquare: 2.294435\n",
      "Generation 400 has ChiSquare: 2.000000\n",
      "Generation 500 has ChiSquare: 0.007558\n",
      "STOP(\"VTR with {'tolerance': 1e-08, 'target': 0.0}\")\n",
      "Generation 506 has best Chi-Squared: 0.000000\n",
      "     8       6       4      2\n",
      "128 x - 256 x + 160 x - 32 x + 1\n"
     ]
    },
    {
     "data": {
      "image/png": "[encoded data removed]",
      "text/plain": [
       "<Figure size 432x288 with 2 Axes>"
      ]
     },
     "metadata": {
      "needs_background": "light"
     },
     "output_type": "display_data"
    }
   ],
   "source": [
    "\"\"\"\n",
    "Find the coefficients of the 8th order Chebyshev polynomial\n",
    "\n",
    "where:\n",
    "    the coefficients are integers\n",
    "\"\"\"\n",
    "# Differential Evolution solver\n",
    "from mystic.solvers import DifferentialEvolutionSolver2\n",
    "\n",
    "# Chebyshev cost function\n",
    "from mystic.models.poly import chebyshev8cost\n",
    "\n",
    "# Termination and Monitor\n",
    "from mystic.termination import Or, VTR, ChangeOverGeneration\n",
    "from mystic.monitors import VerboseMonitor\n",
    "\n",
    "# Misc tools\n",
    "from mystic.constraints import near_integers, integers\n",
    "from mystic.penalty import quadratic_inequality\n",
    "from mystic.tools import random_seed, suppressed\n",
    "from mystic.math import poly1d\n",
    "from mystic.scripts import log_reader\n",
    "\n",
    "# set problem size and random seed\n",
    "ndim = 9\n",
    "random_seed(42)\n",
    "\n",
    "@quadratic_inequality(near_integers)\n",
    "def rounded(x):\n",
    "    return 0.0\n",
    "\n",
    "@integers()\n",
    "def round(x):\n",
    "    return x\n",
    "\n",
    "@suppressed(1)\n",
    "def cost(x):\n",
    "    return chebyshev8cost(x)\n",
    "\n",
    "monitor = VerboseMonitor(100)\n",
    "\n",
    "# use DE to solve 8th-order Chebyshev coefficients\n",
    "solver = DifferentialEvolutionSolver2(ndim, 100)\n",
    "solver.SetRandomInitialPoints(min=[-300]*ndim, max=[300]*ndim)\n",
    "solver.SetStrictRanges(min=[-300]*ndim, max=[300]*ndim)\n",
    "solver.SetGenerationMonitor(monitor)\n",
    "solver.SetPenalty(rounded)\n",
    "solver.SetConstraints(round)\n",
    "solver.SetTermination(Or(VTR(1e-8),ChangeOverGeneration(1e-8, 200)))\n",
    "solver.SetObjective(cost)\n",
    "solver.Solve()\n",
    "\n",
    "# retrieve results information\n",
    "print(\"Generation %d has best Chi-Squared: %f\" % (solver.generations, solver.bestEnergy))\n",
    "print(poly1d(solver.bestSolution))\n",
    "\n",
    "# plot parameter and cost convergence\n",
    "log_reader(monitor)"
   ]
  },
  {
   "cell_type": "markdown",
   "metadata": {},
   "source": [
    "#### Penalties and constraints"
   ]
  },
  {
   "cell_type": "markdown",
   "metadata": {},
   "source": [
    "  - `mystic` provides an unique abilty to build and apply compound user-defined penalties `y = P(x)` and  transforms `x' = K(x)`.  After a transform `K` is applied, optimizations are then performed in the space of valid solutions, with respect to the set of functional, statistical, or data constraints defined by `K`. Similarly, penalties `P` discourage the solver from finding solutions that violate the constraints defined by `P`."
   ]
  },
  {
   "cell_type": "code",
   "execution_count": 8,
   "metadata": {},
   "outputs": [
    {
     "name": "stdout",
     "output_type": "stream",
     "text": [
      "Generation 0 has ChiSquare: -15.000000\n",
      "Generation 10 has ChiSquare: -15.000000\n",
      "Generation 20 has ChiSquare: -15.000000\n",
      "Generation 30 has ChiSquare: -15.000000\n",
      "Generation 40 has ChiSquare: -15.000000\n",
      "Generation 50 has ChiSquare: -15.000000\n",
      "STOP(\"ChangeOverGeneration with {'tolerance': 0.005, 'generations': 50}\")\n",
      "Optimization terminated successfully.\n",
      "         Current function value: -15.000000\n",
      "         Iterations: 50\n",
      "         Function evaluations: 510\n",
      "[0. 1. 0. 1. 1. 1. 0. 0. 1. 0.]\n"
     ]
    }
   ],
   "source": [
    "\"\"\"\n",
    "Maximize:\n",
    "    sum_{i=1}^{n-1} sum_{j=i+1}^{n} w_{ij} x_{i} x_{j}\n",
    "\n",
    "where:\n",
    "    sum_{i=1}^{n} x_{i} < b\n",
    "    x_{i} in {0,1}\n",
    "\"\"\"\n",
    "from mystic.solvers import diffev2\n",
    "from mystic.monitors import VerboseMonitor\n",
    "from mystic.constraints import impose_sum, discrete, and_\n",
    "import numpy as np\n",
    "\n",
    "# set number of variables, bounds constraints, and sum constraint\n",
    "N,b = 10,5\n",
    "bounds = [(0,1)] * N\n",
    "\n",
    "# build objective\n",
    "def objective(x, w):\n",
    "    s = 0\n",
    "    for i in range(len(x)-1):\n",
    "        for j in range(i, len(x)):\n",
    "            s += w[i,j] * x[i] * x[j]\n",
    "    return s\n",
    "\n",
    "# set dummy weights\n",
    "w = np.ones((N,N))\n",
    "\n",
    "# invert objective, as we are maximizing\n",
    "cost = lambda x: -objective(x, w)\n",
    "\n",
    "# constrain to have \"b\" True values, and to be binary variables\n",
    "c = and_(lambda x: impose_sum(b, x), discrete([0,1])(lambda x:x))\n",
    "\n",
    "mon = VerboseMonitor(10)\n",
    "solution = diffev2(cost,bounds,constraints=c,bounds=bounds,itermon=mon,\\\n",
    "                               gtol=50,maxiter=5000,maxfun=50000,npop=10)\n",
    "print(solution)"
   ]
  },
  {
   "cell_type": "markdown",
   "metadata": {},
   "source": [
    " - In addition to accepting constraints functions, `mystic` can also digest symbolic constraints."
   ]
  },
  {
   "cell_type": "code",
   "execution_count": 9,
   "metadata": {},
   "outputs": [
    {
     "name": "stdout",
     "output_type": "stream",
     "text": [
      "Optimization terminated successfully.\n",
      "         Current function value: 0.000000\n",
      "         Iterations: 1\n",
      "         Function evaluations: 14\n",
      "[6. 0. 8. 4. 9. 3. 9.]\n"
     ]
    }
   ],
   "source": [
    "\"\"\"\n",
    "Solve the system of equations defined below\n",
    "\"\"\"\n",
    "# define objective\n",
    "def cost(x):\n",
    "    return 0.0\n",
    "\n",
    "# set bounds\n",
    "bounds = [(0,10)]*7\n",
    "\n",
    "# define constraints\n",
    "equations = \"\"\"\n",
    "98527*x0 + 34588*x1 + 5872*x2 + 59422*x4 + 65159*x6 - 1547604 - 30704*x3 - 29649*x5 == 0.0\n",
    "98957*x1 + 83634*x2 + 69966*x3 + 62038*x4 + 37164*x5 + 85413*x6 - 1823553 - 93989*x0 == 0.0\n",
    "900032 + 10949*x0 + 77761*x1 + 67052*x4 - 80197*x2 - 61944*x3 - 92964*x5 - 44550*x6 == 0.0\n",
    "73947*x0 + 84391*x2 + 81310*x4 - 1164380 - 96253*x1 - 44247*x3 - 70582*x5 - 33054*x6 == 0.0\n",
    "13057*x2 + 42253*x3 + 77527*x4 + 96552*x6 - 1185471 - 60152*x0 - 21103*x1 - 97932*x5 == 0.0\n",
    "1394152 + 66920*x0 + 55679*x3 - 64234*x1 - 65337*x2 - 45581*x4 - 67707*x5 - 98038*x6 == 0.0\n",
    "68550*x0 + 27886*x1 + 31716*x2 + 73597*x3 + 38835*x6 - 279091 - 88963*x4 - 76391*x5 == 0.0\n",
    "76132*x1 + 71860*x2 + 22770*x3 + 68211*x4 + 78587*x5 - 480923 - 48224*x0 - 82817*x6 == 0.0\n",
    "519878 + 94198*x1 + 87234*x2 + 37498*x3 - 71583*x0 - 25728*x4 - 25495*x5 - 70023*x6 == 0.0\n",
    "361921 + 78693*x0 + 38592*x4 + 38478*x5 - 94129*x1 - 43188*x2 - 82528*x3 - 69025*x6 == 0.0\n",
    "\"\"\"\n",
    "\n",
    "from mystic.symbolic import generate_constraint, generate_solvers, solve\n",
    "cf = generate_constraint(generate_solvers(solve(equations)))\n",
    "\n",
    "from numpy import round as npround\n",
    "from mystic.solvers import diffev2\n",
    "\n",
    "result = diffev2(cost, x0=bounds, bounds=bounds, constraints=cf, npop=4, gtol=1, disp=True)\n",
    "print(result)"
   ]
  },
  {
   "cell_type": "markdown",
   "metadata": {},
   "source": [
    " - Many of the components of `mystic` can be used to augment third-party optimizers."
   ]
  },
  {
   "cell_type": "code",
   "execution_count": 11,
   "metadata": {},
   "outputs": [
    {
     "name": "stdout",
     "output_type": "stream",
     "text": [
      "{'A': 1.0188449423360253, 'B': 0.939802113498958, 'C': 1.0000000000000009}\n"
     ]
    }
   ],
   "source": [
    "\"\"\"\n",
    "Minimize:\n",
    "    f(x) = 3*A + 1e-6*A**3 + 2*B + 2e-6/(3*B**3) + C**2\n",
    "    x = A,B,C\n",
    "\n",
    "Where: \n",
    "    A*B + C >= 1\n",
    "    B <= A\n",
    "    5 >= A >= -5\n",
    "    5 >= B >= -5\n",
    "    5 >= C >= -5\n",
    "\"\"\"\n",
    "import mystic as my\n",
    "import mystic.symbolic as ms\n",
    "import scipy.optimize as so\n",
    "\n",
    "# generate constraints from a series of inequalities\n",
    "equations = \"\"\"\n",
    "A*B + C >= 1\n",
    "B <= A\n",
    "A >= -5\n",
    "B >= -5\n",
    "C >= -5\n",
    "5 >= A\n",
    "5 >= B\n",
    "5 >= C\n",
    "\"\"\"\n",
    "var = list('ABC')\n",
    "eqns = ms.simplify(equations, variables=var, all=True)\n",
    "constrain = ms.generate_constraint(ms.generate_solvers(eqns, var), join=my.constraints.and_)\n",
    "\n",
    "# build the objective\n",
    "def objective(x):\n",
    "    return 3*x[0] + 1.e-6*x[0]**3 + 2*x[1] + 2.e-6/3*x[1]**3 + x[2]**2\n",
    "\n",
    "# build a monitor instance\n",
    "mon = my.monitors.Monitor()\n",
    "\n",
    "# embed the constraints and monitor into a cost function\n",
    "def cost(x):\n",
    "    kx = constrain(x)\n",
    "    y = objective(kx)\n",
    "    mon(kx,y)\n",
    "    return y\n",
    "\n",
    "# solve\n",
    "result = so.fmin(cost, [1,1,1], xtol=1e-6, ftol=1e-6, full_output=True, disp=False)\n",
    "\n",
    "# check solved results are consistent with monitor\n",
    "from mystic.math import almostEqual\n",
    "assert almostEqual(result[1], min(mon.y), rel=1e-2)\n",
    "\n",
    "# check results satisfy constraints\n",
    "A,B,C = result[0]\n",
    "print(dict(A=A, B=B, C=C))\n",
    "\n",
    "eps = 0.2 # use a bit of wiggle room for small violations\n",
    "assert A*B + C >= 1-eps\n",
    "assert B <= A+eps\n",
    "assert (5+eps) >= A >= -(5+eps)\n",
    "assert (5+eps) >= B >= -(5+eps)\n",
    "assert (5+eps) >= C >= -(5+eps)"
   ]
  },
  {
   "cell_type": "markdown",
   "metadata": {},
   "source": [
    " - Constraints from `mystic` can be leveraged with third-party machine learning codes to generate kernels that restrict the learner's training space, and thus only models that satisfy the constraints will be learned. In this way, simple models, like linear regressors, can be used to accurately model complex physics."
   ]
  },
  {
   "cell_type": "code",
   "execution_count": 12,
   "metadata": {},
   "outputs": [
    {
     "name": "stdout",
     "output_type": "stream",
     "text": [
      "score on training data: 1.0\n",
      "score on testing data: 0.990916385218492\n"
     ]
    }
   ],
   "source": [
    "\"\"\"\n",
    "Use a linear regression to fit sparse data generated from:\n",
    "    f(x) = a*x3**3 + b*x2**2 + c*x1 + d*x0\n",
    "    a,b,c,d = 0.661, -1.234, 2.983, -16.5571\n",
    "\n",
    "Where the following information is utilized: \n",
    "    f(x) is a polynomial of order=3\n",
    "    3*b + c > -0.75\n",
    "    4.5*b - d > 11.0\n",
    "\"\"\"\n",
    "import numpy as np \n",
    "from sklearn import preprocessing as pre\n",
    "from sklearn import linear_model as lin\n",
    "from mystic.symbolic import generate_constraint, generate_solvers, simplify\n",
    "from mystic.constraints import vectorize\n",
    "from mystic import random_seed\n",
    "random_seed(123)\n",
    "\n",
    "# define a model\n",
    "a,b,c,d = 0.661, -1.234, 2.983, -16.5571\n",
    "def model(x):\n",
    "  x0,x1,x2,x3 = x\n",
    "  return a*x3**3 + b*x2**2 + c*x1 + d*x0\n",
    "\n",
    "# generate some sparse data\n",
    "xtrain = np.random.uniform(0,100, size=(10,4))\n",
    "target = model(xtrain.T).T\n",
    "xtest = np.random.uniform(0,100, size=(10,4))\n",
    "test = model(xtest.T).T\n",
    "\n",
    "# define some model constraints\n",
    "equations = \"\"\"\n",
    "3*b + c > -0.75\n",
    "4.5*b - d > 11.0\n",
    "\"\"\"\n",
    "var = list('abcd')\n",
    "equations = simplify(equations, variables=var)\n",
    "cf = generate_constraint(generate_solvers(equations, variables=var))\n",
    "\n",
    "# build a kernel-transformed regressor\n",
    "ta = pre.FunctionTransformer(func=vectorize(cf, axis=1))\n",
    "tp = pre.PolynomialFeatures(degree=3)\n",
    "e = lin.LinearRegression()\n",
    "\n",
    "# train and score, then test and score\n",
    "xtrain_ = tp.fit_transform(ta.fit_transform(xtrain))\n",
    "print(\"score on training data: %s\" % e.fit(xtrain_, target).score(xtrain_, target))\n",
    "xtest_ = tp.fit_transform(ta.fit_transform(xtest))\n",
    "print(\"score on testing data: %s\" % e.score(xtest_, test))"
   ]
  },
  {
   "cell_type": "markdown",
   "metadata": {},
   "source": [
    "#### Asynchronous execution, solver restarts, and saving state"
   ]
  },
  {
   "cell_type": "markdown",
   "metadata": {},
   "source": [
    " - all of the solvers in `mystic` can run until converged (with `Solve`) or progress asynchronously on a per-iteration basis (with `Step`). `mystic` provides utilities that check for termination and/or dimensional collapse, as well as stateful solvers that can be dynamically saved and stored, reloaded, modified, and restarted."
   ]
  },
  {
   "cell_type": "code",
   "execution_count": 13,
   "metadata": {},
   "outputs": [
    {
     "name": "stdout",
     "output_type": "stream",
     "text": [
      "Generation 0 has ChiSquare: 80573.454580\n",
      "DUMPED(\"mysolver.pkl\")\n",
      "Generation 10 has ChiSquare: 57.524283\n",
      "Generation 20 has ChiSquare: 6.167271\n",
      "Generation 30 has ChiSquare: 2.197137\n",
      "Generation 40 has ChiSquare: 2.046263\n",
      "Generation 50 has ChiSquare: 1.316914\n",
      "DUMPED(\"mysolver.pkl\")\n",
      "Generation 60 has ChiSquare: 0.841645\n",
      "Generation 70 has ChiSquare: 0.520491\n",
      "Generation 80 has ChiSquare: 0.323611\n",
      "Generation 90 has ChiSquare: 0.178742\n",
      "Generation 100 has ChiSquare: 0.054253\n",
      "DUMPED(\"mysolver.pkl\")\n",
      "Optimization terminated successfully.\n",
      "         Current function value: 0.003418\n",
      "         Iterations: 108\n",
      "         Function evaluations: 189\n",
      "STOP(\"VTR with {'tolerance': 0.005, 'target': 0.0}\")\n",
      "DUMPED(\"mysolver.pkl\")\n",
      "LOADED(\"mysolver.pkl\")\n",
      "Generation 110 has ChiSquare: 0.003418\n",
      "Generation 120 has ChiSquare: 0.003418\n",
      "Generation 130 has ChiSquare: 0.001413\n",
      "Generation 140 has ChiSquare: 0.000028\n",
      "Generation 150 has ChiSquare: 0.000002\n",
      "DUMPED(\"mysolver.pkl\")\n",
      "Optimization terminated successfully.\n",
      "         Current function value: 0.000001\n",
      "         Iterations: 152\n",
      "         Function evaluations: 83\n",
      "STOP(\"VTR with {'tolerance': 1e-06, 'target': 0.0}\")\n",
      "DUMPED(\"mysolver.pkl\")\n"
     ]
    }
   ],
   "source": [
    "\"\"\"\n",
    "Minimize:\n",
    "    3d Rosenbrock function\n",
    "    \n",
    "with an asynchronous solver with checkpoints\n",
    "\"\"\"\n",
    "from mystic.solvers import DifferentialEvolutionSolver\n",
    "from mystic.solvers import NelderMeadSimplexSolver\n",
    "from mystic.termination import VTR, ChangeOverGeneration, When, Or\n",
    "from mystic.monitors import VerboseMonitor\n",
    "from mystic.models import rosen\n",
    "from mystic.solvers import LoadSolver\n",
    "import os\n",
    "\n",
    "# instantiate and configure the solver\n",
    "_solver = NelderMeadSimplexSolver(3)\n",
    "lb,ub = [0.,0.,0.],[10.,10.,10.]\n",
    "_solver.SetRandomInitialPoints(lb, ub)\n",
    "_solver.SetEvaluationLimits(1000)\n",
    "_solver.SetGenerationMonitor(VerboseMonitor(10))\n",
    "_solver.SetStrictRanges(lb, ub)\n",
    "_solver.SetTermination(Or( VTR(), ChangeOverGeneration() ))\n",
    "_solver.SetObjective(rosen)\n",
    "    \n",
    "# add a periodic dump to an archive\n",
    "tmpfile = 'mysolver.pkl'\n",
    "_solver.SetSaveFrequency(50, tmpfile)\n",
    "\n",
    "# run the optimizer\n",
    "while not _solver.Terminated():\n",
    "    _solver.Step(disp=1)\n",
    "\n",
    "# load the most recent saved solver\n",
    "solver = LoadSolver(tmpfile)\n",
    "\n",
    "# modify the termination condition\n",
    "solver.SetTermination(VTR(0.000001))\n",
    "\n",
    "# restart the optimizer, and clean up\n",
    "solver.Solve(disp=1)\n",
    "os.remove(tmpfile)"
   ]
  },
  {
   "cell_type": "markdown",
   "metadata": {},
   "source": [
    " - `mystic` provides simple caching, that provide transparent use of archival backends for storing and loading data. Here, we use a cache to store the function evaluations during optimization, and then we read the archive and interpolate to produce a surrogate of our original function."
   ]
  },
  {
   "cell_type": "code",
   "execution_count": 17,
   "metadata": {},
   "outputs": [
    {
     "name": "stdout",
     "output_type": "stream",
     "text": [
      "Optimization terminated successfully.\n",
      "         Current function value: 0.003158\n",
      "         Iterations: 32\n",
      "         Function evaluations: 1320\n",
      "solved: [1.014025   1.02683694 1.05891358]\n"
     ]
    }
   ],
   "source": [
    "\"\"\"\n",
    "Minimize:\n",
    "    3d Rosenbrock function\n",
    "    \n",
    "utilize the evaluated points to construct a 3d Rosenbrock surrogate\n",
    "\"\"\"\n",
    "import mystic as my\n",
    "import mystic.models as mm\n",
    "import mystic.cache as mc\n",
    "import mystic.math.interpolate as mi\n",
    "\n",
    "# connect the model function to a caching archive\n",
    "rosen = mc.cached(archive='rosen')(mm.rosen)\n",
    "\n",
    "# solve\n",
    "result = my.solvers.diffev(rosen, x0=[(0,5),(0,5),(0,5)], npop=40)\n",
    "print('solved: %s' % result)\n",
    "\n",
    "# read the archive and interpolate \n",
    "c = mc.archive.read('rosen')\n",
    "f = mi.interpf(list(c.keys()), list(c.values()), method='thin_plate')\n",
    "\n",
    "# convert f(*x) to f(x) \n",
    "approx = mi._to_objective(f)\n",
    "\n",
    "# check results from the surrogate are close to the original\n",
    "assert my.math.almostEqual(rosen([1,1,1]), approx([1,1,1]), tol=0.1)\n",
    "assert my.math.almostEqual(rosen([1,2,3]), approx([1,2,3]), rel=0.5)\n",
    "\n",
    "import pox\n",
    "pox.rmtree('rosen')"
   ]
  },
  {
   "cell_type": "markdown",
   "metadata": {},
   "source": [
    "#### Auto-dimensional reduction"
   ]
  },
  {
   "cell_type": "markdown",
   "metadata": {},
   "source": [
    " - Solvers accept two forms of stop conditions: (1) termination, and (2) collapse.  Collapse conditions are those that define how to dynamically reduce elements of the optimization, such as how to reduce the number of input parameters or the region of search space. Here we demonstrate a support-vector regression using a numerical kernel transform with a dimensional collapse targeted to zero-out points with small support."
   ]
  },
  {
   "cell_type": "code",
   "execution_count": 18,
   "metadata": {},
   "outputs": [
    {
     "name": "stdout",
     "output_type": "stream",
     "text": [
      "Generation 0 has ChiSquare: 2.182560\n",
      "STOP(\"CollapseAt with {'tolerance': 0.0001, 'generations': 50, 'target': 0.0, 'mask': None} at {4}\")\n",
      "STOP(\"CollapseAt with {'tolerance': 0.0001, 'generations': 50, 'target': 0.0, 'mask': {4}} at {11}\")\n",
      "STOP(\"CollapseAt with {'tolerance': 0.0001, 'generations': 50, 'target': 0.0, 'mask': {11, 4}} at {18}\")\n",
      "STOP(\"CollapseAt with {'tolerance': 0.0001, 'generations': 50, 'target': 0.0, 'mask': {18, 11, 4}} at {10}\")\n",
      "STOP(\"CollapseAt with {'tolerance': 0.0001, 'generations': 50, 'target': 0.0, 'mask': {10, 18, 11, 4}} at {2}\")\n",
      "STOP(\"CollapseAt with {'tolerance': 0.0001, 'generations': 50, 'target': 0.0, 'mask': {18, 2, 4, 10, 11}} at {14}\")\n",
      "STOP(\"CollapseAt with {'tolerance': 0.0001, 'generations': 50, 'target': 0.0, 'mask': {2, 4, 10, 11, 14, 18}} at {19}\")\n",
      "STOP(\"CollapseAt with {'tolerance': 0.0001, 'generations': 50, 'target': 0.0, 'mask': {2, 4, 10, 11, 14, 18, 19}} at {5}\")\n",
      "STOP(\"CollapseAt with {'tolerance': 0.0001, 'generations': 50, 'target': 0.0, 'mask': {2, 4, 5, 10, 11, 14, 18, 19}} at {9}\")\n",
      "STOP(\"CollapseAt with {'tolerance': 0.0001, 'generations': 50, 'target': 0.0, 'mask': {2, 4, 5, 9, 10, 11, 14, 18, 19}} at {8}\")\n",
      "STOP(\"CollapseAt with {'tolerance': 0.0001, 'generations': 50, 'target': 0.0, 'mask': {2, 4, 5, 8, 9, 10, 11, 14, 18, 19}} at {1}\")\n",
      "STOP(\"CollapseAt with {'tolerance': 0.0001, 'generations': 50, 'target': 0.0, 'mask': {1, 2, 4, 5, 8, 9, 10, 11, 14, 18, 19}} at {12}\")\n",
      "STOP(\"CollapseAt with {'tolerance': 0.0001, 'generations': 50, 'target': 0.0, 'mask': {1, 2, 4, 5, 8, 9, 10, 11, 12, 14, 18, 19}} at {6}\")\n",
      "STOP(\"CollapseAt with {'tolerance': 0.0001, 'generations': 50, 'target': 0.0, 'mask': {1, 2, 4, 5, 6, 8, 9, 10, 11, 12, 14, 18, 19}} at {17}\")\n",
      "STOP(\"CollapseAt with {'tolerance': 0.0001, 'generations': 50, 'target': 0.0, 'mask': {1, 2, 4, 5, 6, 8, 9, 10, 11, 12, 14, 17, 18, 19}} at {20}\")\n",
      "STOP(\"CollapseAt with {'tolerance': 0.0001, 'generations': 50, 'target': 0.0, 'mask': {1, 2, 4, 5, 6, 8, 9, 10, 11, 12, 14, 17, 18, 19, 20}} at {13}\")\n",
      "STOP(\"CollapseAt with {'tolerance': 0.0001, 'generations': 50, 'target': 0.0, 'mask': {1, 2, 4, 5, 6, 8, 9, 10, 11, 12, 13, 14, 17, 18, 19, 20}} at {3}\")\n",
      "STOP(\"CollapseAt with {'tolerance': 0.0001, 'generations': 50, 'target': 0.0, 'mask': {1, 2, 3, 4, 5, 6, 8, 9, 10, 11, 12, 13, 14, 17, 18, 19, 20}} at {15}\")\n",
      "STOP(\"CollapseAt with {'tolerance': 0.0001, 'generations': 50, 'target': 0.0, 'mask': {1, 2, 3, 4, 5, 6, 8, 9, 10, 11, 12, 13, 14, 15, 17, 18, 19, 20}} at {7}\")\n",
      "STOP(\"CollapseAt with {'tolerance': 0.0001, 'generations': 50, 'target': 0.0, 'mask': {1, 2, 3, 4, 5, 6, 7, 8, 9, 10, 11, 12, 13, 14, 15, 17, 18, 19, 20}} at {16}\")\n",
      "Generation 1000 has ChiSquare: -0.224674\n",
      "STOP(\"ChangeOverGeneration with {'tolerance': 1e-08, 'generations': 200}\")\n",
      "solved x: [0.06703347 0.         0.         0.         0.         0.\n",
      " 0.         0.         0.         0.         0.         0.\n",
      " 0.         0.         0.         0.         0.         0.\n",
      " 0.         0.         0.         0.06703347]\n",
      "constraint A*x == 0: [0.]\n",
      "minimum 0.5*x'Qx + b'*x: -0.22467429351489346\n",
      "support vectors: [0] [10]\n"
     ]
    },
    {
     "data": {
      "image/png": "[encoded data removed]",
      "text/plain": [
       "<Figure size 432x288 with 1 Axes>"
      ]
     },
     "metadata": {
      "needs_background": "light"
     },
     "output_type": "display_data"
    }
   ],
   "source": [
    "\"\"\"\n",
    "Minimize:\n",
    "    0.5*x'Qx + b'*x\n",
    "\n",
    "where: \n",
    "    Q_ij = linear_kernel(X_i, X_j)\n",
    "    b = Y, Y = x with uniform scatter\n",
    "    \n",
    "using support vector linear regression\n",
    "\"\"\"\n",
    "%matplotlib inline\n",
    "from numpy import *\n",
    "import matplotlib.pyplot as plt\n",
    "from mystic.svr import *\n",
    "\n",
    "# define the objective function to match standard QP solver\n",
    "# (see: http://www.mathworks.com/help/optim/ug/quadprog.html)\n",
    "def objective(x, Q, b):\n",
    "    return 0.5 * dot(dot(x,Q),x) + dot(b,x)\n",
    "\n",
    "# generate some linear data with uniform scatter\n",
    "x = arange(-5, 5.001); nx = x.size\n",
    "y = x + 7*random.rand(nx)\n",
    "N = 2*nx\n",
    "\n",
    "# build the Kernel Matrix\n",
    "# get the QP quadratic term\n",
    "X = concatenate([x,-x])\n",
    "lk = LinearKernel\n",
    "Q = KernelMatrix(X, kernel=lk) # Q_ij = lk(X_i, X_j)\n",
    "# get the QP linear term\n",
    "Y = concatenate([y,-y])\n",
    "svr_epsilon = 3\n",
    "b = Y + svr_epsilon * ones(Y.shape)\n",
    "\n",
    "# build the constraints (y.T * x = 0.0)\n",
    "# 1.0*x0 + 1.0*x1 + ... - 1.0*xN = 0.0\n",
    "Aeq = concatenate([ones(nx), -ones(nx)]).reshape(1,N)\n",
    "Beq = array([0.])\n",
    "# set the bounds\n",
    "lb = zeros(N)\n",
    "ub = zeros(N) + 2.0\n",
    "_b = zeros(N)\n",
    "b_ = zeros(N) + 0.1\n",
    "\n",
    "# build the constraints operator\n",
    "from mystic.symbolic import linear_symbolic, solve, generate_solvers, generate_constraint\n",
    "constrain = linear_symbolic(Aeq,Beq)\n",
    "constrain = generate_constraint(generate_solvers(solve(constrain,target=['x0'])))\n",
    "\n",
    "from mystic import suppressed\n",
    "@suppressed(1e-5)\n",
    "def conserve(x):\n",
    "    return constrain(x)\n",
    "\n",
    "# solve for alpha\n",
    "from mystic.solvers import DifferentialEvolutionSolver as DESolver\n",
    "from mystic.termination import Or, ChangeOverGeneration, CollapseAt\n",
    "from mystic.monitors import VerboseMonitor\n",
    "solver = DESolver(len(lb), 3*N)\n",
    "solver.SetRandomInitialPoints(min=_b,max=b_)\n",
    "solver.SetStrictRanges(min=lb,max=ub)\n",
    "solver.SetGenerationMonitor(VerboseMonitor(1000))\n",
    "solver.SetConstraints(conserve)\n",
    "solver.SetTermination(Or(ChangeOverGeneration(1e-8,200),CollapseAt(0.0)))\n",
    "solver.Solve(objective, ExtraArgs=(Q,b), disp=0)\n",
    "alpha = solver.bestSolution\n",
    "\n",
    "print('solved x: %s' % alpha)\n",
    "print(\"constraint A*x == 0: %s\" % inner(Aeq, alpha))\n",
    "print(\"minimum 0.5*x'Qx + b'*x: %s\" % solver.bestEnergy)\n",
    "\n",
    "# calculate support vectors and regression function\n",
    "sv1 = SupportVectors(alpha[:nx])\n",
    "sv2 = SupportVectors(alpha[nx:])\n",
    "R = RegressionFunction(x, y, alpha, svr_epsilon, lk)\n",
    "\n",
    "print('support vectors: %s %s' % (sv1, sv2))\n",
    "\n",
    "# plot data\n",
    "plt.plot(x, y, 'k+', markersize=10)\n",
    "\n",
    "# plot regression function and support\n",
    "plt.plot(x,R(x), 'k-')\n",
    "plt.plot(x,R(x)-svr_epsilon, 'r--')\n",
    "plt.plot(x,R(x)+svr_epsilon, 'g--')\n",
    "plt.plot(x[sv1],y[sv1],'ro')\n",
    "plt.plot(x[sv2],y[sv2],'go')\n",
    "plt.show()"
   ]
  },
  {
   "cell_type": "markdown",
   "metadata": {},
   "source": [
    "#### Hyperparameter optimization"
   ]
  },
  {
   "cell_type": "markdown",
   "metadata": {},
   "source": [
    " - Here we do an optimization with a parallel ensemble of solvers utilizing a space-filling algorithm to efficiently search hyperparameter space. This is an improvement over sampling on a grid, as an ensemble of optimizers quickly search for local minima in their own portion of the search space. Essentially, a multiplicity of local optimizers approximates a fast global optimization."
   ]
  },
  {
   "cell_type": "code",
   "execution_count": 1,
   "metadata": {},
   "outputs": [
    {
     "name": "stdout",
     "output_type": "stream",
     "text": [
      "Optimization terminated successfully.\n",
      "         Current function value: 0.049658\n",
      "         Iterations: 32\n",
      "         Function evaluations: 69\n",
      "         Total function evaluations: 14947\n"
     ]
    },
    {
     "data": {
      "text/plain": [
       "array([1.06578805])"
      ]
     },
     "execution_count": 1,
     "metadata": {},
     "output_type": "execute_result"
    }
   ],
   "source": [
    "\"\"\"\n",
    "Find the value of \"C\" that:\n",
    "    yields the best test score\n",
    "    for a linear support vector regression\n",
    "    on the Iris data set\n",
    "\"\"\"\n",
    "from sklearn.datasets import load_iris\n",
    "iris = load_iris()\n",
    "from sklearn.model_selection import train_test_split\n",
    "from sklearn.svm import SVR\n",
    "x_train,x_test,y_train,y_test = train_test_split(iris.data[:,:-1],iris.data[:,-1],test_size=.2)\n",
    "\n",
    "def cost(x):\n",
    "    return 1-SVR(kernel='linear', C=x[0]).fit(x_train, y_train).score(x_test, y_test)\n",
    "\n",
    "try:\n",
    "    from pathos.pools import ProcessPool as Pool\n",
    "except ImportError:\n",
    "    from mystic.pools import SerialPool as Pool\n",
    "\n",
    "from mystic.solvers import sparsity\n",
    "sparsity(cost, 1, npts=200, bounds=[(1,10)], gtol=20, map=Pool().map)"
   ]
  },
  {
   "cell_type": "markdown",
   "metadata": {},
   "source": [
    "#### Parallel solver and ensemble solvers"
   ]
  },
  {
   "cell_type": "markdown",
   "metadata": {},
   "source": [
    " - `mystic` provides a simple interface to launch an ensemble of optimizers in parallel"
   ]
  },
  {
   "cell_type": "code",
   "execution_count": 20,
   "metadata": {},
   "outputs": [
    {
     "name": "stdout",
     "output_type": "stream",
     "text": [
      "Generation 41 has best Chi-Squared: 3.642685\n",
      "       8         7       6          5         4         3         2\n",
      "128.5 x - 3.107 x - 247 x - 0.0625 x + 145.2 x + 5.323 x - 25.88 x - 2.214 x + 1.017\n"
     ]
    }
   ],
   "source": [
    "\"\"\"\n",
    "Find the coefficients of the 8th order Chebyshev polynomial\n",
    "\n",
    "using 256 Powell Directional solvers run in parallel\n",
    "with each new solver starting at the least dense point in parameter space\n",
    "\"\"\"\n",
    "# the Sparsity solver and Powell's solver\n",
    "from mystic.solvers import SparsitySolver\n",
    "from mystic.solvers import PowellDirectionalSolver\n",
    "\n",
    "try:\n",
    "    from pathos.pools import ProcessPool as Pool\n",
    "except ImportError:\n",
    "    from mystic.pools import SerialPool as Pool\n",
    "\n",
    "# Chebyshev cost function\n",
    "from mystic.models.poly import chebyshev8cost\n",
    "\n",
    "# Termination and Monitor\n",
    "from mystic.termination import Or, VTR, ChangeOverGeneration\n",
    "from mystic.monitors import Monitor\n",
    "\n",
    "# Misc tools\n",
    "from mystic.tools import random_seed\n",
    "from mystic.math import poly1d\n",
    "\n",
    "# dimensionality of the problem and size of the ensemble\n",
    "ndim, npts = 9, 256\n",
    "random_seed(123)\n",
    "\n",
    "# use DE to solve 8th-order Chebyshev coefficients\n",
    "solver = SparsitySolver(ndim, npts)\n",
    "solver.SetNestedSolver(PowellDirectionalSolver)\n",
    "solver.SetMapper(Pool().map)\n",
    "solver.SetStrictRanges(min=[-300]*ndim, max=[300]*ndim)\n",
    "solver.SetGenerationMonitor(Monitor())\n",
    "solver.SetTermination(Or(VTR(1e-8),ChangeOverGeneration(1e-8, 5)))\n",
    "solver.SetObjective(chebyshev8cost)\n",
    "solver.Solve()\n",
    "\n",
    "# retrieve results information\n",
    "print(\"Generation %d has best Chi-Squared: %f\" % (solver.generations, solver.bestEnergy))\n",
    "print(poly1d(solver.bestSolution))"
   ]
  },
  {
   "cell_type": "markdown",
   "metadata": {},
   "source": [
    "#### Supporting packages"
   ]
  },
  {
   "cell_type": "markdown",
   "metadata": {},
   "source": [
    " - `mystic` can use a variety of `map` functions from `pathos` (shown above) and `pyina`. `pathos` provides a worker `Pool` using multiprocessing, multithreading, and/or distributed computing. `pyina` provides a worker `Pool` using MPI and/or cluster schedulers, like torque and slurm. "
   ]
  },
  {
   "cell_type": "code",
   "execution_count": 21,
   "metadata": {},
   "outputs": [
    {
     "name": "stdout",
     "output_type": "stream",
     "text": [
      "approxmiate pi :  3.1415926537981265\n"
     ]
    }
   ],
   "source": [
    "\"\"\"\n",
    "compute PI, in parallel\n",
    "\"\"\"\n",
    "from numpy import arange\n",
    "\n",
    "# default # of rectangles\n",
    "n = 20000\n",
    "\n",
    "integration_points = (arange(1,n+1)-0.5)/n\n",
    "\n",
    "def f(x):\n",
    "    return 4.0/(1.0+x*x)\n",
    "\n",
    "# configure and run the worker pool\n",
    "from pyina.launchers import MpiPool\n",
    "from pyina.launchers import TorqueMpiPool\n",
    "\n",
    "pool = MpiPool(2)\n",
    "# pool = TorqueMpiPool('5:ppn=2', queue='productionQ', timelimit='20:00:00', workdir='.')\n",
    "out = pool.map(f, integration_points)\n",
    "\n",
    "from pyina import mpi\n",
    "if mpi.world.rank == 0:\n",
    "    print(\"approxmiate pi : \", sum(out)/n)"
   ]
  },
  {
   "cell_type": "markdown",
   "metadata": {},
   "source": [
    " - `klepto` provides local in-memory caching of functions, as well as a dictionary interface to shared archives for longer-term storage.  Entries in `klepto` archives can be text files, SQL tables, or HDF files."
   ]
  },
  {
   "cell_type": "code",
   "execution_count": 24,
   "metadata": {},
   "outputs": [
    {
     "name": "stdout",
     "output_type": "stream",
     "text": [
      "CacheInfo(hit=0, miss=10, load=0, maxsize=100, size=10)\n",
      "CacheInfo(hit=10, miss=10, load=0, maxsize=100, size=10)\n",
      "cache is shared: True\n",
      "key (2,1) in cache: True\n",
      "key (2,0) not in cache\n",
      "key for (2,0): cfd9809c56982c2baf98916f82b19a4e\n",
      "cache has key for (2,1): True\n",
      "cache is cleared\n",
      "cache has key for (2,1): False\n",
      "cache is loaded\n",
      "cache has key for (2,1): True\n",
      "all values are restored: True\n",
      "cache2 is empty: False\n",
      "cache2 has loaded: True\n",
      "added key (10,1) to cache2\n",
      "cache has key for (10,1): True\n"
     ]
    }
   ],
   "source": [
    "\"\"\"\n",
    "examples of using klepto's caches and archives\n",
    "\"\"\"\n",
    "from klepto.keymaps import hashmap\n",
    "from klepto import lru_cache as memoize\n",
    "from klepto.archives import dict_archive\n",
    "\n",
    "hasher = hashmap(algorithm='md5')\n",
    "store = dict_archive('archive')\n",
    "\n",
    "class Adder(object):\n",
    "    @memoize(keymap=hasher, ignore=('self','**'), cache=store)\n",
    "    def __call__(self, x, *args, **kwds):\n",
    "        return sum((x,)+args)\n",
    "\n",
    "    add = __call__\n",
    "\n",
    "# get an instance of Adder with a cached __call__ function\n",
    "add = Adder()\n",
    "x = list(map(add, range(10), [1]*10))\n",
    "print(add.__call__.info())\n",
    "\n",
    "# repeat calls, pulling results from cache instead of recalculating\n",
    "x = list(map(add, range(10), [1]*10))\n",
    "print(add.__call__.info())\n",
    "\n",
    "# get a new Adder instance, with a shared cache\n",
    "plus = Adder()\n",
    "cache = plus.__call__.__cache__()\n",
    "print('cache is shared: {}'.format(x == sorted(cache.values())))\n",
    "\n",
    "# lookup an existing key\n",
    "print('key (2,1) in cache: {}'.format(add.__call__.lookup(add, 2,1) == 3))\n",
    "\n",
    "# try to lookup a missing key\n",
    "try:\n",
    "    add.__call__.lookup(add, 2,0)\n",
    "except KeyError:\n",
    "    print('key (2,0) not in cache')\n",
    "\n",
    "# get key from cache\n",
    "print('key for (2,0): {}'.format(add.__call__.key(add, 2,0)))\n",
    "key = add.__call__.key(add, 2,1)\n",
    "print('cache has key for (2,1): {}'.format(cache[key] == 3))\n",
    "\n",
    "# get the shared cache archive\n",
    "archive = cache.__archive__\n",
    "\n",
    "# save all cache keys to the archive, then remove all cached keys\n",
    "cache.dump()\n",
    "cache.clear()\n",
    "print('cache is cleared')\n",
    "print('cache has key for (2,1): {}'.format(key in cache))\n",
    "\n",
    "# load all cache keys from the archive\n",
    "cache.load()\n",
    "print('cache is loaded')\n",
    "print('cache has key for (2,1): {}'.format(key in cache))\n",
    "print('all values are restored: {}'.format(sorted(cache.values()) == x))\n",
    "\n",
    "# get a new cache with the same shared archive\n",
    "cache2 = dict_archive('foo', cached=True)\n",
    "cache2.archive = archive\n",
    "print('cache2 is empty: {}'.format(bool(cache2.values())))\n",
    "\n",
    "# load values from archive\n",
    "cache2.load()\n",
    "print('cache2 has loaded: {}'.format(x == sorted(cache2.values())))\n",
    "\n",
    "# add a value to the new archive\n",
    "key2 = add.__call__.key(add,10,1)\n",
    "cache2[key2] = 12\n",
    "print('added key (10,1) to cache2')\n",
    "\n",
    "# pass the new value to the original cache\n",
    "cache2.dump(key2)\n",
    "cache.load(key2)\n",
    "print('cache has key for (10,1): {}'.format(cache.get(key2) == 12))"
   ]
  },
  {
   "cell_type": "markdown",
   "metadata": {},
   "source": [
    "#### Surface interpolation"
   ]
  },
  {
   "cell_type": "markdown",
   "metadata": {},
   "source": [
    " - Here we use a sampler to sample a cached function, then interpolate from the archived points. We use a large number of points to help ensure the critical points of the function have been sampled. We then plot the interpolated surface, and also show the distribution of sampled points."
   ]
  },
  {
   "cell_type": "code",
   "execution_count": 25,
   "metadata": {},
   "outputs": [
    {
     "data": {
      "image/png": "[encoded data removed]",
      "text/plain": [
       "<Figure size 432x288 with 1 Axes>"
      ]
     },
     "metadata": {
      "needs_background": "light"
     },
     "output_type": "display_data"
    }
   ],
   "source": [
    "import mystic as my\n",
    "import mystic.models as mm\n",
    "\n",
    "# plot the original function\n",
    "my.model_plotter(mm.griewangk, depth=True, fill=True, bounds='-5:5,-5:5')"
   ]
  },
  {
   "cell_type": "code",
   "execution_count": 26,
   "metadata": {},
   "outputs": [
    {
     "data": {
      "image/png": "[encoded data removed]",
      "text/plain": [
       "<Figure size 432x288 with 1 Axes>"
      ]
     },
     "metadata": {
      "needs_background": "light"
     },
     "output_type": "display_data"
    }
   ],
   "source": [
    "import mystic as my\n",
    "import mystic.models as mm\n",
    "import mystic.cache as mc\n",
    "import mystic.math.interpolate as mi\n",
    "import mystic.samplers as ms\n",
    "\n",
    "bounds = 2*[(-5.0,5.0)]\n",
    "\n",
    "# connect the model function to a caching archive\n",
    "model = mc.cached(archive='griewangk')(mm.griewangk)\n",
    "\n",
    "# sample points from a Gaussian distribution\n",
    "s = ms.BuckshotSampler(bounds, model, 3000)\n",
    "s.sample()\n",
    "\n",
    "# read the archive from the model's cache, and interpolate\n",
    "c = model.__cache__()\n",
    "f = mi.interpf(list(c.keys()), list(c.values()), method='thin_plate')\n",
    "\n",
    "# convert f(*x) to f(x)\n",
    "approx = mi._to_objective(f)\n",
    "\n",
    "# plot the interpolated function\n",
    "my.model_plotter(approx, depth=True, fill=True, bounds='-5:5,-5:5')"
   ]
  },
  {
   "cell_type": "code",
   "execution_count": 27,
   "metadata": {},
   "outputs": [
    {
     "data": {
      "image/png": "[encoded data removed]",
      "text/plain": [
       "<Figure size 432x288 with 1 Axes>"
      ]
     },
     "metadata": {
      "needs_background": "light"
     },
     "output_type": "display_data"
    }
   ],
   "source": [
    "from mpl_toolkits.mplot3d import axes3d\n",
    "import matplotlib.pyplot as plt\n",
    "import numpy as np\n",
    "import mystic.cache as mc\n",
    "\n",
    "figure = plt.figure()\n",
    "kwds = {'projection':'3d'}\n",
    "ax = figure.gca(**kwds)\n",
    "ax.autoscale(tight=True)\n",
    "\n",
    "# read the archive used above, and show the sampled points\n",
    "c = mc.archive.read('griewangk')\n",
    "x, y = np.array(list(c.keys())), np.array(list(c.values()))\n",
    "ax.plot(x.T[0], x.T[1], y, 'ko', linewidth=2, markersize=4)\n",
    "plt.show()\n",
    "\n",
    "import pox\n",
    "pox.rmtree('griewangk')"
   ]
  },
  {
   "cell_type": "markdown",
   "metadata": {},
   "source": [
    " - Here we repeat the exercise with a sampler that leverages an ensemble of solvers. The intent is to quickly discover all local minima and maxima for the model, and thus it should be possible to find a function that accurately approximates the model with far less sampled points."
   ]
  },
  {
   "cell_type": "code",
   "execution_count": 31,
   "metadata": {},
   "outputs": [
    {
     "data": {
      "image/png": "[encoded data removed]",
      "text/plain": [
       "<Figure size 432x288 with 1 Axes>"
      ]
     },
     "metadata": {
      "needs_background": "light"
     },
     "output_type": "display_data"
    }
   ],
   "source": [
    "import mystic as my\n",
    "import mystic.models as mm\n",
    "import mystic.cache as mc\n",
    "import mystic.math.interpolate as mi\n",
    "import mystic.samplers as ms\n",
    "from builtins import all\n",
    "\n",
    "bounds = 2*[(-5.0,5.0)]\n",
    "\n",
    "# connect the model function to a caching archive\n",
    "model = mc.cached(archive='griewangk')(mm.griewangk)\n",
    "\n",
    "# sample initial points from a Uniform distribution, then search for minima \n",
    "s = ms.LatticeSampler(bounds, model, 16)\n",
    "s.sample_until(terminated=all)\n",
    "\n",
    "# invert the model\n",
    "imodel = model.__inverse__\n",
    "\n",
    "# sample initial points from a Uniform distribution, then search for maxima \n",
    "si = ms.LatticeSampler(bounds, imodel, 16)\n",
    "si.sample_until(terminated=all)\n",
    "\n",
    "# read the archive from the model's cache, and interpolate\n",
    "c = model.__cache__()\n",
    "f = mi.interpf(list(c.keys()), list(c.values()), method='thin_plate')\n",
    "\n",
    "# convert f(*x) to f(x)\n",
    "approx = mi._to_objective(f)\n",
    "\n",
    "# plot the interpolated function\n",
    "my.model_plotter(approx, depth=True, fill=True, bounds='-5:5,-5:5')"
   ]
  },
  {
   "cell_type": "code",
   "execution_count": 32,
   "metadata": {},
   "outputs": [
    {
     "data": {
      "image/png": "[encoded data removed]",
      "text/plain": [
       "<Figure size 432x288 with 1 Axes>"
      ]
     },
     "metadata": {
      "needs_background": "light"
     },
     "output_type": "display_data"
    }
   ],
   "source": [
    "from mpl_toolkits.mplot3d import axes3d\n",
    "import matplotlib.pyplot as plt\n",
    "import numpy as np\n",
    "import mystic.cache as mc\n",
    "\n",
    "figure = plt.figure()\n",
    "kwds = {'projection':'3d'}\n",
    "ax = figure.gca(**kwds)\n",
    "ax.autoscale(tight=True)\n",
    "\n",
    "# read the archive used above, and show the sampled points\n",
    "c = mc.archive.read('griewangk')\n",
    "x, y = np.array(list(c.keys())), np.array(list(c.values()))\n",
    "ax.plot(x.T[0], x.T[1], y, 'ko', linewidth=2, markersize=4)\n",
    "plt.show()\n",
    "\n",
    "import pox\n",
    "pox.rmtree('griewangk')"
   ]
  },
  {
   "cell_type": "markdown",
   "metadata": {},
   "source": [
    "#### Uncertainty quantification"
   ]
  },
  {
   "cell_type": "markdown",
   "metadata": {},
   "source": [
    " - Here `mystic` is used to find rigorous bounds on the probability of failure for a model of hypervelocity impact. The cost function takes a user-defined model, and uses it to calculate the probability of failure.  The optimization is performed in a transformed parameter space, with the transformation defined by constraints on a product measure composed of all valid weights and positions for the model. This enables a user to define moment constraints on input and output parameters without specifying the input distributions (as would be done with, for example, Bayesian inference). `mystic` solves for the scenarios (i.e. combinations of weights and positions) that represent the extremizers for all possible inputs."
   ]
  },
  {
   "cell_type": "code",
   "execution_count": 13,
   "metadata": {},
   "outputs": [
    {
     "name": "stdout",
     "output_type": "stream",
     "text": [
      "...SETTINGS...\n",
      "npop = 40\n",
      "maxiter = 1000\n",
      "maxfun = 1000000.0\n",
      "convergence_tol = 1e-06\n",
      "crossover = 0.9\n",
      "percent_change = 0.9\n",
      "..............\n",
      "\n",
      " model: f(x) = model(x)\n",
      " target: (6.5,)\n",
      " error: (1.0,)\n",
      " npts: (2, 2, 2)\n",
      "..............\n",
      "\n",
      " parameters: ['wx1', 'wx2', 'x1', 'x2', 'wy1', 'wy2', 'y1', 'y2', 'wz1', 'wz2', 'z1', 'z2']\n",
      " lower bounds: [0.0, 0.0, 60.0, 60.0, 0.0, 0.0, 0.0, 0.0, 0.0, 0.0, 2.1, 2.1]\n",
      " upper bounds: [1.0, 1.0, 105.0, 105.0, 1.0, 1.0, 30.0, 30.0, 1.0, 1.0, 2.8, 2.8]\n",
      "Generation 0 has ChiSquare: -0.115317\n",
      "Generation 50 has ChiSquare: -0.296483\n",
      "Generation 100 has ChiSquare: -0.356666\n",
      "Generation 150 has ChiSquare: -0.369667\n",
      "Generation 200 has ChiSquare: -0.375766\n",
      "Generation 250 has ChiSquare: -0.376930\n",
      "Generation 300 has ChiSquare: -0.378301\n",
      "Generation 350 has ChiSquare: -0.378716\n",
      "Generation 400 has ChiSquare: -0.378846\n",
      "Generation 450 has ChiSquare: -0.378930\n",
      "Generation 500 has ChiSquare: -0.378948\n",
      "Generation 550 has ChiSquare: -0.378957\n",
      "STOP(\"ChangeOverGeneration with {'tolerance': 1e-06, 'generations': 40}\")\n",
      "func_maximum: 0.3789570170329823\n",
      "func_evals: 22080\n",
      "solved: [wx,x]\n",
      "[[  0.62104298  60.00571071]\n",
      " [  0.37895702 104.99854357]]\n",
      "solved: [wy,y]\n",
      "[[0.18408474 0.20361557]\n",
      " [0.81591526 0.04686905]]\n",
      "solved: [wz,z]\n",
      "[[0.71854263 2.28858131]\n",
      " [0.28145737 2.28858073]]\n",
      "expect: 5.500005855811581\n"
     ]
    }
   ],
   "source": [
    "#######################################################################\n",
    "# solver configuration\n",
    "#######################################################################\n",
    "MINMAX = -1  ## NOTE: sup = maximize = -1; inf = minimize = 1\n",
    "npop = 40\n",
    "maxiter = 1000\n",
    "maxfun = 1e+6\n",
    "convergence_tol = 1e-6; ngen = 40\n",
    "crossover = 0.9\n",
    "percent_change = 0.9\n",
    "\n",
    "\n",
    "#######################################################################\n",
    "# the model function\n",
    "#######################################################################\n",
    "from math import pi, cos, tanh\n",
    "\n",
    "def ballistic_limit(h,a):\n",
    "  Ho = 0.5794\n",
    "  s = 1.4004\n",
    "  n = 0.4482\n",
    "  return Ho * ( h / cos(a)**n )**s\n",
    "\n",
    "def model(x):\n",
    "  h = x[0] * 25.4 * 1e-3\n",
    "  a = x[1] * pi/180.0\n",
    "  v = x[2]\n",
    "\n",
    "  K = 10.3963\n",
    "  p = 0.4757\n",
    "  u = 1.0275\n",
    "  m = 0.4682\n",
    "  Dp = 1.778\n",
    "\n",
    "  # compare to ballistic limit\n",
    "  v_bl = ballistic_limit(h,a)\n",
    "  if v < v_bl:\n",
    "    return 0\n",
    "\n",
    "  return K * (h/Dp)**p * (cos(a))**u * (tanh((v/v_bl)-1))**m\n",
    "\n",
    "\n",
    "#######################################################################\n",
    "# the differential evolution optimizer\n",
    "#######################################################################\n",
    "def optimize(cost,_bounds,_constraints):\n",
    "  from mystic.solvers import DifferentialEvolutionSolver2\n",
    "  from mystic.termination import ChangeOverGeneration as COG\n",
    "  from mystic.strategy import Best1Exp\n",
    "  from mystic.monitors import VerboseMonitor, Monitor\n",
    "  from mystic.tools import random_seed\n",
    "\n",
    "  stepmon = VerboseMonitor(50)\n",
    "  evalmon = Monitor()\n",
    "\n",
    "  lb,ub = _bounds\n",
    "  ndim = len(lb)\n",
    "\n",
    "  solver = DifferentialEvolutionSolver2(ndim,npop)\n",
    "  solver.SetRandomInitialPoints(min=lb,max=ub)\n",
    "  solver.SetStrictRanges(min=lb,max=ub)\n",
    "  solver.SetEvaluationLimits(maxiter,maxfun)\n",
    "  solver.SetEvaluationMonitor(evalmon)\n",
    "  solver.SetGenerationMonitor(stepmon)\n",
    "  solver.SetConstraints(_constraints)\n",
    "\n",
    "  tol = convergence_tol\n",
    "  solver.Solve(cost,termination=COG(tol,ngen),strategy=Best1Exp, \\\n",
    "               CrossProbability=crossover,ScalingFactor=percent_change)\n",
    "\n",
    "  solved = solver.bestSolution\n",
    "  func_max = MINMAX * solver.bestEnergy       #NOTE: -solution assumes -Max\n",
    "  func_evals = solver.evaluations\n",
    "  return solved, func_max, func_evals\n",
    "\n",
    "\n",
    "#######################################################################\n",
    "# maximize the function\n",
    "#######################################################################\n",
    "def maximize(params,npts,bounds):\n",
    "\n",
    "  from mystic.math.measures import split_param\n",
    "  from mystic.math.discrete import product_measure\n",
    "  from mystic.math import almostEqual\n",
    "  from numpy import inf\n",
    "  atol = 1e-18 # default is 1e-18\n",
    "  rtol = 1e-7  # default is 1e-7\n",
    "  target,error = params\n",
    "  lb,ub = bounds\n",
    "\n",
    "  # split lower & upper bounds into weight-only & sample-only\n",
    "  w_lb, x_lb = split_param(lb, npts)\n",
    "  w_ub, x_ub = split_param(ub, npts)\n",
    "\n",
    "  # generate primary constraints function\n",
    "  def constraints(rv):\n",
    "    c = product_measure().load(rv, npts)\n",
    "    # NOTE: bounds wi in [0,1] enforced by filtering\n",
    "    # impose norm on each discrete measure\n",
    "    for measure in c:\n",
    "      if not almostEqual(float(measure.mass), 1.0, tol=atol, rel=rtol):\n",
    "        measure.normalize()\n",
    "    # impose expectation on product measure\n",
    "    E = float(c.expect(model))\n",
    "    if not (E <= float(target[0] + error[0])) \\\n",
    "    or not (float(target[0] - error[0]) <= E):\n",
    "      c.set_expect(target[0], model, (x_lb,x_ub), tol=error[0])\n",
    "    # extract weights and positions\n",
    "    return c.flatten()\n",
    "\n",
    "  # generate maximizing function\n",
    "  def cost(rv):\n",
    "    c = product_measure().load(rv, npts)\n",
    "    E = float(c.expect(model))\n",
    "    if E > (target[0] + error[0]) or E < (target[0] - error[0]):\n",
    "      return inf  #XXX: FORCE TO SATISFY E CONSTRAINTS\n",
    "    return MINMAX * c.pof(model)\n",
    "\n",
    "  # maximize\n",
    "  solved, func_max, func_evals = optimize(cost,(lb,ub),constraints)\n",
    "\n",
    "  if MINMAX == 1:\n",
    "    print(\"func_minimum: %s\" % func_max)  # inf\n",
    "  else:\n",
    "    print(\"func_maximum: %s\" % func_max)  # sup\n",
    "  print(\"func_evals: %s\" % func_evals)\n",
    "\n",
    "  return solved, func_max\n",
    "\n",
    "\n",
    "#######################################################################\n",
    "# rank, bounds, and restart information \n",
    "#######################################################################\n",
    "if __name__ == '__main__':\n",
    "  function_name = model.__name__\n",
    "\n",
    "  H_mean = 6.5    #NOTE: SET THE 'mean' HERE!\n",
    "  H_range = 1.0   #NOTE: SET THE 'range' HERE!\n",
    "  nx = 2  #NOTE: SET THE NUMBER OF 'h' POINTS HERE!\n",
    "  ny = 2  #NOTE: SET THE NUMBER OF 'a' POINTS HERE!\n",
    "  nz = 2  #NOTE: SET THE NUMBER OF 'v' POINTS HERE!\n",
    "  target = (H_mean,)\n",
    "  error = (H_range,)\n",
    "\n",
    "  w_lower = [0.0]\n",
    "  w_upper = [1.0]\n",
    "  h_lower = [60.0];  a_lower = [0.0];  v_lower = [2.1]\n",
    "  h_upper = [105.0]; a_upper = [30.0]; v_upper = [2.8]\n",
    "\n",
    "  lower_bounds = (nx * w_lower) + (nx * h_lower) \\\n",
    "               + (ny * w_lower) + (ny * a_lower) \\\n",
    "               + (nz * w_lower) + (nz * v_lower) \n",
    "  upper_bounds = (nx * w_upper) + (nx * h_upper) \\\n",
    "               + (ny * w_upper) + (ny * a_upper) \\\n",
    "               + (nz * w_upper) + (nz * v_upper) \n",
    "\n",
    "  print(\"...SETTINGS...\")\n",
    "  print(\"npop = %s\" % npop)\n",
    "  print(\"maxiter = %s\" % maxiter)\n",
    "  print(\"maxfun = %s\" % maxfun)\n",
    "  print(\"convergence_tol = %s\" % convergence_tol)\n",
    "  print(\"crossover = %s\" % crossover)\n",
    "  print(\"percent_change = %s\" % percent_change)\n",
    "  print(\"..............\\n\")\n",
    "\n",
    "  print(\" model: f(x) = %s(x)\" % function_name)\n",
    "  print(\" target: %s\" % str(target))\n",
    "  print(\" error: %s\" % str(error))\n",
    "  print(\" npts: %s\" % str((nx,ny,nz)))\n",
    "  print(\"..............\\n\")\n",
    "\n",
    "  param_string = \"[\"\n",
    "  for i in range(nx):\n",
    "    param_string += \"'wx%s', \" % str(i+1)\n",
    "  for i in range(nx):\n",
    "    param_string += \"'x%s', \" % str(i+1)\n",
    "  for i in range(ny):\n",
    "    param_string += \"'wy%s', \" % str(i+1)\n",
    "  for i in range(ny):\n",
    "    param_string += \"'y%s', \" % str(i+1)\n",
    "  for i in range(nz):\n",
    "    param_string += \"'wz%s', \" % str(i+1)\n",
    "  for i in range(nz):\n",
    "    param_string += \"'z%s', \" % str(i+1)\n",
    "  param_string = param_string[:-2] + \"]\"\n",
    "\n",
    "  print(\" parameters: %s\" % param_string)\n",
    "  print(\" lower bounds: %s\" % lower_bounds)\n",
    "  print(\" upper bounds: %s\" % upper_bounds)\n",
    "  pars = (target,error)\n",
    "  npts = (nx,ny,nz)\n",
    "  bounds = (lower_bounds,upper_bounds)\n",
    "  solved, diameter = maximize(pars,npts,bounds)\n",
    "\n",
    "  from numpy import array\n",
    "  from mystic.math.discrete import product_measure\n",
    "  c = product_measure().load(solved,npts)\n",
    "  print(\"solved: [wx,x]\\n%s\" % array(list(zip(c[0].weights,c[0].positions))))\n",
    "  print(\"solved: [wy,y]\\n%s\" % array(list(zip(c[1].weights,c[1].positions))))\n",
    "  print(\"solved: [wz,z]\\n%s\" % array(list(zip(c[2].weights,c[2].positions))))\n",
    "\n",
    "  print(\"expect: %s\" % str( c.expect(model) ))"
   ]
  }
 ],
 "metadata": {
  "kernelspec": {
   "display_name": "Python 3 (ipykernel)",
   "language": "python",
   "name": "python3"
  },
  "language_info": {
   "codemirror_mode": {
    "name": "ipython",
    "version": 3
   },
   "file_extension": ".py",
   "mimetype": "text/x-python",
   "name": "python",
   "nbconvert_exporter": "python",
   "pygments_lexer": "ipython3",
   "version": "3.8.13"
  }
 },
 "nbformat": 4,
 "nbformat_minor": 2
}

{
 "cells": [
  {
   "cell_type": "markdown",
   "id": "a4267b75",
   "metadata": {},
   "source": [
    "# Use a surrogate model to find the minimum of an expensive cost function\n",
    "\n",
    "Sometimes our cost function can be expensive to compute, e.g. it may take 10 seconds to compute one value of our cost function and so calling it hundreds or thousands of times in an optimization may take hours.\n",
    "\n",
    "One way to evaluate the minimum of an expensive cost function is to create a surrogate model.\n",
    "We can quickly evaluate the surrogate model, so we can call an optimization on the surrogate model to find its minimum.\n",
    "Then we can evaluate the the expensive cost function at that point and compare.\n",
    "This can result in a small number of calls to the cost function itself, but still find the minimum.\n",
    "\n",
    "The key concepts you should gain from this page:\n",
    "\n",
    " * How to create a surrogate model of an expensive cost function and use the surrogate model to guide the optimization."
   ]
  },
  {
   "cell_type": "markdown",
   "id": "71a00559",
   "metadata": {},
   "source": [
    "## An interpolated surrogate model\n",
    "\n",
    "We start by defining a cost function like below.\n",
    "This should look familar from the previous section."
   ]
  },
  {
   "cell_type": "code",
   "execution_count": 1,
   "id": "24089f94",
   "metadata": {},
   "outputs": [],
   "source": [
    "import numpy\n",
    "from scipy import stats\n",
    "\n",
    "def function(p):\n",
    "    \"\"\" Executed for each set of drawn parameters in the optimization search.\n",
    "    \"\"\"\n",
    "\n",
    "    # get the x and y values from Mystic\n",
    "    x, y = p[0], p[1]\n",
    "\n",
    "    # get value at Gaussian function x and y\n",
    "    var = stats.multivariate_normal(mean=[0, 0], cov=[[0.5, 0],[0, 0.5]])\n",
    "    gauss = -50.0 * var.pdf([x, y])\n",
    "\n",
    "    # get value at volcano function x and y\n",
    "    r = numpy.sqrt(x**2 + y**2)\n",
    "    mu, sigma = 5.0, 1.0\n",
    "    stat = 10.0 * (numpy.exp(-r / 35.0) + 1.0 /\n",
    "                   (sigma * numpy.sqrt(2.0 * numpy.pi)) *\n",
    "                    numpy.exp(-0.5 * ((r - mu) / sigma) ** 2)) + gauss\n",
    "\n",
    "    # whether to flip sign of function\n",
    "    # a positive lets you search for minimum\n",
    "    # a negative lets you search for maximum\n",
    "    stat *= 1.0\n",
    "\n",
    "    return stat"
   ]
  },
  {
   "cell_type": "markdown",
   "id": "438db53a",
   "metadata": {},
   "source": [
    "Now we are going to use a ``WrapModel``.\n",
    "We sample for just a few points (e.g. 5) to create an initial surrogate model.\n",
    "Then use ``InterpModel`` to create the surrogate model.\n",
    "We are going to create a ``while`` loop that goes until the error between our surrogate model and the optimization search reaches below a threshold.\n",
    "At each iteration of the ``while`` loop we are going to:\n",
    "\n",
    " 1. Update our surrogate model.\n",
    " 2. Find the minimum of the surrogate model.\n",
    " 3. Compute our cost function at that minimum.\n",
    " 4. Compare the value of the minimum at the surrogate and the cost function."
   ]
  },
  {
   "cell_type": "code",
   "execution_count": 3,
   "id": "b779299f",
   "metadata": {},
   "outputs": [
    {
     "name": "stdout",
     "output_type": "stream",
     "text": [
      "Warning: Maximum number of iterations has been exceeded\n",
      "truth [9.5, -9.499999999999995] 6.812281772380233\n",
      "surrogate [9.5, -9.499999999999995] -16.239049484486497\n",
      "error 23.05133125686673 23.05133125686673\n",
      "data 9\n",
      "Warning: Maximum number of iterations has been exceeded\n",
      "truth [-0.0004929410254516418, 0.0004929455607835783] -5.915670832562705\n",
      "surrogate [-0.0004929410254516418, 0.0004929455607835783] -5.9154857087032156\n",
      "error -0.00018512385948987742 0.00018512385948987742\n",
      "data 10\n"
     ]
    }
   ],
   "source": [
    "from spotlight.bridge.ouq_models import WrapModel\n",
    "from spotlight.bridge.ouq_models import InterpModel\n",
    "from mystic.solvers import diffev2\n",
    "from mystic.monitors import VerboseLoggingMonitor\n",
    "from mystic.models import AbstractFunction\n",
    "from scipy import stats\n",
    "from mystic.models import rosen\n",
    "from mystic.solvers import BuckshotSolver\n",
    "from mystic.termination import VTR\n",
    "from mystic.solvers import NelderMeadSimplexSolver, PowellDirectionalSolver\n",
    "from pathos.pools import ProcessPool as Pool\n",
    "from mystic import tools\n",
    "from mystic.math.legacydata import dataset, datapoint\n",
    "\n",
    "# set random seed so we can reproduce results\n",
    "tools.random_seed(0)\n",
    "\n",
    "# generate a sampled dataset for the model\n",
    "truth = WrapModel(\"tmp\", function, nx=2, ny=None, cached=False)\n",
    "bounds = [(-9.5,9.5),(-9.5,9.5)]\n",
    "data = truth.sample(bounds, pts=5)\n",
    "\n",
    "# create surrogate model\n",
    "kwds = dict(smooth=0.0, noise=0.0, method=\"thin_plate\", extrap=False)\n",
    "surrogate = InterpModel(\"surrogate\", nx=2, ny=None, data=truth, **kwds)\n",
    "\n",
    "# go until error < 1e-3\n",
    "error = float(\"inf\")\n",
    "sign = 1.0\n",
    "while error > 1e-3:\n",
    "\n",
    "    # fit surrogate data\n",
    "    surrogate.fit(data=data)\n",
    "\n",
    "    # find minimum/maximum of surrogate\n",
    "    args = dict(bounds=bounds, gtol=500, full_output=True)\n",
    "    results = diffev2(lambda x: sign * surrogate(x), bounds, npop=20, **args)\n",
    "\n",
    "    # get minimum/maximum of actual expensive model\n",
    "    xnew = results[0].tolist()\n",
    "    ynew = truth(xnew)\n",
    "\n",
    "    # compute error which is actual model value - surrogate model value\n",
    "    ysur = results[1]\n",
    "    error = abs(ynew - ysur)\n",
    "\n",
    "    # print statements\n",
    "    print(\"truth\", xnew, ynew)\n",
    "    print(\"surrogate\", xnew, ysur)\n",
    "    print(\"error\", ynew - ysur, error)\n",
    "    print(\"data\", len(data))\n",
    "\n",
    "    # add latest evaulated point with actual expensive model to be used by surrogate in fitting\n",
    "    pt = datapoint(xnew, value=ynew)\n",
    "    data.append(pt)"
   ]
  },
  {
   "cell_type": "markdown",
   "id": "8bee5a0c",
   "metadata": {},
   "source": [
    "We can also plot the surface our surrogate model to see what it currently looks like."
   ]
  },
  {
   "cell_type": "code",
   "execution_count": 4,
   "id": "b792e24a",
   "metadata": {},
   "outputs": [
    {
     "data": {
      "image/png": "[encoded data removed]",
      "text/plain": [
       "<Figure size 432x288 with 1 Axes>"
      ]
     },
     "metadata": {
      "needs_background": "light"
     },
     "output_type": "display_data"
    }
   ],
   "source": [
    "import mystic\n",
    "# show what our model currently looks like\n",
    "mystic.model_plotter(lambda x: surrogate(x), depth=True, fill=True, bounds='-9.5:9.5,-9.5:9.5')"
   ]
  },
  {
   "cell_type": "markdown",
   "id": "638329b2",
   "metadata": {},
   "source": [
    "## ML surrogate models\n",
    "\n",
    "Instead of interpolating the surface, we can use a machine learning technique such as an artificial neural network (ANN) or a Gaussian process regressor.\n",
    "Below, we show an example of using a Gaussian process regressor to accomplish the same analysis.\n",
    "You can change ``method`` below to switch between the Gaussian process regressor and an ANN."
   ]
  },
  {
   "cell_type": "code",
   "execution_count": 11,
   "id": "63541982",
   "metadata": {},
   "outputs": [
    {
     "name": "stdout",
     "output_type": "stream",
     "text": [
      "score = 1.0\n",
      "score = 1.0\n",
      "score = 1.0\n",
      "score = 1.0\n",
      "score = 1.0\n",
      "score = 1.0\n",
      "score = 1.0\n",
      "score = 1.0\n",
      "score = 1.0\n",
      "score = 1.0\n",
      "score = 1.0\n",
      "score = 1.0\n",
      "score = 1.0\n",
      "reached max tries\n",
      "no improvement\n",
      "Warning: Maximum number of iterations has been exceeded\n",
      "truth [6.197898177873798e-08, 2.019894758810447e-08] -5.915479460614437\n",
      "surrogate [6.197898177873798e-08, 2.019894758810447e-08] -5.915479384931473\n",
      "error -7.568296389592888e-08 7.568296389592888e-08\n",
      "data 5\n"
     ]
    }
   ],
   "source": [
    "from sklearn.gaussian_process import GaussianProcessRegressor as GPRegressor\n",
    "from sklearn.gaussian_process.kernels import RBF, WhiteKernel\n",
    "from sklearn.neural_network import MLPRegressor\n",
    "from sklearn.preprocessing import StandardScaler\n",
    "from spotlight.bridge.ml import Estimator, MLData, improve_score\n",
    "from spotlight.bridge.ouq_models import LearnedModel\n",
    "\n",
    "# set random seed so we can reproduce results\n",
    "tools.random_seed(0)\n",
    "\n",
    "# generate a sampled dataset for the model\n",
    "truth = WrapModel(\"tmp\", function, nx=2, ny=None, cached=False)\n",
    "bounds = [(-9.5,9.5),(-9.5,9.5)]\n",
    "data = truth.sample(bounds, pts=5)\n",
    "\n",
    "# create surrogate model\n",
    "method = \"gp\"\n",
    "if method == \"gp\":\n",
    "    kernel = RBF(length_scale=1.0, length_scale_bounds=(1e-05, 100000.0))\n",
    "    regressor = GPRegressor(alpha=1e-10, optimizer=None, n_restarts_optimizer=0, kernel=kernel)\n",
    "    gpr = Estimator(estimator=regressor, transform=StandardScaler())\n",
    "    best = improve_score(gpr, MLData(data.coords, data.coords, data.values, data.values), tries=10, verbose=True)\n",
    "    surrogate = LearnedModel(\"surrogate\", nx=2, ny=None, data=truth, estimator=best.estimator, transform=best.transform)\n",
    "else:\n",
    "    regressor = MLPRegressor(hidden_layer_sizes=(100,75,50,25),  max_iter=1000, n_iter_no_change=5, solver='lbfgs', learning_rate_init=0.001)\n",
    "    mlp = Estimator(estimator=regressor, transform=StandardScaler())\n",
    "    best = improve_score(mlp, MLData(data.coords, data.coords, data.values, data.values), tries=10, verbose=True)\n",
    "    surrogate = LearnedModel('surrogate', nx=2, ny=None, data=truth, estimator=best.estimator, transform=best.transform)\n",
    "    \n",
    "# go until error < 1e-3\n",
    "error = float(\"inf\")\n",
    "sign = 1.0\n",
    "while error > 1e-3:\n",
    "\n",
    "    # fit surrogate data\n",
    "    surrogate.fit(data=data)\n",
    "\n",
    "    # find minimum/maximum of surrogate\n",
    "    args = dict(bounds=bounds, gtol=500, full_output=True)\n",
    "    results = diffev2(lambda x: sign * surrogate(x), bounds, npop=20, **args)\n",
    "\n",
    "    # get minimum/maximum of actual expensive model\n",
    "    xnew = results[0].tolist()\n",
    "    ynew = truth(xnew)\n",
    "\n",
    "    # compute error which is actual model value - surrogate model value\n",
    "    ysur = results[1]\n",
    "    error = abs(ynew - ysur)\n",
    "\n",
    "    # print statements\n",
    "    print(\"truth\", xnew, ynew)\n",
    "    print(\"surrogate\", xnew, ysur)\n",
    "    print(\"error\", ynew - ysur, error)\n",
    "    print(\"data\", len(data))\n",
    "\n",
    "    # add latest evaulated point with actual expensive model to be used by surrogate in fitting\n",
    "    pt = datapoint(xnew, value=ynew)\n",
    "    data.append(pt)"
   ]
  },
  {
   "cell_type": "markdown",
   "id": "28abdd2d",
   "metadata": {},
   "source": [
    "You should now have an understand how to implement an optimization search if the cost function is expensive to compute. We will now move on to how the topics we have covered on the prior pages can be implemented in a Rietveld analysis using MILK.\n",
    "\n",
    "This tutorial is not meant as a comphrehensive tutorial on Mystic.\n",
    "For more Mystic documentation and examples, you can check out the [Mystic Documentation](https://mystic.readthedocs.io/en/latest/)."
   ]
  }
 ],
 "metadata": {
  "kernelspec": {
   "display_name": "Python 3 (ipykernel)",
   "language": "python",
   "name": "python3"
  },
  "language_info": {
   "codemirror_mode": {
    "name": "ipython",
    "version": 3
   },
   "file_extension": ".py",
   "mimetype": "text/x-python",
   "name": "python",
   "nbconvert_exporter": "python",
   "pygments_lexer": "ipython3",
   "version": "3.8.13"
  }
 },
 "nbformat": 4,
 "nbformat_minor": 5
}
